{
 "cells": [
  {
   "cell_type": "markdown",
   "metadata": {},
   "source": [
    "## Import Libraries"
   ]
  },
  {
   "cell_type": "code",
   "execution_count": 1,
   "metadata": {},
   "outputs": [],
   "source": [
    "import os\n",
    "import sys"
   ]
  },
  {
   "cell_type": "markdown",
   "metadata": {},
   "source": [
    "## Read text from PDF\n",
    "##### Provide the path of PDF file before initialized everything"
   ]
  },
  {
   "cell_type": "code",
   "execution_count": 2,
   "metadata": {},
   "outputs": [],
   "source": [
    "data='data.pdf'"
   ]
  },
  {
   "cell_type": "code",
   "execution_count": 3,
   "metadata": {},
   "outputs": [
    {
     "data": {
      "text/plain": [
       "'data.pdf'"
      ]
     },
     "execution_count": 3,
     "metadata": {},
     "output_type": "execute_result"
    }
   ],
   "source": [
    "data"
   ]
  },
  {
   "cell_type": "markdown",
   "metadata": {},
   "source": [
    "## Extract data by reading"
   ]
  },
  {
   "cell_type": "code",
   "execution_count": 4,
   "metadata": {},
   "outputs": [],
   "source": [
    "import PyPDF2\n",
    "from docx import Document"
   ]
  },
  {
   "cell_type": "code",
   "execution_count": 5,
   "metadata": {},
   "outputs": [],
   "source": [
    "def extract_text_pdf(pdf):\n",
    "    text = \"\"\n",
    "    reader = PyPDF2.PdfReader(pdf)\n",
    "    for page in reader.pages:\n",
    "        text += page.extract_text() or \"\"\n",
    "    return text"
   ]
  },
  {
   "cell_type": "code",
   "execution_count": 6,
   "metadata": {},
   "outputs": [],
   "source": [
    "def extract_text_docx(docx):\n",
    "    doc = Document(docx)\n",
    "    text = \"\"\n",
    "    for paragraph in doc.paragraphs:\n",
    "        text += paragraph.text + \"\\n\"\n",
    "    return text"
   ]
  },
  {
   "cell_type": "code",
   "execution_count": 7,
   "metadata": {},
   "outputs": [
    {
     "data": {
      "text/plain": [
       "'The file can be any pdf or any docs. read the pdf/docs and go through each and every pages and extract the text'"
      ]
     },
     "execution_count": 7,
     "metadata": {},
     "output_type": "execute_result"
    }
   ],
   "source": [
    "'''def get_pdf_text(pdf_docs):\n",
    "    text =\"\"\n",
    "    for pdf in pdf_docs:\n",
    "        pdf_reader =PyPDF2.PdfReader(pdf_docs) \n",
    "        for page in pdf_reader.pages:\n",
    "            text += page.extract_text()\n",
    "    return text'''\n",
    "\n",
    "\n",
    "\n",
    "'''The file can be any pdf or any docs. read the pdf/docs and go through each and every pages and extract the text'''\n"
   ]
  },
  {
   "cell_type": "code",
   "execution_count": 8,
   "metadata": {},
   "outputs": [],
   "source": [
    "def extract(doc):\n",
    "    _, file_extension = doc.split('.')\n",
    "    print(file_extension)\n",
    "    if file_extension == 'pdf':\n",
    "        return extract_text_pdf(doc)\n",
    "    elif file_extension == 'docx':\n",
    "        return extract_text_docx(doc)\n",
    "    else:\n",
    "        raise ValueError(\"Unsupported file format\")"
   ]
  },
  {
   "cell_type": "code",
   "execution_count": 9,
   "metadata": {},
   "outputs": [
    {
     "name": "stdout",
     "output_type": "stream",
     "text": [
      "pdf\n"
     ]
    }
   ],
   "source": [
    "text_data=extract(data)\n"
   ]
  },
  {
   "cell_type": "code",
   "execution_count": 10,
   "metadata": {},
   "outputs": [],
   "source": [
    "#print(text_data)"
   ]
  },
  {
   "cell_type": "markdown",
   "metadata": {},
   "source": [
    "### Convert each text into chunks\n",
    "##### need to split the text using CharacterTextSplitter (which is basically present in Langchain.text_splitter) such that it should not increase token size\n"
   ]
  },
  {
   "cell_type": "code",
   "execution_count": 11,
   "metadata": {},
   "outputs": [],
   "source": [
    "from langchain.text_splitter import CharacterTextSplitter"
   ]
  },
  {
   "cell_type": "code",
   "execution_count": 12,
   "metadata": {},
   "outputs": [],
   "source": [
    "text_splitter = CharacterTextSplitter(\n",
    "    separator=\"\\n\",\n",
    "    chunk_size =1300,\n",
    "    chunk_overlap =300,\n",
    "    length_function =len,\n",
    "\n",
    "    )"
   ]
  },
  {
   "cell_type": "code",
   "execution_count": 13,
   "metadata": {},
   "outputs": [],
   "source": [
    "chunks = text_splitter.split_text(text_data)\n",
    "\n",
    "#taking the particular text & splitting based on information"
   ]
  },
  {
   "cell_type": "code",
   "execution_count": 14,
   "metadata": {},
   "outputs": [
    {
     "data": {
      "text/plain": [
       "60"
      ]
     },
     "execution_count": 14,
     "metadata": {},
     "output_type": "execute_result"
    }
   ],
   "source": [
    "len(chunks)"
   ]
  },
  {
   "cell_type": "code",
   "execution_count": 15,
   "metadata": {},
   "outputs": [
    {
     "name": "stdout",
     "output_type": "stream",
     "text": [
      "University of Ruhuna \n",
      "Faculty of Science \n",
      "Matara, Sri Lanka  \n",
      " \n",
      "Student  Handbook  - 2020  \n",
      " \n",
      " \n",
      " \n",
      "Bachelor  of Science \n",
      "And  \n",
      "Bachelor of Computer Science \n",
      "(General and Honours) Degree \n",
      "Programmes  \n",
      " \n",
      "2019/2020\n",
      "2   \n",
      " \n",
      "Department  of Computer  Science  53 \n",
      "1.1 Research  Areas  ................................ ................................ ................................ ...............  53 \n",
      "1.2 Head  of the Department  ................................ ................................ ................................  54 \n",
      "1.3 Members  of Academic  Staff ................................ ................................ ...........................  54 \n",
      "1.4 Members  of the Academic  Support  Staff ................................ ................................ ..... 55 \n",
      "1.5 Course  Units  in Computer  Science  for B.Sc.  (General)  Degree  ..............................  55 \n",
      "1.6 ICT Course  units  of Bachelor  of Science  (General)  Degree  ................................ ..... 59 \n",
      "1.7 Bachelor  of Computer  Science  (General)  Degree  ................................ .......................  59 \n",
      "1.7.1 Course  units  for Bachelor  of Computer  Science  (General)  Degree  (BCS)  60\n"
     ]
    }
   ],
   "source": [
    "print(chunks[0])"
   ]
  },
  {
   "cell_type": "code",
   "execution_count": 16,
   "metadata": {},
   "outputs": [],
   "source": [
    "#print(chunks)"
   ]
  },
  {
   "cell_type": "markdown",
   "metadata": {},
   "source": [
    "## Convert chunks into vectors(Text Embeddings)"
   ]
  },
  {
   "cell_type": "code",
   "execution_count": 17,
   "metadata": {},
   "outputs": [
    {
     "name": "stderr",
     "output_type": "stream",
     "text": [
      "c:\\Users\\acer\\OneDrive\\Desktop\\QA\\AI_QA\\venv\\Lib\\site-packages\\langchain_core\\_api\\deprecation.py:139: LangChainDeprecationWarning: The class `OpenAIEmbeddings` was deprecated in LangChain 0.0.9 and will be removed in 0.3.0. An updated version of the class exists in the langchain-openai package and should be used instead. To use it run `pip install -U langchain-openai` and import as `from langchain_openai import OpenAIEmbeddings`.\n",
      "  warn_deprecated(\n"
     ]
    }
   ],
   "source": [
    "import os\n",
    "#Import 'OpenAIEmbeddings class'\n",
    "from langchain.embeddings import OpenAIEmbeddings\n",
    "\n",
    "from langchain_community.vectorstores import FAISS\n",
    "#initialize the connection of my db\n",
    "\n",
    "# Load environment variables from the .env file\n",
    "from dotenv import load_dotenv,find_dotenv\n",
    "load_dotenv(find_dotenv()) \n",
    "\n",
    "# Retrieve the OpenAI API key from the environment variables\n",
    "OPENAI_API_KEY = os.environ.get(\"OPENAI_API_KEY\")\n",
    "\n",
    "# Ensure the API key is available\n",
    "if OPENAI_API_KEY is None:\n",
    "    raise ValueError(\"OpenAI API key not found. Please set it in the .env file.\")\n",
    "\n",
    "# Initialize OpenAIEmbeddings with your API key\n",
    "embedding = OpenAIEmbeddings(openai_api_key = OPENAI_API_KEY)\n",
    "\n"
   ]
  },
  {
   "cell_type": "code",
   "execution_count": 18,
   "metadata": {},
   "outputs": [],
   "source": [
    "#store in the vector db \n",
    "db = FAISS.from_texts(texts = chunks,embedding = embedding)"
   ]
  },
  {
   "cell_type": "code",
   "execution_count": 19,
   "metadata": {},
   "outputs": [],
   "source": [
    "if os.path.exists(\"vectorstore/index.pkl\"):\n",
    "    # Load the existing vector store\n",
    "    db = FAISS.load_local(\"vectorstore\", embedding,allow_dangerous_deserialization=True)\n",
    "else:\n",
    "    # Create a new vector store from the text chunks\n",
    "    db = FAISS.from_texts(texts=chunks, embedding=embedding)\n",
    "    # Save the newly created vector store locally\n",
    "    db.save_local(\"vectorstore\")"
   ]
  },
  {
   "cell_type": "markdown",
   "metadata": {},
   "source": [
    "### Similarity Check"
   ]
  },
  {
   "cell_type": "code",
   "execution_count": 20,
   "metadata": {},
   "outputs": [],
   "source": [
    "#query = \"what are the Minimum Requirement for the Completion of the Bachelor of Computer Science Honours Degree ?\"\n",
    "query = \"who are the lecturers in computer science department with their designation and their qualifications\"\n",
    "docs = db.similarity_search(query)"
   ]
  },
  {
   "cell_type": "code",
   "execution_count": 21,
   "metadata": {},
   "outputs": [
    {
     "data": {
      "text/plain": [
       "4"
      ]
     },
     "execution_count": 21,
     "metadata": {},
     "output_type": "execute_result"
    }
   ],
   "source": [
    "len(docs)"
   ]
  },
  {
   "cell_type": "code",
   "execution_count": 22,
   "metadata": {},
   "outputs": [
    {
     "name": "stdout",
     "output_type": "stream",
     "text": [
      "page_content='Lecturer  \n",
      " \n",
      " \n",
      " \n",
      " \n",
      " \n",
      " \n",
      " \n",
      "Probationary \n",
      "Lecturer  Dr. W. A. Mohotti  \n",
      "B.Sc.  IT (Moratuwa, SL) \n",
      "M.Sc.  in IT (Moratuwa,  SL) \n",
      "Ph.D.  (QUT,  Australia)  Data  Mining  and Machine  Learning,  \n",
      "Text Clustering, Outlier Detection, and \n",
      "Cluster Evolution, Social Media Analytics  \n",
      "Dr. D. W. C. P. Kumari  \n",
      "B. Sc.  in Comp.  Sci. (UCSC, SL) \n",
      "M.Phil.  (UCSC, SL)  \n",
      "PhD (QUT, Australia) \n",
      "(On Leave)  \n",
      "Mr. K. D. C. G. Kapugama \n",
      "BCS (Ruhuna, SL)  \n",
      "Reading  for PhD  (Monash,  Australia)  \n",
      "(On Leave)  Information  Security,  Process  \n",
      "Analytics, Mathematical \n",
      "Modelling,  Event  log analysis \n",
      "Data Structure & Algorithms \n",
      "Evolutionary Algorithms  \n",
      "Data Mining, Text Mining  \n",
      "Mr. P. D. T. Chathuranga  \n",
      "BCS (Ruhuna,  SL) Natural  Language  Processing,  \n",
      "Sentiment  Analysis,  Text  Mining,  \n",
      "Machine  Learning  \n",
      "Mr. L.L. Gihan  Chathuranga  \n",
      "B.Sc  (Sabaragamuwa,  S.L) Machine  Learning,  Artificial  Neural  \n",
      "Networks,  Artificial  Intelligence,  \n",
      "Data  mining  \n",
      "Ms. H.D.  Supuni  Shashikala  \n",
      "B.Sc.  (UWU,  S.L.),  \n",
      "Reading  for M.Sc.  (Peradeniya,  S.L.)  Machine  Learning,  Feature  Extraction,  \n",
      "Deep  Learning  \n",
      "1.4 Members  of the Academic  Support  Staff  \n",
      " \n",
      "Academic  Supportive  Staff  Members  \n",
      "Designation  Name  \n",
      "Programmer  Cum  Systems  Analyst  Mr. H. G. U. Harankahadeniya'\n"
     ]
    }
   ],
   "source": [
    "print(docs[0])"
   ]
  },
  {
   "cell_type": "code",
   "execution_count": 23,
   "metadata": {},
   "outputs": [],
   "source": [
    "docs = db.similarity_search_with_score(query)"
   ]
  },
  {
   "cell_type": "code",
   "execution_count": 24,
   "metadata": {},
   "outputs": [
    {
     "data": {
      "text/plain": [
       "(Document(page_content='Lecturer  \\n \\n \\n \\n \\n \\n \\n \\nProbationary \\nLecturer  Dr. W. A. Mohotti  \\nB.Sc.  IT (Moratuwa, SL) \\nM.Sc.  in IT (Moratuwa,  SL) \\nPh.D.  (QUT,  Australia)  Data  Mining  and Machine  Learning,  \\nText Clustering, Outlier Detection, and \\nCluster Evolution, Social Media Analytics  \\nDr. D. W. C. P. Kumari  \\nB. Sc.  in Comp.  Sci. (UCSC, SL) \\nM.Phil.  (UCSC, SL)  \\nPhD (QUT, Australia) \\n(On Leave)  \\nMr. K. D. C. G. Kapugama \\nBCS (Ruhuna, SL)  \\nReading  for PhD  (Monash,  Australia)  \\n(On Leave)  Information  Security,  Process  \\nAnalytics, Mathematical \\nModelling,  Event  log analysis \\nData Structure & Algorithms \\nEvolutionary Algorithms  \\nData Mining, Text Mining  \\nMr. P. D. T. Chathuranga  \\nBCS (Ruhuna,  SL) Natural  Language  Processing,  \\nSentiment  Analysis,  Text  Mining,  \\nMachine  Learning  \\nMr. L.L. Gihan  Chathuranga  \\nB.Sc  (Sabaragamuwa,  S.L) Machine  Learning,  Artificial  Neural  \\nNetworks,  Artificial  Intelligence,  \\nData  mining  \\nMs. H.D.  Supuni  Shashikala  \\nB.Sc.  (UWU,  S.L.),  \\nReading  for M.Sc.  (Peradeniya,  S.L.)  Machine  Learning,  Feature  Extraction,  \\nDeep  Learning  \\n1.4 Members  of the Academic  Support  Staff  \\n \\nAcademic  Supportive  Staff  Members  \\nDesignation  Name  \\nProgrammer  Cum  Systems  Analyst  Mr. H. G. U. Harankahadeniya'),\n",
       " 0.31282628)"
      ]
     },
     "execution_count": 24,
     "metadata": {},
     "output_type": "execute_result"
    }
   ],
   "source": [
    "docs[0]"
   ]
  },
  {
   "cell_type": "code",
   "execution_count": 25,
   "metadata": {},
   "outputs": [
    {
     "data": {
      "text/plain": [
       "(Document(page_content='B.Sc.  (UWU,  S.L.),  \\nReading  for M.Sc.  (Peradeniya,  S.L.)  Machine  Learning,  Feature  Extraction,  \\nDeep  Learning  \\n1.4 Members  of the Academic  Support  Staff  \\n \\nAcademic  Supportive  Staff  Members  \\nDesignation  Name  \\nProgrammer  Cum  Systems  Analyst  Mr. H. G. U. Harankahadeniya  \\nMr. B. H. Saranapala  \\nMr. A. P. Luwishewa  \\nInstructor  in Computer  Technology  Ms. P. B. N. K. De Silva  \\nMr. U. V. Malawara  Arachchi \\nMs. W.P. Priyanthi  \\nMr. R. Wickramaratne \\nMr. C.L. Wimalaratne \\nMs. G.K. Mabula  \\nMr. L.W.  Wellakkage \\nMr. G.M.T. Ranjana \\nMrs.  W. K. Shajith  \\nMiss.  H. G. S. Priyangani  \\n \\n \\n1.5 Course  Units  in Computer  Science  for B.Sc.  (General)  Degree  \\nLevel  I - Semester  I \\nCOM1111:   Basic  Concepts  of Information  Technology  (15 lecture  hrs.)    Overview  \\nof Computer System, Function of Computer System, Input/Output Peripherals, Computer \\nStorages, Systems Software, Data type and Data representation, Computer Arithmetic, Ap - \\nplication software, Computer and Communication, The Internet, Computer security and \\nMaintenances, Ethical use of computer  \\nEvaluation  Method  : End  Semester  Examination  6  COM112 β: Programming Techniques (30 lecture hrs.  & 22.5 practical hrs.)  In-'),\n",
       " 0.4034102)"
      ]
     },
     "execution_count": 25,
     "metadata": {},
     "output_type": "execute_result"
    }
   ],
   "source": [
    "docs[1]"
   ]
  },
  {
   "cell_type": "code",
   "execution_count": 26,
   "metadata": {},
   "outputs": [
    {
     "data": {
      "text/plain": [
       "(Document(page_content='Rule Modeling  \\n• Network  Monitoring  and Acquiring  and Managing  Information  \\n• E-commerce information systems development, Model -drivers design, Goal, Business  \\n& service Modelling  \\n• Computational Geometry, Computer Graphics programming, Design and Analysis of \\nAlgorithms, Graph Theory  \\n• Computational Systems Biology, Bioinformatics, Modelling and Simulation, Neural \\nComputing, stochastic modelling  \\n• Embedded  Systems,  reconfigurable  computing,  Bioinformatics  \\n• Knowledge Representation, Ontology, Semantic Web, Ontology Engineering, Mobile \\nApplications  4  1.2 Head  of the Department  \\nDr. W.A.  Indika  \\nB.Sc.  (Kelaniya,  S.L.),  M.Sc.  (Kelaniya,  S.L.),  PhD  (UCSC,  S.L.)  \\n \\n1.3 Members  of Academic  Staff  \\n \\n \\nDesignation  Name  Specialization  \\nSenior  \\nLecturer  Mr. S. A. S. Lorensuhewa  \\nB.Sc.  (Colombo, SL) \\nM.Sc.  (Zhejiang,  China)  Computer  Applications,  Text  Mining  and \\nText Classification Data Mining, \\nRule Extraction and  \\nKnowledge  Representation,  \\nApplications  of Machine  Learning  Techniques  \\nDr. W. A. Indika  \\nB.Sc.  (Kelaniya,  S.L.)  \\nM.Sc.  (Kelaniya,  S.L.)  \\nPhD  (UCSC,  S.L)  Knowledge  Representation,  \\nOntology, Semantic Web, \\nOntology Engineering, Mobile  \\nApplications  \\nDr. J. A. Jeewanie  \\nB.Sc.  (Kelaniya,  SL)'),\n",
       " 0.41568395)"
      ]
     },
     "execution_count": 26,
     "metadata": {},
     "output_type": "execute_result"
    }
   ],
   "source": [
    "docs[2]"
   ]
  },
  {
   "cell_type": "code",
   "execution_count": 27,
   "metadata": {},
   "outputs": [
    {
     "data": {
      "text/plain": [
       "(Document(page_content='get experience  on issues  related  to industry.  At the end of the training,  the students  should \\nmake a presentation of their findings and submit a report.  \\nEvaluation  Method:  Dairy,  Report,  Presentation  \\n \\n1.8 Bachelor  of Computer  Science  (Honours)  Degree  \\nA limited number of students are selected to follow the Bachelor of Computer Science (Hon - \\nours) degree programme after completion of three academic years of Bachelor of computer \\nscience (General Degree Programme).  The selection of  students is done according to their \\nacademic performance during Level I, Level II and Level III of the BCS (General) degree \\nprogramme.  \\n \\n1.8.1  Criteria  for Selection  to the BCS  (Honours)  Degree  Programme  \\n1. The Department  of Computer  Science  shall  determine  the number  of students  to be \\nadmitted each year.  \\n2. A student shall be eligible to apply if he/she has fulfilled the following requirements at \\nthe completion of the Level III of the Bachelor of Computer Science (General) Degree:  \\n(a) A minimum of  90 cred its, \\n(b) grades  of B- or better  for 80%  of Computer  Science  course  units,  \\n(c) grades of C or better from theory aggregating to a minimum of 60% credits from \\nMathematics course units,'),\n",
       " 0.4283284)"
      ]
     },
     "execution_count": 27,
     "metadata": {},
     "output_type": "execute_result"
    }
   ],
   "source": [
    "docs[3]"
   ]
  },
  {
   "cell_type": "code",
   "execution_count": 28,
   "metadata": {},
   "outputs": [],
   "source": [
    "#docs[4]"
   ]
  },
  {
   "cell_type": "markdown",
   "metadata": {},
   "source": [
    "### Similarity Check by Vector"
   ]
  },
  {
   "cell_type": "code",
   "execution_count": 29,
   "metadata": {},
   "outputs": [
    {
     "name": "stdout",
     "output_type": "stream",
     "text": [
      "Lecturer  \n",
      " \n",
      " \n",
      " \n",
      " \n",
      " \n",
      " \n",
      " \n",
      "Probationary \n",
      "Lecturer  Dr. W. A. Mohotti  \n",
      "B.Sc.  IT (Moratuwa, SL) \n",
      "M.Sc.  in IT (Moratuwa,  SL) \n",
      "Ph.D.  (QUT,  Australia)  Data  Mining  and Machine  Learning,  \n",
      "Text Clustering, Outlier Detection, and \n",
      "Cluster Evolution, Social Media Analytics  \n",
      "Dr. D. W. C. P. Kumari  \n",
      "B. Sc.  in Comp.  Sci. (UCSC, SL) \n",
      "M.Phil.  (UCSC, SL)  \n",
      "PhD (QUT, Australia) \n",
      "(On Leave)  \n",
      "Mr. K. D. C. G. Kapugama \n",
      "BCS (Ruhuna, SL)  \n",
      "Reading  for PhD  (Monash,  Australia)  \n",
      "(On Leave)  Information  Security,  Process  \n",
      "Analytics, Mathematical \n",
      "Modelling,  Event  log analysis \n",
      "Data Structure & Algorithms \n",
      "Evolutionary Algorithms  \n",
      "Data Mining, Text Mining  \n",
      "Mr. P. D. T. Chathuranga  \n",
      "BCS (Ruhuna,  SL) Natural  Language  Processing,  \n",
      "Sentiment  Analysis,  Text  Mining,  \n",
      "Machine  Learning  \n",
      "Mr. L.L. Gihan  Chathuranga  \n",
      "B.Sc  (Sabaragamuwa,  S.L) Machine  Learning,  Artificial  Neural  \n",
      "Networks,  Artificial  Intelligence,  \n",
      "Data  mining  \n",
      "Ms. H.D.  Supuni  Shashikala  \n",
      "B.Sc.  (UWU,  S.L.),  \n",
      "Reading  for M.Sc.  (Peradeniya,  S.L.)  Machine  Learning,  Feature  Extraction,  \n",
      "Deep  Learning  \n",
      "1.4 Members  of the Academic  Support  Staff  \n",
      " \n",
      "Academic  Supportive  Staff  Members  \n",
      "Designation  Name  \n",
      "Programmer  Cum  Systems  Analyst  Mr. H. G. U. Harankahadeniya\n"
     ]
    }
   ],
   "source": [
    "embedding_vector= embedding.embed_query(query)\n",
    "docs = db.similarity_search_by_vector(embedding_vector)\n",
    "print(docs[0].page_content)"
   ]
  },
  {
   "cell_type": "code",
   "execution_count": 30,
   "metadata": {},
   "outputs": [
    {
     "name": "stdout",
     "output_type": "stream",
     "text": [
      "page_content='Rule Modeling  \n",
      "• Network  Monitoring  and Acquiring  and Managing  Information  \n",
      "• E-commerce information systems development, Model -drivers design, Goal, Business  \n",
      "& service Modelling  \n",
      "• Computational Geometry, Computer Graphics programming, Design and Analysis of \n",
      "Algorithms, Graph Theory  \n",
      "• Computational Systems Biology, Bioinformatics, Modelling and Simulation, Neural \n",
      "Computing, stochastic modelling  \n",
      "• Embedded  Systems,  reconfigurable  computing,  Bioinformatics  \n",
      "• Knowledge Representation, Ontology, Semantic Web, Ontology Engineering, Mobile \n",
      "Applications  4  1.2 Head  of the Department  \n",
      "Dr. W.A.  Indika  \n",
      "B.Sc.  (Kelaniya,  S.L.),  M.Sc.  (Kelaniya,  S.L.),  PhD  (UCSC,  S.L.)  \n",
      " \n",
      "1.3 Members  of Academic  Staff  \n",
      " \n",
      " \n",
      "Designation  Name  Specialization  \n",
      "Senior  \n",
      "Lecturer  Mr. S. A. S. Lorensuhewa  \n",
      "B.Sc.  (Colombo, SL) \n",
      "M.Sc.  (Zhejiang,  China)  Computer  Applications,  Text  Mining  and \n",
      "Text Classification Data Mining, \n",
      "Rule Extraction and  \n",
      "Knowledge  Representation,  \n",
      "Applications  of Machine  Learning  Techniques  \n",
      "Dr. W. A. Indika  \n",
      "B.Sc.  (Kelaniya,  S.L.)  \n",
      "M.Sc.  (Kelaniya,  S.L.)  \n",
      "PhD  (UCSC,  S.L)  Knowledge  Representation,  \n",
      "Ontology, Semantic Web, \n",
      "Ontology Engineering, Mobile  \n",
      "Applications  \n",
      "Dr. J. A. Jeewanie  \n",
      "B.Sc.  (Kelaniya,  SL)'\n"
     ]
    }
   ],
   "source": [
    "print(docs[2])"
   ]
  },
  {
   "cell_type": "code",
   "execution_count": 31,
   "metadata": {},
   "outputs": [
    {
     "name": "stdout",
     "output_type": "stream",
     "text": [
      "page_content='get experience  on issues  related  to industry.  At the end of the training,  the students  should \n",
      "make a presentation of their findings and submit a report.  \n",
      "Evaluation  Method:  Dairy,  Report,  Presentation  \n",
      " \n",
      "1.8 Bachelor  of Computer  Science  (Honours)  Degree  \n",
      "A limited number of students are selected to follow the Bachelor of Computer Science (Hon - \n",
      "ours) degree programme after completion of three academic years of Bachelor of computer \n",
      "science (General Degree Programme).  The selection of  students is done according to their \n",
      "academic performance during Level I, Level II and Level III of the BCS (General) degree \n",
      "programme.  \n",
      " \n",
      "1.8.1  Criteria  for Selection  to the BCS  (Honours)  Degree  Programme  \n",
      "1. The Department  of Computer  Science  shall  determine  the number  of students  to be \n",
      "admitted each year.  \n",
      "2. A student shall be eligible to apply if he/she has fulfilled the following requirements at \n",
      "the completion of the Level III of the Bachelor of Computer Science (General) Degree:  \n",
      "(a) A minimum of  90 cred its, \n",
      "(b) grades  of B- or better  for 80%  of Computer  Science  course  units,  \n",
      "(c) grades of C or better from theory aggregating to a minimum of 60% credits from \n",
      "Mathematics course units,'\n"
     ]
    }
   ],
   "source": [
    "print(docs[3])"
   ]
  },
  {
   "cell_type": "code",
   "execution_count": 32,
   "metadata": {},
   "outputs": [],
   "source": [
    "#print(docs[4])"
   ]
  },
  {
   "cell_type": "code",
   "execution_count": 33,
   "metadata": {},
   "outputs": [],
   "source": [
    "most_similar_doc = docs[0]"
   ]
  },
  {
   "cell_type": "markdown",
   "metadata": {},
   "source": [
    "### Generate the Answer"
   ]
  },
  {
   "cell_type": "code",
   "execution_count": 34,
   "metadata": {},
   "outputs": [
    {
     "name": "stderr",
     "output_type": "stream",
     "text": [
      "c:\\Users\\acer\\OneDrive\\Desktop\\QA\\AI_QA\\venv\\Lib\\site-packages\\langchain_core\\_api\\deprecation.py:139: LangChainDeprecationWarning: The class `OpenAI` was deprecated in LangChain 0.0.10 and will be removed in 0.3.0. An updated version of the class exists in the langchain-openai package and should be used instead. To use it run `pip install -U langchain-openai` and import as `from langchain_openai import OpenAI`.\n",
      "  warn_deprecated(\n"
     ]
    }
   ],
   "source": [
    "from langchain.llms import OpenAI\n",
    "llm = OpenAI(api_key = OPENAI_API_KEY)"
   ]
  },
  {
   "cell_type": "code",
   "execution_count": 35,
   "metadata": {},
   "outputs": [],
   "source": [
    "from langchain.chains.question_answering import load_qa_chain\n",
    "chain = load_qa_chain(llm = llm , chain_type = 'stuff')"
   ]
  },
  {
   "cell_type": "code",
   "execution_count": 36,
   "metadata": {},
   "outputs": [
    {
     "name": "stderr",
     "output_type": "stream",
     "text": [
      "c:\\Users\\acer\\OneDrive\\Desktop\\QA\\AI_QA\\venv\\Lib\\site-packages\\langchain_core\\_api\\deprecation.py:139: LangChainDeprecationWarning: The method `Chain.run` was deprecated in langchain 0.1.0 and will be removed in 0.3.0. Use invoke instead.\n",
      "  warn_deprecated(\n"
     ]
    }
   ],
   "source": [
    "response = chain.run(input_documents = docs , question = query)"
   ]
  },
  {
   "cell_type": "code",
   "execution_count": 37,
   "metadata": {},
   "outputs": [
    {
     "data": {
      "text/plain": [
       "'\\n1. Lecturer - Dr. W. A. Mohotti\\nDesignation: Probationary Lecturer\\nQualifications: B.Sc. IT (Moratuwa, SL), M.Sc. in IT (Moratuwa, SL), Ph.D. (QUT, Australia)\\n\\n2. Lecturer - Dr. D. W. C. P. Kumari\\nDesignation: (On Leave)\\nQualifications: B.Sc. in Comp. Sci. (UCSC, SL), M.Phil. (UCSC, SL), PhD (QUT, Australia)\\n\\n3. Lecturer - Mr. K. D. C. G. Kapugama\\nDesignation: (On Leave)\\nQualifications: BCS (Ruhuna, SL), Reading for PhD (Monash, Australia)\\n\\n4. Lecturer - Mr. P. D. T. Chathuranga\\nDesignation: Lecturer\\nQualifications: BCS (Ruhuna, SL)\\n\\n5. Lecturer - Mr. L.L. Gihan Chathuranga\\nDesignation: Lecturer\\nQualifications: B.Sc (Sabaragamuwa, SL)\\n\\n6. Lecturer - Ms. H.D. Supuni Shashikala\\nDesign'"
      ]
     },
     "execution_count": 37,
     "metadata": {},
     "output_type": "execute_result"
    }
   ],
   "source": [
    "response"
   ]
  },
  {
   "cell_type": "code",
   "execution_count": 38,
   "metadata": {},
   "outputs": [
    {
     "name": "stdout",
     "output_type": "stream",
     "text": [
      "\n",
      "1. Lecturer - Dr. W. A. Mohotti\n",
      "Designation: Probationary Lecturer\n",
      "Qualifications: B.Sc. IT (Moratuwa, SL), M.Sc. in IT (Moratuwa, SL), Ph.D. (QUT, Australia)\n",
      "\n",
      "2. Lecturer - Dr. D. W. C. P. Kumari\n",
      "Designation: (On Leave)\n",
      "Qualifications: B.Sc. in Comp. Sci. (UCSC, SL), M.Phil. (UCSC, SL), PhD (QUT, Australia)\n",
      "\n",
      "3. Lecturer - Mr. K. D. C. G. Kapugama\n",
      "Designation: (On Leave)\n",
      "Qualifications: BCS (Ruhuna, SL), Reading for PhD (Monash, Australia)\n",
      "\n",
      "4. Lecturer - Mr. P. D. T. Chathuranga\n",
      "Designation: Lecturer\n",
      "Qualifications: BCS (Ruhuna, SL)\n",
      "\n",
      "5. Lecturer - Mr. L.L. Gihan Chathuranga\n",
      "Designation: Lecturer\n",
      "Qualifications: B.Sc (Sabaragamuwa, SL)\n",
      "\n",
      "6. Lecturer - Ms. H.D. Supuni Shashikala\n",
      "Design\n"
     ]
    }
   ],
   "source": [
    "print(response)"
   ]
  },
  {
   "cell_type": "code",
   "execution_count": null,
   "metadata": {},
   "outputs": [],
   "source": []
  }
 ],
 "metadata": {
  "kernelspec": {
   "display_name": "Python 3",
   "language": "python",
   "name": "python3"
  },
  "language_info": {
   "codemirror_mode": {
    "name": "ipython",
    "version": 3
   },
   "file_extension": ".py",
   "mimetype": "text/x-python",
   "name": "python",
   "nbconvert_exporter": "python",
   "pygments_lexer": "ipython3",
   "version": "3.11.0"
  }
 },
 "nbformat": 4,
 "nbformat_minor": 2
}
