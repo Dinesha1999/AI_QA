{
 "cells": [
  {
   "cell_type": "markdown",
   "metadata": {},
   "source": [
    "## Import Libraries"
   ]
  },
  {
   "cell_type": "code",
   "execution_count": 1,
   "metadata": {},
   "outputs": [],
   "source": [
    "import os\n",
    "import sys"
   ]
  },
  {
   "cell_type": "markdown",
   "metadata": {},
   "source": [
    "## Read text from PDF\n",
    "##### Provide the path of PDF file before initialized everything"
   ]
  },
  {
   "cell_type": "code",
   "execution_count": 2,
   "metadata": {},
   "outputs": [],
   "source": [
    "data='data.pdf'"
   ]
  },
  {
   "cell_type": "code",
   "execution_count": 3,
   "metadata": {},
   "outputs": [
    {
     "data": {
      "text/plain": [
       "'data.pdf'"
      ]
     },
     "execution_count": 3,
     "metadata": {},
     "output_type": "execute_result"
    }
   ],
   "source": [
    "data"
   ]
  },
  {
   "cell_type": "markdown",
   "metadata": {},
   "source": [
    "## Extract data by reading"
   ]
  },
  {
   "cell_type": "code",
   "execution_count": 4,
   "metadata": {},
   "outputs": [],
   "source": [
    "import PyPDF2\n",
    "from docx import Document"
   ]
  },
  {
   "cell_type": "code",
   "execution_count": 5,
   "metadata": {},
   "outputs": [],
   "source": [
    "def extract_text_pdf(pdf):\n",
    "    text = \"\"\n",
    "    reader = PyPDF2.PdfReader(pdf)\n",
    "    for page in reader.pages:\n",
    "        text += page.extract_text() or \"\"\n",
    "    return text"
   ]
  },
  {
   "cell_type": "code",
   "execution_count": 6,
   "metadata": {},
   "outputs": [],
   "source": [
    "def extract_text_docx(docx):\n",
    "    doc = Document(docx)\n",
    "    text = \"\"\n",
    "    for paragraph in doc.paragraphs:\n",
    "        text += paragraph.text + \"\\n\"\n",
    "    return text"
   ]
  },
  {
   "cell_type": "code",
   "execution_count": 7,
   "metadata": {},
   "outputs": [
    {
     "data": {
      "text/plain": [
       "'The file can be any pdf or any docs. read the pdf/docs and go through each and every pages and extract the text'"
      ]
     },
     "execution_count": 7,
     "metadata": {},
     "output_type": "execute_result"
    }
   ],
   "source": [
    "'''def get_pdf_text(pdf_docs):\n",
    "    text =\"\"\n",
    "    for pdf in pdf_docs:\n",
    "        pdf_reader =PyPDF2.PdfReader(pdf_docs) \n",
    "        for page in pdf_reader.pages:\n",
    "            text += page.extract_text()\n",
    "    return text'''\n",
    "\n",
    "\n",
    "\n",
    "'''The file can be any pdf or any docs. read the pdf/docs and go through each and every pages and extract the text'''\n"
   ]
  },
  {
   "cell_type": "code",
   "execution_count": 8,
   "metadata": {},
   "outputs": [],
   "source": [
    "def extract(doc):\n",
    "    _, file_extension = doc.split('.')\n",
    "    print(file_extension)\n",
    "    if file_extension == 'pdf':\n",
    "        return extract_text_pdf(doc)\n",
    "    elif file_extension == 'docx':\n",
    "        return extract_text_docx(doc)\n",
    "    else:\n",
    "        raise ValueError(\"Unsupported file format\")"
   ]
  },
  {
   "cell_type": "code",
   "execution_count": 9,
   "metadata": {},
   "outputs": [
    {
     "name": "stdout",
     "output_type": "stream",
     "text": [
      "pdf\n"
     ]
    }
   ],
   "source": [
    "text_data=extract(data)\n"
   ]
  },
  {
   "cell_type": "code",
   "execution_count": 10,
   "metadata": {},
   "outputs": [],
   "source": [
    "#print(text_data)"
   ]
  },
  {
   "cell_type": "markdown",
   "metadata": {},
   "source": [
    "### Convert each text into chunks\n",
    "##### need to split the text using CharacterTextSplitter (which is basically present in Langchain.text_splitter) such that it should not increase token size\n"
   ]
  },
  {
   "cell_type": "code",
   "execution_count": 11,
   "metadata": {},
   "outputs": [],
   "source": [
    "from langchain.text_splitter import CharacterTextSplitter"
   ]
  },
  {
   "cell_type": "code",
   "execution_count": 12,
   "metadata": {},
   "outputs": [],
   "source": [
    "text_splitter = CharacterTextSplitter(\n",
    "    separator=\"\\n\",\n",
    "    chunk_size =1300,\n",
    "    chunk_overlap =300,\n",
    "    length_function =len,\n",
    "\n",
    "    )"
   ]
  },
  {
   "cell_type": "code",
   "execution_count": 13,
   "metadata": {},
   "outputs": [],
   "source": [
    "chunks = text_splitter.split_text(text_data)\n",
    "\n",
    "#taking the particular text & splitting based on information"
   ]
  },
  {
   "cell_type": "code",
   "execution_count": 14,
   "metadata": {},
   "outputs": [
    {
     "data": {
      "text/plain": [
       "60"
      ]
     },
     "execution_count": 14,
     "metadata": {},
     "output_type": "execute_result"
    }
   ],
   "source": [
    "len(chunks)"
   ]
  },
  {
   "cell_type": "code",
   "execution_count": 41,
   "metadata": {},
   "outputs": [
    {
     "name": "stdout",
     "output_type": "stream",
     "text": [
      "Evaluation Method:  Practical Examination 30% and End Semester Examination \n",
      "70% (Student must obtain at least 35% from  the theory paper and 30% from  \n",
      "the practical paper)  \n",
      " \n",
      "Level  I - Semester  II \n",
      "COM121 β: Data  Structures  and  Algorithms  (30 lecture  hrs.  & 22.5  practical \n",
      "hrs.)  Introduction to Data Structures, Stacks, Queues and Lists, Trees, Graphs, Running \n",
      "Time of an Algorithm, Sorting Algorithms, Searching Algorithms.  Practical using Java/C \n",
      "Evaluation  Method:  Practical  Examination  30%  and End Semester  Examination \n",
      "70%  (Student  must  obtain  at least  35%  from  the theory  paper  and 30%  from \n",
      "the practical paper)  \n",
      " \n",
      "COM122 β:  File organization  & DBMS  (30 lecture  hrs.  & 22.5  practical  hrs.) \n",
      "File Organization:  Introduction  to file organization,  Storage  devices,  Record  structure \n",
      "and design,  Data  transferring  times,  Traditional  file organizations  (File,  Sequential,  Indexed, \n",
      "Indexed -sequential  and Hashed  Files),  Accessing  the physical  files,  Need  for a database  ap- \n",
      "proach  and its objectives.  Database  Management  Systems:  Motivation  for database \n",
      "management  systems,  History  of data  models,  DBMS  architecture,  ER model  concepts,\n"
     ]
    }
   ],
   "source": [
    "print(chunks[10])"
   ]
  },
  {
   "cell_type": "code",
   "execution_count": 43,
   "metadata": {},
   "outputs": [
    {
     "name": "stdout",
     "output_type": "stream",
     "text": [
      "['University of Ruhuna \\nFaculty of Science \\nMatara, Sri Lanka  \\n \\nStudent  Handbook  - 2020  \\n \\n \\n \\nBachelor  of Science \\nAnd  \\nBachelor of Computer Science \\n(General and Honours) Degree \\nProgrammes  \\n \\n2019/2020\\n2   \\n \\nDepartment  of Computer  Science  53 \\n1.1 Research  Areas  ................................ ................................ ................................ ...............  53 \\n1.2 Head  of the Department  ................................ ................................ ................................  54 \\n1.3 Members  of Academic  Staff ................................ ................................ ...........................  54 \\n1.4 Members  of the Academic  Support  Staff ................................ ................................ ..... 55 \\n1.5 Course  Units  in Computer  Science  for B.Sc.  (General)  Degree  ..............................  55 \\n1.6 ICT Course  units  of Bachelor  of Science  (General)  Degree  ................................ ..... 59 \\n1.7 Bachelor  of Computer  Science  (General)  Degree  ................................ .......................  59 \\n1.7.1 Course  units  for Bachelor  of Computer  Science  (General)  Degree  (BCS)  60', '1.7 Bachelor  of Computer  Science  (General)  Degree  ................................ .......................  59 \\n1.7.1 Course  units  for Bachelor  of Computer  Science  (General)  Degree  (BCS)  60 \\n1.8 Bachelor  of Computer  Science  (Honours)  Degree  ................................ ......................  66 \\n1.8.1 Criteria  for Selection  to the BCS (Honours)  Degree  Programme  ...............  66 \\n1.8.2 Course  Units  of BCS (Honours)  Degree  Programme  ................................ .... 67 \\n1.9 Examinations  - BCS Degree  Programmes  ................................ ................................ . 69 \\n1.9.1 Attendance  ................................ ................................ ................................ ..........  70 \\n1.9.2 Examination  Criteria ................................ ................................ .........................  70 \\n1.9.3 Bachelor  of Computer  Science  (General)  Degree  Requirements  ..................  71 \\n1.9.4 Minimum  Requirement  for the Completion  of the Bachelor  of Com - \\nputer  Science  (Honours)  Degree  ................................ ................................ ...... 72', '1.9.3 Bachelor  of Computer  Science  (General)  Degree  Requirements  ..................  71 \\n1.9.4 Minimum  Requirement  for the Completion  of the Bachelor  of Com - \\nputer  Science  (Honours)  Degree  ................................ ................................ ...... 72 \\n1.9.5 Option  of reverting  to BCS General  Degree  ................................ ..................  73 3  1 Department  of Computer  Science  \\nThe Department of Computer Science of the University of Ruhuna was established in 1997 \\nfulfilling a long -standing need of the University.  The department presently offers course \\nunits of 30 credits (1/3 of the B.Sc.  General Degree programme) in Computer Sci ence for  \\nthe B.Sc.  General Degree programme for 120 students per batch.  \\nThe Department of Computer Science commenced Bachelor of Computer Science (BCS) \\nDegree in 2010.  The main aim of the degree programme is to prepare the undergraduates \\nfor a career in Co mputer Science and Information Technology, which is one of the major \\ndriving forces of the economic development of Sri Lanka.  This degree programme will cover \\nall aspects of Computer Science including modern computer languages and systems.  \\n \\n1.1 Research  Areas', 'for a career in Co mputer Science and Information Technology, which is one of the major \\ndriving forces of the economic development of Sri Lanka.  This degree programme will cover \\nall aspects of Computer Science including modern computer languages and systems.  \\n \\n1.1 Research  Areas  \\n• Text Mining and Text Classification Data Mining, Rule Extraction and Knowledge \\nRepresentation Applications of Machine Learning Techniques  \\n• Parallel computing:  developing dynamic load balancing algorithms on homogeneous \\nand heterogeneous clusters of workstat ions  \\n• Intelligent  Information  Retrieval:  Pattern  Recognition,  Fuzzy  clustering,  Data  Min- \\ning/ Web Mining, Conceptual Indexing and Similarity Search in text data, Context  \\nBased Clustering  \\n• Conceptual  Modelling,  Process  Modelling  and Process  Patterns,  Formal  Specifica - \\ntion of Processes, e -Commerce Standardization, Service Oriented Computing, Business \\nRule Modeling  \\n• Network  Monitoring  and Acquiring  and Managing  Information  \\n• E-commerce information systems development, Model -drivers design, Goal, Business  \\n& service Modelling  \\n• Computational Geometry, Computer Graphics programming, Design and Analysis of \\nAlgorithms, Graph Theory', 'Rule Modeling  \\n• Network  Monitoring  and Acquiring  and Managing  Information  \\n• E-commerce information systems development, Model -drivers design, Goal, Business  \\n& service Modelling  \\n• Computational Geometry, Computer Graphics programming, Design and Analysis of \\nAlgorithms, Graph Theory  \\n• Computational Systems Biology, Bioinformatics, Modelling and Simulation, Neural \\nComputing, stochastic modelling  \\n• Embedded  Systems,  reconfigurable  computing,  Bioinformatics  \\n• Knowledge Representation, Ontology, Semantic Web, Ontology Engineering, Mobile \\nApplications  4  1.2 Head  of the Department  \\nDr. W.A.  Indika  \\nB.Sc.  (Kelaniya,  S.L.),  M.Sc.  (Kelaniya,  S.L.),  PhD  (UCSC,  S.L.)  \\n \\n1.3 Members  of Academic  Staff  \\n \\n \\nDesignation  Name  Specialization  \\nSenior  \\nLecturer  Mr. S. A. S. Lorensuhewa  \\nB.Sc.  (Colombo, SL) \\nM.Sc.  (Zhejiang,  China)  Computer  Applications,  Text  Mining  and \\nText Classification Data Mining, \\nRule Extraction and  \\nKnowledge  Representation,  \\nApplications  of Machine  Learning  Techniques  \\nDr. W. A. Indika  \\nB.Sc.  (Kelaniya,  S.L.)  \\nM.Sc.  (Kelaniya,  S.L.)  \\nPhD  (UCSC,  S.L)  Knowledge  Representation,  \\nOntology, Semantic Web, \\nOntology Engineering, Mobile  \\nApplications  \\nDr. J. A. Jeewanie  \\nB.Sc.  (Kelaniya,  SL)', 'Applications  of Machine  Learning  Techniques  \\nDr. W. A. Indika  \\nB.Sc.  (Kelaniya,  S.L.)  \\nM.Sc.  (Kelaniya,  S.L.)  \\nPhD  (UCSC,  S.L)  Knowledge  Representation,  \\nOntology, Semantic Web, \\nOntology Engineering, Mobile  \\nApplications  \\nDr. J. A. Jeewanie  \\nB.Sc.  (Kelaniya,  SL) \\nM.Sc.  (Keele, UK)  \\nPh.D  (Tilburg,  Netherland)  Conceptual  Modelling,  Process  Mining,  \\nService -oriented  Computing,  \\nValue  Oriented  Service  Identification,  \\nModel  driven  Business -IT aligment  methods  \\nDr. Tharaka  Ilayperuma  \\nB.Sc.  (Kelaniya,  SL) \\nPh.L (Sweden)  \\nPh.D.  (Sweden)  Business  Modelling,  Goal  Modelling  \\nand Service Modelling for \\nthe purpose  of Information  \\nsystems  development  \\nDr. Thusangi  Wannige  \\nB.Sc.(Colombo, SL) \\nMPhil  (Colombo,  SL) \\nPh.D  (Lincoln,  New  Zealand)  Computational  Systems  Biology,  \\nBioinformatics, Modelling and \\nsimulation, computer vision  \\nMs. T.D.  Gilmini  Geethika  \\nB.Sc.(Hons)(Peradeniya,  SL) \\nMSc (UCSC, SL)  \\nM.Phil  (USJP,  SL) Knowledge  Engineering,  \\nBusiness Process Modeling and \\nOntology Business Rule Modeling with  \\nApplication  to Problems  in Healthcare  Domain  \\nDr. S. M. Vidanagamachchi  \\nB.Sc.  in Comp.  Sci. (UCSC,  SL) \\nPh.D. in Comp.  Eng.  (P’deniya, S.L.)  Embedded  Systems,  \\nReconfigurable  Computing,', 'Business Process Modeling and \\nOntology Business Rule Modeling with  \\nApplication  to Problems  in Healthcare  Domain  \\nDr. S. M. Vidanagamachchi  \\nB.Sc.  in Comp.  Sci. (UCSC,  SL) \\nPh.D. in Comp.  Eng.  (P’deniya, S.L.)  Embedded  Systems,  \\nReconfigurable  Computing,  \\nMachine  Learning,  Bioinformatics  \\nDr. P.N.  Hameed  \\nB.Sc.  (Hons)  in Comp.  Sci. \\n(P’deniya, S.L.)  \\nPh.D. (Melbourne,  Australia)  Bioinformatics,  \\nData mining and Machine Learninig, \\nBiomedical Informatics,  \\nImage  processing,  Computer  Vision  \\nDr. M. K. S. Madushika  \\nB.Sc.  in Engineering \\n(Peradeniya, S.L.)  \\nPh.D.  (QUT,  Australia)  Artificial  Intelligence,  Deep  \\nLearning, Computer Vision, \\nNeural Networks,  \\nImage  Processing  \\nMr. K.R. Wijeweera  \\nB.Sc.  (P’deniya,  SL) \\nM.Phil.  (P’deniya,  SL) Computational  Geometry  \\nLecturer  Ms. M. A. L. Kalyani  \\nB.Sc.  (Colombo,  SL) \\nPh.L.  (Uppsala,  Sweden)  Static  and dynamic  Load  \\nBalancing  algorithms  \\nMPI implementations, Grid Computing  5  Designation  Name  Specialization  \\nLecturer  \\n \\n \\n \\n \\n \\n \\n \\nProbationary \\nLecturer  Dr. W. A. Mohotti  \\nB.Sc.  IT (Moratuwa, SL) \\nM.Sc.  in IT (Moratuwa,  SL) \\nPh.D.  (QUT,  Australia)  Data  Mining  and Machine  Learning,  \\nText Clustering, Outlier Detection, and', 'Lecturer  \\n \\n \\n \\n \\n \\n \\n \\nProbationary \\nLecturer  Dr. W. A. Mohotti  \\nB.Sc.  IT (Moratuwa, SL) \\nM.Sc.  in IT (Moratuwa,  SL) \\nPh.D.  (QUT,  Australia)  Data  Mining  and Machine  Learning,  \\nText Clustering, Outlier Detection, and \\nCluster Evolution, Social Media Analytics  \\nDr. D. W. C. P. Kumari  \\nB. Sc.  in Comp.  Sci. (UCSC, SL) \\nM.Phil.  (UCSC, SL)  \\nPhD (QUT, Australia) \\n(On Leave)  \\nMr. K. D. C. G. Kapugama \\nBCS (Ruhuna, SL)  \\nReading  for PhD  (Monash,  Australia)  \\n(On Leave)  Information  Security,  Process  \\nAnalytics, Mathematical \\nModelling,  Event  log analysis \\nData Structure & Algorithms \\nEvolutionary Algorithms  \\nData Mining, Text Mining  \\nMr. P. D. T. Chathuranga  \\nBCS (Ruhuna,  SL) Natural  Language  Processing,  \\nSentiment  Analysis,  Text  Mining,  \\nMachine  Learning  \\nMr. L.L. Gihan  Chathuranga  \\nB.Sc  (Sabaragamuwa,  S.L) Machine  Learning,  Artificial  Neural  \\nNetworks,  Artificial  Intelligence,  \\nData  mining  \\nMs. H.D.  Supuni  Shashikala  \\nB.Sc.  (UWU,  S.L.),  \\nReading  for M.Sc.  (Peradeniya,  S.L.)  Machine  Learning,  Feature  Extraction,  \\nDeep  Learning  \\n1.4 Members  of the Academic  Support  Staff  \\n \\nAcademic  Supportive  Staff  Members  \\nDesignation  Name  \\nProgrammer  Cum  Systems  Analyst  Mr. H. G. U. Harankahadeniya', 'B.Sc.  (UWU,  S.L.),  \\nReading  for M.Sc.  (Peradeniya,  S.L.)  Machine  Learning,  Feature  Extraction,  \\nDeep  Learning  \\n1.4 Members  of the Academic  Support  Staff  \\n \\nAcademic  Supportive  Staff  Members  \\nDesignation  Name  \\nProgrammer  Cum  Systems  Analyst  Mr. H. G. U. Harankahadeniya  \\nMr. B. H. Saranapala  \\nMr. A. P. Luwishewa  \\nInstructor  in Computer  Technology  Ms. P. B. N. K. De Silva  \\nMr. U. V. Malawara  Arachchi \\nMs. W.P. Priyanthi  \\nMr. R. Wickramaratne \\nMr. C.L. Wimalaratne \\nMs. G.K. Mabula  \\nMr. L.W.  Wellakkage \\nMr. G.M.T. Ranjana \\nMrs.  W. K. Shajith  \\nMiss.  H. G. S. Priyangani  \\n \\n \\n1.5 Course  Units  in Computer  Science  for B.Sc.  (General)  Degree  \\nLevel  I - Semester  I \\nCOM1111:   Basic  Concepts  of Information  Technology  (15 lecture  hrs.)    Overview  \\nof Computer System, Function of Computer System, Input/Output Peripherals, Computer \\nStorages, Systems Software, Data type and Data representation, Computer Arithmetic, Ap - \\nplication software, Computer and Communication, The Internet, Computer security and \\nMaintenances, Ethical use of computer  \\nEvaluation  Method  : End  Semester  Examination  6  COM112 β: Programming Techniques (30 lecture hrs.  & 22.5 practical hrs.)  In-', 'plication software, Computer and Communication, The Internet, Computer security and \\nMaintenances, Ethical use of computer  \\nEvaluation  Method  : End  Semester  Examination  6  COM112 β: Programming Techniques (30 lecture hrs.  & 22.5 practical hrs.)  In- \\ntroduction  to programming  Languages,  Statements,  Expressions,  Keywords  and Comments, \\nVariables,  Constant  and Data  types,  Operators,  Selective  Statements,  Iterative  Statements, \\nJump  Statements,  Arrays,  Introduction  to Java,  Streams  Practical  using  Java/C \\nEvaluation  Method:   Practical  Examination  30%  and  End Semester  Examina - \\ntion  70%  (Student  must  obtain  at least  35%  from  the theory  paper  and  30%  \\nfrom the practical paper)  \\n \\nCOM113 α: Internet Services and Web Development (15 lecture hrs.  & 22.5 \\npractical  hrs.)  Introduction  to the Internet,  Communication  over  Internet,  The World \\nWide Web, HTML & XHTML, Cascading Style Sheets, Client Side Scripting Java Script \\nPractical oriented  \\nEvaluation Method:  Practical Examination 30% and End Semester Examination \\n70% (Student must obtain at least 35% from  the theory paper and 30% from  \\nthe practical paper)  \\n \\nLevel  I - Semester  II \\nCOM121 β: Data  Structures  and  Algorithms  (30 lecture  hrs.  & 22.5  practical', 'Evaluation Method:  Practical Examination 30% and End Semester Examination \\n70% (Student must obtain at least 35% from  the theory paper and 30% from  \\nthe practical paper)  \\n \\nLevel  I - Semester  II \\nCOM121 β: Data  Structures  and  Algorithms  (30 lecture  hrs.  & 22.5  practical \\nhrs.)  Introduction to Data Structures, Stacks, Queues and Lists, Trees, Graphs, Running \\nTime of an Algorithm, Sorting Algorithms, Searching Algorithms.  Practical using Java/C \\nEvaluation  Method:  Practical  Examination  30%  and End Semester  Examination \\n70%  (Student  must  obtain  at least  35%  from  the theory  paper  and 30%  from \\nthe practical paper)  \\n \\nCOM122 β:  File organization  & DBMS  (30 lecture  hrs.  & 22.5  practical  hrs.) \\nFile Organization:  Introduction  to file organization,  Storage  devices,  Record  structure \\nand design,  Data  transferring  times,  Traditional  file organizations  (File,  Sequential,  Indexed, \\nIndexed -sequential  and Hashed  Files),  Accessing  the physical  files,  Need  for a database  ap- \\nproach  and its objectives.  Database  Management  Systems:  Motivation  for database \\nmanagement  systems,  History  of data  models,  DBMS  architecture,  ER model  concepts,', 'Indexed -sequential  and Hashed  Files),  Accessing  the physical  files,  Need  for a database  ap- \\nproach  and its objectives.  Database  Management  Systems:  Motivation  for database \\nmanagement  systems,  History  of data  models,  DBMS  architecture,  ER model  concepts, \\nRelational  model  concepts,  ER-to-relational  mapping,  Functional  dependencies  and normal - \\nization  process,  Relational  algebra,  Relational  calculus,  Data  manipulation  using  SQL,  Data \\nviews  and security,  Introduction  to data  administration  and database  administration,  Intro - \\nduction to new concepts an database system.  Practical using Oracle or MS Access \\nEvaluation  Method:   Practical  Examination  30% and End Semester  Examina - \\ntion  70%  (Student  must  obtain  at least  35%  from  the theory  paper  and 30% \\nfrom  the practical  paper)  \\n \\nLevel  II - Semester  I \\nCOM212 β: Object Oriented System Development (30 lecture hrs.  & 22.5 practi - \\ncal hrs.)  Introduction  to System  Development  environment,  The Object  paradigm,  Objec - \\ntory  S/W  development  process,  Object  Oriented  Modelling  using  UML,  Use case  diagrams, \\nClass  diagram, Interaction  diagram, Class  declaration, Method  implementation, Informa -', 'cal hrs.)  Introduction  to System  Development  environment,  The Object  paradigm,  Objec - \\ntory  S/W  development  process,  Object  Oriented  Modelling  using  UML,  Use case  diagrams, \\nClass  diagram, Interaction  diagram, Class  declaration, Method  implementation, Informa - \\ntion  hiding and Access modifiers, Class Hierarchy (inheritance), Polymorphism, Packages \\nand Data  abstraction.  Practical  using  Rational  Rose  and OO Programming  using  Java/C++ \\nEvaluation  Method:  Practical  Examination  30%  and End Semester  Examina - \\ntion 70% (Stude nt must obtain at least 35% from the theory paper and the 30% \\nfrom the practical paper)  7  COM213 α: Operating  Systems  (15 lecture  hrs. & 22.5  practical  hrs.)   Introduc - \\ntion, Process Management, CPU Scheduling, Deadlocks, Memory Management, File -System \\nImplementation, I/O Systems.  Practical oriented  \\nEvaluation Method:  Practical Examination 30% and End Semester Examina - \\ntion 70% (Student must obtain at least 35% from the theor y paper and 30% \\nfrom the practical paper)  \\n \\nCOM2141: Computer Architecture (15 lecture hrs.)  Number Systems, Boolean \\nAlgebra & K’maps , Logic Gates, Circuits Design, Memory Architecture, CPU Architecture, \\nInstruction Cycle, Instruction set.', 'from the practical paper)  \\n \\nCOM2141: Computer Architecture (15 lecture hrs.)  Number Systems, Boolean \\nAlgebra & K’maps , Logic Gates, Circuits Design, Memory Architecture, CPU Architecture, \\nInstruction Cycle, Instruction set.  \\nEvaluation  Method:  End  Semester  Examination  \\n \\nLevel  II - Semester  II \\nCOM221 β: Data  Communications  and Computer  Networks  (30 lecture  hrs. & \\n22.5  practical  hrs.)  Introduction,  Data  Communication,  Reference  Model,  Local  Area \\nNetwork,  Wide  Area  Network  with  Internetworking,  Binding  Protocol  Address,  Routing, \\nDigital  telephony,  Domain  Name  Service,  IP Telephony  , Dynamic  Host  Configuration  Pro- \\ntocol, Introduction to Network Security, Wireless Communication, Future of Network \\nEvaluation  Method:   Practical  Examination  30%  and  End Semester  Examina - \\ntion  70%  (Student  must  obtain  at least  35%  from  the theory  paper  and  30%  \\nfrom the practical paper)  \\n \\nCOM222 β: Multimedia  Technologies  (30 lecture  hrs. & 22.5  practical  hrs.)   In- \\ntroduction to Multimedia and Hypermedia Technology, Multimedia Basics, What is Digital \\nMedia, Multimedia Hardware and Software, Multimedia Data types (Building Blocks) an d', 'from the practical paper)  \\n \\nCOM222 β: Multimedia  Technologies  (30 lecture  hrs. & 22.5  practical  hrs.)   In- \\ntroduction to Multimedia and Hypermedia Technology, Multimedia Basics, What is Digital \\nMedia, Multimedia Hardware and Software, Multimedia Data types (Building Blocks) an d \\nFile types, Animations Basics, Audio and Video Basics, Multimedia Compression Techniques \\nand Standards, Multimedia Authoring Environments, Multimedia System Design Overview, \\nMultimedia on the Internet, Multimedia Communication Systems, Multimedia Operati ng \\nSystems, Multimedia Storage, Multimedia Databases and Retrieval, Issues of Multimedia  \\nand Future Development.  \\nEvaluation Method:  Practical Examination 30% and End Semester Examina - \\ntion  70% (Student must obtain at least 35% from the theory paper and 30% \\nfrom the practical paper)  \\n \\nLevel  III - Semester  I \\nCOM311 β:  Internet  Programming  and Web  Technologies  (30 lecture  hrs.  & \\n22.5 practical hrs.)  Introduction to the Internet, Web servers, W eb designing and de - \\nsigning issues, Delivering Multimedia over web pages, Client Side Programming, Client - \\nserver side Programming, Server Side Programming, Databases and the web, Extensible \\nmarkup Language, Web Security.', '22.5 practical hrs.)  Introduction to the Internet, Web servers, W eb designing and de - \\nsigning issues, Delivering Multimedia over web pages, Client Side Programming, Client - \\nserver side Programming, Server Side Programming, Databases and the web, Extensible \\nmarkup Language, Web Security.  \\nEvaluation Method:  Practical Exam ination 30% and End Semester Examina - \\ntion 70% (Student must obtain at least 35% from the theory paper and 30% \\nfrom the practical paper)  \\n \\nCOM312 β: System  and Network  Administration  (30 lecture  hrs. & 22.5  practi - \\ncal hrs.)  Overview of Linux System, Linux shell commands and environment, Basic Unix \\nshell  programming,  Disks  and Other  storage  media,  Overview  of the directory  tree,  Booting \\nand shutting  down,  Rootly  power,  Essential  tasks  of the system  administrator,  User  Account  8  Management, File Protection, Managing Packages, X windows system, Backup and Restore, \\nPerformance Analysis, Setting up printer server, Monitoring and Managing Networks, Set - \\nting up File Servers, Electronic Mail system  \\nEvaluation Method:  Practical Examination 30% and End Semester Examina - \\ntion 70% (Student must obtain at least 35% from the theory paper and 30% \\nfrom the practical paper)', 'ting up File Servers, Electronic Mail system  \\nEvaluation Method:  Practical Examination 30% and End Semester Examina - \\ntion 70% (Student must obtain at least 35% from the theory paper and 30% \\nfrom the practical paper)  \\n \\nCOM3b3 β: Computer Project (15 lecture hrs.  & 60 practical hrs.)  Students are  \\nassigned  one large project or number of smaller projects to work on.  These software projects  \\nare evaluated at a presentation and by a project report  \\nEvaluation Method:  Product demonstration, Project presentation, Individual \\ncontribution, Report writing, Quiz, Attendance  \\n \\nCOM3b52:  PC Hardware  and Networking  (15 lecture  hrs. & 45 practical  hrs.) \\nOp for students  who  have  passed  the ICT2b13  (CCIT) examination;  PC Hardware archi - \\ntecture,  Clocked  digital  logic,  Motherboards,  CPUs,  Memory  Technologies,  Disk  Storage, \\nExpansion  Cards,  Resolutions  and system  requirements,  Monitor  size,  dot pitch  and refresh \\nrates, Maintenance/Cleaning/ Repairing Hardware Tools, Preventive Maintenance & Com - \\nputer Safety, Cleaning A PC externally and internally, Assemble PC syste m, Diagnosing & \\nTroubleshooting,  Introduction  to Computer  Network,  Components  of Computer  Network,', 'rates, Maintenance/Cleaning/ Repairing Hardware Tools, Preventive Maintenance & Com - \\nputer Safety, Cleaning A PC externally and internally, Assemble PC syste m, Diagnosing & \\nTroubleshooting,  Introduction  to Computer  Network,  Components  of Computer  Network, \\nNetwork Connectivity Devices, Network topologies, LAN, MAN, WAN, Intranets, Extranets, \\nSetting Up a Computer Network System and Network Administrator, Intern etworking \\nEvaluation  Method:   Practical  Examination  30% and End Semester  Examina - \\ntion  70%  (Student  must  obtain  at least  35%  from  the theory  paper  and 30% \\nfrom  the practical  paper)  \\n \\nLevel  III - Semester  II \\nCOM3252:  E-Commerce and Professional Practices in IT (30 lecture hrs.)  Op \\nfor all students;  Introduction  and Brief  history,  Overview  of eCommerce  components,  Ecom - \\nmerce  models  and concepts,  E-Business  Strategies,  Impact  of electronic  commerce  on busi- \\nness  strateg y, Social Impact of  Computing,  Professional and ethical responsibilities,  Intel - \\nlectual property rights, Ethics and Codes of Professional Conduct, Other Issues \\nEvaluation  Method:  End  Semester  Examination  \\n \\nCOM3212:  Advanced  Software  Engineering  Concepts  (30 lecture  hrs.)   Target', 'lectual property rights, Ethics and Codes of Professional Conduct, Other Issues \\nEvaluation  Method:  End  Semester  Examination  \\n \\nCOM3212:  Advanced  Software  Engineering  Concepts  (30 lecture  hrs.)   Target \\nGroup:  Student  following  computer  science  as a subject  (Optional  Unit);  Need  for Software \\nEngineering, problems of software development, Software Process: The need for a software \\nprocess.  The waterfall  model,  prototyping  approach,  spiral  model,  evolutionary  develop - \\nment model, rapid application development model, incremental development, Requi rement \\nanalysis  and specification:  Requirement  engineering,  analysis.  \\nEvaluation  Method:  End  Semester  Examination  \\n \\nCOM323 α: Visual  Programming  (15 lecture  hrs.  & 22.5  practical  hrs.)   Op for \\nall students  Introduction:  Application  development  environments,  command  line environ - \\nments, Graphical  user  environments.  Integrated  Development  tools, Visual  tools, Object \\nBased / Object oriented / Event -driven programming and programming in the Windows \\nenvironment at design time, run time and break time, User Interfaces: SDI, MDI Applica -', 'ments, Graphical  user  environments.  Integrated  Development  tools, Visual  tools, Object \\nBased / Object oriented / Event -driven programming and programming in the Windows \\nenvironment at design time, run time and break time, User Interfaces: SDI, MDI Applica - \\ntions,  Introduction  to DLL s, Active  X and other  technologies,  predefine d object  methods  9  & functions, Menus and toolbars, Common Dialog Controls etc., Data Types, Programming \\ncontrol Structures, data structures and sub programs:  Debugging, Error and exception han - \\ndling, Database programming, Building Web app lications  \\nEvaluation  Method:  End  Semester  Examination  \\n \\nCOM326 β: Internet  Services  and  Protocols  (30 Lecture  hrs. & 22.5  practical \\nhrs.)  Target  Group: Student  following  computer  science  as a subject  (Optional  Unit) \\nIntroduction,  the Internet,  Internet protocols and Application services,  Transport Protocols \\n(TCP,  UDP),  Client  Server  computing,  Packet  and Protocol  level  Analysis,  Email  Service, \\nSMTP,  POP3,  INAP  protocols,  Email  server  and User  Agent  Configuration,  World  Wide \\nWeb,  HTTP  protocol  and Web  Server  Configuration,  Web  caching,  Proxy  Servers  and Cook -', '(TCP,  UDP),  Client  Server  computing,  Packet  and Protocol  level  Analysis,  Email  Service, \\nSMTP,  POP3,  INAP  protocols,  Email  server  and User  Agent  Configuration,  World  Wide \\nWeb,  HTTP  protocol  and Web  Server  Configuration,  Web  caching,  Proxy  Servers  and Cook - \\nies, Load  Balancing  and Proxy  Server  Configuration,  Telnet,  SSH and File Transfer  Protocol, \\nFTP server  configuration,  Voice  over  IP communication  VOIP  server  configuration,  Domain \\nName Service, DNS configuration, Server Performance and Tuning.  \\nEvaluation Method:  Practical Examination 30% and End Semester Examina - \\ntion 70% (Student must obtain at least 35% from the theory paper and 30% \\nfrom the practical paper)  \\n \\n1.6 ICT Course  units  of Bachelor  of Science  (General)  Degree  \\nThe department  conducts  a Computer  Literacy  Course  (ICT1b13/CLC)  for all the students, \\nin the B.Sc.  degree programme, who do not follow Computer Science as a subject.  \\nBased on their performance of the ICT1b13 course unit,  a limited number of students  \\nare selected  to follow  an advanced  course  in Information  Technology  (ICT2b13/CCIT). \\nThe students who pass ICT1b13 and ICT2b13 course units are awarded certificates by the \\ndepartment.', 'Based on their performance of the ICT1b13 course unit,  a limited number of students  \\nare selected  to follow  an advanced  course  in Information  Technology  (ICT2b13/CCIT). \\nThe students who pass ICT1b13 and ICT2b13 course units are awarded certificates by the \\ndepartment.  \\n \\nICT1b13:  Computer  Literacy  Course  (CLC)  (30 Lecture  hours  & 60 practical \\nhours)  Basic  concepts  of software  and hardware,  Windows  operating  system,  Computer \\nProgramming:  Programming using C, Word Processing, Spreadsheet Applications, Database \\nmanagement, Presentaion Applications.  \\nNote: According to the examination criteria stated in this handbook, students who do not \\nfollow computer science as one of the subjects for their degree programme must pass the \\nexaminations  of Computer  Literacy  Course  (ICT1b13)  in order  to release  the final  results \\nof the B.Sc.  Degree.  \\nEvaluation  Method:  End  Semester  Examination  \\n \\nICT2b13:   Certificate  Course  in Information  Technology  (CCIT)  (30 Lecture \\nhours & 60 practical hours)  Windows based rapid application development, Database \\nmanagement, Linux Operatin g System and X -Windows, Networked Computing Systems, \\nInternet Services and Web Development.  \\nEvaluation  Method:  End  Semester  Examination', 'hours & 60 practical hours)  Windows based rapid application development, Database \\nmanagement, Linux Operatin g System and X -Windows, Networked Computing Systems, \\nInternet Services and Web Development.  \\nEvaluation  Method:  End  Semester  Examination  \\n \\n1.7 Bachelor  of Computer  Science  (General)  Degree  \\nThe Bachelor of Computer Science (BCS) degree program is an outcome of an enormous \\neffort of the staff of the Department of Computer Science.  One of the prime objectives of \\nthis degree programme is to prepare the undergraduates for a career in Computer Science \\nand Information Technology, which is one of the major d riving forces of the economic devel - \\nopment  of Sri Lanka.  Students  admitted  to the program  will pursue  a full-scale  Computer  10  Science programme  of three years leading to the degree of Bachelor of Computer Science \\n(General).  Based  on the performance,  a limited  number  of students  will be selected  to study \\nan extra year leading to the degree of Bachelor of Computer Science (Honours).  One of the  \\nprim e objectives of the Honours degree is to offer in -depth knowledge in selected areas of \\ncomputer  science  for those  who  wish  to pursue  an academic  and/or  research  careers.', 'an extra year leading to the degree of Bachelor of Computer Science (Honours).  One of the  \\nprim e objectives of the Honours degree is to offer in -depth knowledge in selected areas of \\ncomputer  science  for those  who  wish  to pursue  an academic  and/or  research  careers.  \\n \\n1.7.1  Course  units  for Bachelor  of Computer  Science  (General)  Degree  (BCS)  \\nEach student admitted to BCS degree program is expected to follow the following course \\nunits during their first second and third years (six semesters).  The curriculum of BCS degree \\nconsists of compulsory course units as well as elective /optional course units.  All courses \\noffered during the first three semesters in level I and level II are compulsory part of the BCS \\ncurriculum.  Latter part of level II and both semesters of level III in BCS degree curriculum  \\nare mainly consist of optional courses.  In addition to the elective optional courses, a limited \\nnumber  of compulsory  courses  are offered  during  this period.  The availability  of the optional \\ncourse units will be announced at the beginning of the each semester.  \\n \\nLevel  I - Semester  I \\nCSC1122:  Computer Systems I (30 lecture hrs) (core)  Overview of Computer', 'number  of compulsory  courses  are offered  during  this period.  The availability  of the optional \\ncourse units will be announced at the beginning of the each semester.  \\n \\nLevel  I - Semester  I \\nCSC1122:  Computer Systems I (30 lecture hrs) (core)  Overview of Computer \\nSystems,  Evolution  of Computers,  Input  and Output,  Storage,  Expansion  Cards,  System \\nInterfaces,  Instruction  Sets,  Addressing  modes,  Central  Processing  Unit,  Instruction  Cycle, \\nAssembly Languag e \\nEvaluation  Method:  End  Semester  Examination  \\n \\nCSC1113:  Programming  Techniques  (30 lecture  hrs & 45 practical  hrs)  (core) \\nBasic Programming concepts, Simple C program structure, Keywords, Data types, Vari - \\nables & operators (arithmetic, relational, assessment and conditional), I/O statements, Ar - \\nrays, Passing  variables, Multi -dimensional  arrays, Functions, Function  prototype s, Recur - \\nsion, Control structures, Looping ( while, do while, for), pointers, strings, Advanced data \\ntypes, structures, pointers to structures, File I/O  \\nEvaluation Method:  Practical Examination 30% and End Semester Examina - \\ntion 70% (Student must obtain a t least 35% from the theory paper and 30% \\nfrom the practical paper)', 'types, structures, pointers to structures, File I/O  \\nEvaluation Method:  Practical Examination 30% and End Semester Examina - \\ntion 70% (Student must obtain a t least 35% from the theory paper and 30% \\nfrom the practical paper)  \\n \\nCSC113 α Internet Services and Web Development (15 lecture hrs.  & 22.5 prac - \\ntical  hrs.)  (core)  Introduction  to the Internet,  Communication  over  Internet,  The World \\nWide  Web,  HTML  & XHTML,  Cascading  Style  Sheets,  Client  Side  Scripting  - Java  Script. \\nEvaluation Method:  Practical Examination 30% and End Semester Examina - \\ntion 70% (Student must obtain at least 35% from the theory paper and 30% \\nfrom the practical paper)  \\n \\nCSC1142: System A nalysis and Design (30 lecture hrs.) (core)  Introduction to \\nInformation  System  Environment.  System  Development  Life Cycle.  Introduction  to Project \\nmanagement.  Fact Finding Techniques.  Requirements Analysis.  System Modeling with \\nData Flow Diagrams.  \\nEvaluation  Method:  End  Semester  Examination  11  CSC1153:  Laboratory  Assignments  (15 lecture  hrs. & 90 practical  hrs.)  (core) \\nCommon  System  utilities  of Linux  , Advanced  System  utilities  of Linux  , Office  Applications \\nin Windows, Office Applications in Linux, Word Processing using Latex, System utilities', 'Common  System  utilities  of Linux  , Advanced  System  utilities  of Linux  , Office  Applications \\nin Windows, Office Applications in Linux, Word Processing using Latex, System utilities  \\nof Windows,  Internet  and Social  Networking,  Special  Linux  Tools,  Computer  Maintenance \\nTools, Assembling a Computer, Windows OS Installation & Applications, Linux Installa - \\ntion, Shell Scr ipting  \\nEvaluation Method: Practical Examination 30% and/or End Semester Exami - \\nnation 70% (Student must obtain at least 35% from the theory paper and 30% \\nfrom the practical paper)  \\n \\nAMT112 β: Mathematical  Foundation  of CS (30 lecture  hrs & 15 tutorial  hrs) \\n(core)  - refer  Course  unit details  under  Department  of Mathematics  \\n \\nMAT112 δ Differential Equations (15 lecture hrs & 7 tutorial hrs) (core)  - refer \\nCourse unit details under Department of Mathematics  \\n \\nMAT113 δ: Introductory Statistics (15 lect ure hrs & 8 tutorial hrs) (core)  - refer \\nCourse unit details under Department of Mathematics  \\n \\nLevel  I - Semester  II \\nCSC1213: Database Management Systems (30 lecture hrs. & 45 practical hrs.) \\nIntroduction to DBMS, History of Data Models, Database System Concepts and Archi - \\ntecture,  Database  Design  Process,  The Entity -Relationship  (ER)  Model,  Database  Design', 'Level  I - Semester  II \\nCSC1213: Database Management Systems (30 lecture hrs. & 45 practical hrs.) \\nIntroduction to DBMS, History of Data Models, Database System Concepts and Archi - \\ntecture,  Database  Design  Process,  The Entity -Relationship  (ER)  Model,  Database  Design  \\n- Mapping ERD to Relational, Logical Database Design -Normalization, Extended Entity \\nRela tionship Modeling, Logical Database Design -Mapping EERD to Relational, Data Ma - \\nnipulation  using  Relational  Algebra  & Relational  calculus,  Managing  databases  using  SQL, \\nData  views  and security,  Introduction  to data  administration  and database  administration. \\nPractical using MS Access and Oracle.  \\nEvaluation Method :  Practical Examination 30% and End Semester Examina - \\ntion  70% (Student must obtain at least 35% from the theory paper and 30% \\nfrom the practical paper)  \\n \\nCSC1223:  Data Structures and Algorithms (30 lecture hrs.  & 45 practical hrs.)  \\n(core)  Introduction  to Data  Structures,  Stacks,  Queues  and Lists,  Trees,  Graphs,  Running \\nTime  of an Algorithm,  Sorting  Algorithms,  Searching  Algorithms.  \\nEvaluation Method:  Practical Examination 30% and End Semester Examination \\n70% (Student must obtain at least 35% from the theory paper and 30% from  \\nthe practical paper)', 'Time  of an Algorithm,  Sorting  Algorithms,  Searching  Algorithms.  \\nEvaluation Method:  Practical Examination 30% and End Semester Examination \\n70% (Student must obtain at least 35% from the theory paper and 30% from  \\nthe practical paper)  \\n \\nCSC1233: Software Engineering (45 lecture hrs.)  (core)  Introduction, Generic \\nFramework Activities, Umbrella Activities, Layered Technology, CMMI, Process Assess - \\nment,  Software  Process  Models  Waterfall  Model,  Increment,  Evolutionary,  Specialized  pro- \\ncess models, S W Reuse , Unified Process UP workflows and work products, Predictive \\nversus adaptive approaches to the SDLC, Existing Agile Methods, Requirement Analysis \\nand Specification, Software Design, Principles of Design, Designing for reusability, adapt - \\nability  and maintainability,  design  quality,  Testing,  Testing  Methods,  Test  Strategies,  static \\nand dynamic  testing,  α testing,  β Testing,  Acceptance  Testing,  Use of CASE  tools  in SW 12  Development,  Software  Matrices,  Software  Maintenance/  Social  and ethical  Issues.  \\nEvaluation  Method:  End  Semester  Examination  \\n \\nCSC1242:  Object  Oriented  System  Development  (30 lecture  hrs.)  (core)   Intro -', 'Evaluation  Method:  End  Semester  Examination  \\n \\nCSC1242:  Object  Oriented  System  Development  (30 lecture  hrs.)  (core)   Intro - \\nduction  to Object -Oriented  Paradigm.  Basic  Principles  and Important  Concepts  in Object - \\norientation.  Introduction  to Unified  Modeling  Language  (UML).  Object -Oriented  Systems \\nDevelopment with Unified Process (UP).  \\nEvaluation  Method:  End  Semester  Examination  \\n \\nCSC1251:  Computer  Laboratory  (45 practical  hrs.)  (core)   15 Practical  sessions \\non Special  topics  in Computer  Science  \\nEvaluation Method: Practical Examination 30% and/or End Semester Exami - \\nnation 70% (Student must obtain at least 35% from the theory paper and 30% \\nfrom the practical paper)  \\n \\nMAT121 β: Algebra (30 lecture hrs  & 15 tutorial hrs) (core)   - refer Course unit \\ndetails under Department of Mathematics  \\n \\nMAT122 β: Calculus (30 lecture hrs & 15 tutorial hrs) (core)  - refer Course unit \\ndetails under Department of Mathematics  \\n \\nLevel  II - Semester  I \\nCSC2113:   Data  Communication  and  Computer  Networks  (30 lecture  hrs.  & \\n45 practical  hrs.)  (core)  Introduction,  Data  Communication,  Reference  Model,  Local \\nArea  Network,  Wide  Area  Network  with  Internetworking,  Binding  Protocol  Address,  Rout -', 'Level  II - Semester  I \\nCSC2113:   Data  Communication  and  Computer  Networks  (30 lecture  hrs.  & \\n45 practical  hrs.)  (core)  Introduction,  Data  Communication,  Reference  Model,  Local \\nArea  Network,  Wide  Area  Network  with  Internetworking,  Binding  Protocol  Address,  Rout - \\ning, Digital telephony,  Domain Name Service,  IP Telephony,  Dynamic Host Configuration \\nProtocol,  Introduction  to Network  Security,  Wireless  Communication,  Future  of Network. \\nEvaluation  Method:   Practical  Examination  30%  and  End Semester  Examina - \\ntion  70%  (Student  must  obtain  at least  35%  from  the theory  paper  and  30%  \\nfrom the practical paper)  \\n \\nCSC2123:  Object  Oriented  Programming  (30 lecture  hrs. & 45 practical  hrs.)  \\n(core)  Fundamental  of Object -oriented  design,  Encapsulation,  polymorphism,  classes  and \\nobjects,  information  hiding,  operator  overloading,  inheritance,  overriding,  delegation;  Ana- \\nlyze problems:  determine objects that are necessary to model the system, determine what \\nattributes the objects need to have, determine what behaviors the objec ts need to exhibit, \\ndevelop  conceptual  models,  Modeling  with  UML,  generate  designs  from  the models,  and \\nimplement the models.', 'attributes the objects need to have, determine what behaviors the objec ts need to exhibit, \\ndevelop  conceptual  models,  Modeling  with  UML,  generate  designs  from  the models,  and \\nimplement the models.  \\nEvaluation Method:  Practical Examination 30% and End Semester Examina - \\ntion  70% (Student must obtain at least 35% from the theory paper and 30% \\nfrom the practical paper)  \\n \\nCSC2133:  Operating  Systems  (30 lecture  hrs.  & 45 practical  hrs.)   (core) \\nOperating -System Structures, Processes, Threads, CPU Scheduling, Process Synchroniza - \\ntion,  Deadlocks,  Memory  Management  (Contiguous  Allocation,  Paging,  segmentation,  Vir- \\ntual Memory), File System Implementation (Access Methods, Protection, Disk structure, \\nScheduling, Management and reliability), I/O Systems, Mass -Storage Systems, Security  \\n(Goals, Principles, Access Matrix, Threads)  13  Evaluation Method:  Practical Examination 30% and End Semester Examina - \\ntion  70% (Student must obtain at least 35% from the theory paper and 30% \\nfrom the practical paper)  \\n \\nCSC2143:   Computer  Graphics  and Image  Processing  (30 lecture  hrs.  & 45 \\npractical  hrs.)   (core)   Introduction,  Applications,  , Graphics  terminologies,  Graphics', 'tion  70% (Student must obtain at least 35% from the theory paper and 30% \\nfrom the practical paper)  \\n \\nCSC2143:   Computer  Graphics  and Image  Processing  (30 lecture  hrs.  & 45 \\npractical  hrs.)   (core)   Introduction,  Applications,  , Graphics  terminologies,  Graphics \\nI/O devices, Scan conversion :  Scan converting lines, Line Drawing Algorithms, Scan con - \\nverting  circles,  Mid Point  Circle  Algorithm,  Scan  Line  Polygon  filling  Algorithm,  Boundary \\n& Flood Fill Algorithm, 2D Transformation Geometric Transformations, Coordin ate Trans - \\nformations, Composite Transformations, Homogeneous Coordinates, 2D Viewing & Clipping \\nWindow -to-viewport  Mapping  , point  clipping,  Line  clipping,  Introduction  to Digital  Im- \\nage Processing, examples of image processing; Brief review of 2D linear system theory, \\nprobability and random variables, Color fundamentals, color models; Image Enhancement: \\nGray -level transform, histogram processing, arithmetic/logic operation, Spatial filtering, 2D \\nFourier transform, Frequency domain smoothing, sharpe ning, Image degradation model, \\nNoise models, restoration using spatial filtering with noise only degradation, Morphological \\nimage processing, point, line and edge detection.', 'Fourier transform, Frequency domain smoothing, sharpe ning, Image degradation model, \\nNoise models, restoration using spatial filtering with noise only degradation, Morphological \\nimage processing, point, line and edge detection.  \\nEvaluation Method:  Practical Examination 30% and End Semester Examina - \\ntion 70% (S tudent must obtain at least 35% from the theory paper and 30% \\nfrom the practical paper)  \\n \\nAMT212 β: Computational  Mathematics  (30 lecture  hrs & 15 tutorial  hrs)  (core)  \\n- refer  Course  unit details  under  Department  of Mathematics  \\n \\nMAT211 β: Linear  Algebra  I (30 lecture  hrs & 15 tutorial  hrs)  (core)  (core)   - \\nrefer Course unit details under Department of Mathematics  \\n \\nPHY2112:  Electronics (30 lecture hrs) (core)  - refer Course unit details under \\nDepartment of Physics  \\n \\nLevel  II - Semester  II \\nCSC2213:  Rapid  Application  Development  (30 lecture  hrs. & 45 practical  hrs.) \\n(core)  Introduction to Rapid Application Development (RAD), Core issues in RAD, Es - \\ntimation, Scheduling Teamwork, Best practices in RAD, Introduction to Software Design \\nwith  Patt erns,  Gang  of four  Catalog  Creational  Design  Patterns,  Structural  Design  Patterns, \\nBehavioral Design Patterns, Content Management Systems (CMS)', 'timation, Scheduling Teamwork, Best practices in RAD, Introduction to Software Design \\nwith  Patt erns,  Gang  of four  Catalog  Creational  Design  Patterns,  Structural  Design  Patterns, \\nBehavioral Design Patterns, Content Management Systems (CMS)  \\nEvaluation Method:  Practical Examination 30% and End Semester Examina - \\ntion  70% (Student must obtain at least 35% from the theory paper and 30% \\nfrom the practical paper)  \\n \\nCSC2233: Internet Programming (30 lecture hrs.  & 45 practical hrs.)  (core) \\nIntroduction, Server  side  scripting  introduction, variables, control  structures, oper ations, \\nArrays:  1D, 2D, Indexed, Associative, PHP Functions, String Manipulation, Forms and \\nDatabases, Sessions and Cookies, Web Designing Process, XML, AJAX and JQuery, Object \\nOriented Programming in PHP.  \\nEvaluation Method:  Practical Examination 30% and E nd Semester Examination \\n70% (Student must obtain at least 35% from the theory paper and 30% from  \\nthe practical paper)  14  CSC2242: Advanced Database Management (30 lecture hrs.) (core)  ntroductory \\nknowledge  in advanced  database  concepts,  Storage  and file structures,  Index,  Query  pro- \\ncessing and optimization, access control for secure databases, transaction management and', 'the practical paper)  14  CSC2242: Advanced Database Management (30 lecture hrs.) (core)  ntroductory \\nknowledge  in advanced  database  concepts,  Storage  and file structures,  Index,  Query  pro- \\ncessing and optimization, access control for secure databases, transaction management and \\nserializability,  Concurrency  control,  Interaction  of transaction  management  with  storage: \\nespecially  buffering,  Database  efficiency  and tuning,  writing  constraints,  stored  procedures \\nand triggers in SQL.  \\nEvaluation  Method:  Continuous  Assessment  and/or  End  Semester  Examination  \\n \\nCSC2252:  Project  Management  (30 lecture  hrs.)   (core)   Introduction  to Project \\nManagement,  Project  Management  Process  for a Project,  Project  Scope  management,  Project \\nTime  management,  Project  Cost  management  ,Project  Quality  management,  Project  Com - \\nmunication management, Project Risk management, Group Assignm ent Evaluation, Project \\nHR management,  Project  Procurement  management,  Project  Integration  management.  \\nEvaluation  Method:  End  Semester  Examination  \\n \\nCSC2263:  Multimedia  and  Video  Production  (30 lecture  hrs. & 45 practical \\nhrs.) (Optional)  Multimedia  Basics,  Key Multimedia  Elements,  Images,  Video,  Audio,', 'Evaluation  Method:  End  Semester  Examination  \\n \\nCSC2263:  Multimedia  and  Video  Production  (30 lecture  hrs. & 45 practical \\nhrs.) (Optional)  Multimedia  Basics,  Key Multimedia  Elements,  Images,  Video,  Audio, \\nAnimation,  Multimedia  Databases  and Retrieval,  Multimedia  Authoring,  Multimedia  Com - \\npression Techniques and Standards.  \\nEvaluation Method:  Practical Examination 30% and End Semester Examina - \\ntion 70% (Student must obtain at least 35% from the theory paper and 30% \\nfrom the practical paper)  \\n \\nCSC2222:  Computer  System  II (30 lecture  hrs.)  (core)   A top-level  view  of com - \\nputer  function and interconnection, Cache memory, Internal memory and External memory \\ntechnology, Operating system support, Computer Arithmetic, Instruction sets, Processor \\nstructure and Functions, RISC Architecture, Parallel Processing, Multicore computers.  \\nEvaluation  Method:  Continuous  Assessment  and/or  End  Semester  Examination  \\n \\nCSC2272:  Data  and Network  Security  (30 lecture  hrs.)  (Optional)   This  course \\nprovides comprehensive knowledge in security requirements and cryptographic solutions in \\ncomputer applicati ons & networks.  \\nEvaluation  Method:  End  Semester  Examination', 'CSC2272:  Data  and Network  Security  (30 lecture  hrs.)  (Optional)   This  course \\nprovides comprehensive knowledge in security requirements and cryptographic solutions in \\ncomputer applicati ons & networks.  \\nEvaluation  Method:  End  Semester  Examination  \\n \\nMAT225 β: Mathematical  Statistics  I (core)   - refer course unit details under Depart - \\nment of Mathematics  \\n \\nPHY2222:   Electronics  (optional)   - refer  course  unit  details  under  Department  of \\nPhysics.  \\n \\nFSC224 α: Physical  Fitness  and Health  Management  (optional)   refer Course unit \\ndetails under FSC course units.  \\n \\nLevel  III - Semester  I \\nCSC3113:   Group  Projects  (120 practical  hrs.)(core)    The objective  of this course \\nis to design and implement a system using programming and other skills acquired.  The \\nstudents  will carry  out group  project  and submit  a dissertation.  The students  will also \\nmake a presentation of the project and face for a viva.  15  Evaluation Method:  Product demonstration, Project presentation, Individual \\ncontribution, Report writing, Attendance  \\n \\nCSC3122: e -Commerce and Professional Practice (30 lecture hrs.)  (Optional) \\nIntroduction  to E-Commerce  and E-Business.  E-Commerce  Business  Models.  Business', 'contribution, Report writing, Attendance  \\n \\nCSC3122: e -Commerce and Professional Practice (30 lecture hrs.)  (Optional) \\nIntroduction  to E-Commerce  and E-Business.  E-Commerce  Business  Models.  Business \\nStrategies.  Business  and IT Alignment.  Value -Oriented  E-Business  Modeling.  Building \\ne-Commerce  Systems.  Ethical  Issues.  \\nEvaluation  Method:  End  Semester  Examination  \\n \\nCSC3132:  Data  Warehousing  and Data  mining  (30 lecture  hrs.)   (Optional) \\nConcept  of data  mining,  concept  of data  warehousing  with  special  emphasis  on architecture \\nand design, Data Pre -processing, classification and prediction, clustering, association rules, \\ndecision trees.  \\nEvaluation  Method:  Continuous  Assessment  and/or  End  Semester  Examinatio n \\n \\nCSC3133:  Network  and System  Administration  (30 lecture  hrs. & 45 practical \\nhrs.)  (Optional)  Overview  of Linux  System, Linux  shell  commands  and environment, \\nBasic Unix shell programming, Disks and Other storage media, Overview of the directory \\ntree,  Booting  and shutting  down,  Rootly  power,  Essential  tasks  of the system  administrator, \\nUser  Account  Management,  File Protection,  Managing  Packages,  X windows  system , Backup', 'Basic Unix shell programming, Disks and Other storage media, Overview of the directory \\ntree,  Booting  and shutting  down,  Rootly  power,  Essential  tasks  of the system  administrator, \\nUser  Account  Management,  File Protection,  Managing  Packages,  X windows  system , Backup \\nand Restore, Performance Analysis, Setting up printer server, Monitoring and Managing \\nNetworks, Setting up File Servers, Electronic Mail system.  \\nEvaluation Method:  Practical Examination 30% and End Semester Examination \\n70% (Student must obtain at least 35% from the theory paper and 30% from  \\nthe practical paper)  \\n \\nCSC3142:  Internet  Services  and Protocols  (15 lecture  hrs. & 45 practical  hrs.) \\n(Optional)  Introduction,  the Internet,  Internet  protocols  and Application  services,  Trans - \\nport Prot ocols (TCP, UDP), Client Server computing, Packet and Protocol level Analysis, \\nEmail  Service,  SMTP,  POP3,  IMAP  protocols,  Email  server  and User  Agent  Configura - \\ntion,  World  Wide  Web,  HTTP  protocol  and Web  Server  Configuration,  Web  caching,  Proxy \\nServers  and Cookies,  Load  Balancing  and Proxy  Server  Configuration,  Telnet,  SSH and File \\nTransfer  Protocol,  FTP server  configuration,  Voice  over  IP communication  VOIP  server', 'tion,  World  Wide  Web,  HTTP  protocol  and Web  Server  Configuration,  Web  caching,  Proxy \\nServers  and Cookies,  Load  Balancing  and Proxy  Server  Configuration,  Telnet,  SSH and File \\nTransfer  Protocol,  FTP server  configuration,  Voice  over  IP communication  VOIP  server \\nconfiguration,  Domain  Name  Service,  DNS  configuration,  Server  Performance  and Tuning \\nEvaluation  Method:  End  Semester  Examination  \\n \\nCSC3152:  Geographic Information Systems (15 lecture hrs.  & 45 practical hrs.) \\n(Optional)  Introduction to GIS, GIS Data, Data Quality Issues, Basic GIS Operations, \\nSpatial  Modeling  and Anal ysis,  GIS Modeling,  GIS Organization  and Management,  GIS \\nApplications.  \\nEvaluation Method:  Practical Examination 30% and End Semester Examination \\n70% (Student must obtain at least 35% from the theory paper and 30% from  \\nthe practical paper)  \\n \\nCSC3162:  Research  Methods  (30 lecture  hrs.)  (Optional)  This  course  aims  to \\nteach the fundamentals of Scientific Writing.  \\nEvaluation  Method:  End  Semester  Examination  16  CSC3172 Distributed Systems (30 lecture hrs.)  (Optional)  Introduction, Commu - \\nnication and Synchronization in distributed systems, Processes and processors in Distributed', 'teach the fundamentals of Scientific Writing.  \\nEvaluation  Method:  End  Semester  Examination  16  CSC3172 Distributed Systems (30 lecture hrs.)  (Optional)  Introduction, Commu - \\nnication and Synchronization in distributed systems, Processes and processors in Distributed \\nsystems, Distributed file systems, Distributed shared memory(DSM), Peer -Peer systems, se - \\ncurity, Distributed systems in Practice, Cloud compu ting.  \\nEvaluation  Method:  End  Semester  Examination  \\n \\nFSC3122:Accounting(30 lecture hrs) (Optional)  - refer course unit details uner FSC \\ncourse units.  \\n \\nFSC3112 Management(30 lecture hrs.)  (Optional)  - refer course unit details uner  \\nFSC course units.  \\n \\nMAT313 β: Mathematical  Statistics  II (30 lecture  hrs & 15 tutorial  hrs)  (Op- \\ntional)  refer course unit details under Department of Mathematics  \\n \\nLevel  III - Semester  II \\nCSC3216:  Industrial  Training  (3 months)(Core)   This  training  helps  the students  to \\nget experience  on issues  related  to industry.  At the end of the training,  the students  should \\nmake a presentation of their findings and submit a report.  \\nEvaluation  Method:  Dairy,  Report,  Presentation  \\n \\n1.8 Bachelor  of Computer  Science  (Honours)  Degree', 'get experience  on issues  related  to industry.  At the end of the training,  the students  should \\nmake a presentation of their findings and submit a report.  \\nEvaluation  Method:  Dairy,  Report,  Presentation  \\n \\n1.8 Bachelor  of Computer  Science  (Honours)  Degree  \\nA limited number of students are selected to follow the Bachelor of Computer Science (Hon - \\nours) degree programme after completion of three academic years of Bachelor of computer \\nscience (General Degree Programme).  The selection of  students is done according to their \\nacademic performance during Level I, Level II and Level III of the BCS (General) degree \\nprogramme.  \\n \\n1.8.1  Criteria  for Selection  to the BCS  (Honours)  Degree  Programme  \\n1. The Department  of Computer  Science  shall  determine  the number  of students  to be \\nadmitted each year.  \\n2. A student shall be eligible to apply if he/she has fulfilled the following requirements at \\nthe completion of the Level III of the Bachelor of Computer Science (General) Degree:  \\n(a) A minimum of  90 cred its, \\n(b) grades  of B- or better  for 80%  of Computer  Science  course  units,  \\n(c) grades of C or better from theory aggregating to a minimum of 60% credits from \\nMathematics course units,', '(a) A minimum of  90 cred its, \\n(b) grades  of B- or better  for 80%  of Computer  Science  course  units,  \\n(c) grades of C or better from theory aggregating to a minimum of 60% credits from \\nMathematics course units,  \\n(d) grade  C or better  for Industry  Based  Project/Industry  Placement  course  unit and \\nthe Group project  \\n(e) Pass  English  Proficiency  Level  I & Level  II \\n(f) a GPA  of 2.5 or more  \\nThe Grade  point  Average  (GPA)  is calculated  as follows:  Σ(Grade  Point  Value  for a Course  Unit) × (Number  of credits  of that  Course  Unit) \\nGPA  = Total  number  of credits  17  3. The selection  of a student  shall  be determined  by the department  of Computer  Science \\nin an interview and shall be based on the following:  \\n(a) performance  of the student  in core  course  units  of Bachelor  Computer  Science \\n(General)  Degree  Exam - ination  and \\n(b) the general  aptitude  and application  of the student.  \\n4. The decision  of the Dean  of the Faculty  shall  be final  and conclusive.  \\n \\n1.8.2  Course  Units of  BCS (Honours) Degree  Programme \\nSemester I \\nCode  Name  of Course  Unit  No of Credits  Core/optional  \\nCSC 4112  Research  Seminar  2 Core  \\nCSC 4122  Research  Methodology  2 Core  \\nCSC 4133  Neural  networks  3 Core', '1.8.2  Course  Units of  BCS (Honours) Degree  Programme \\nSemester I \\nCode  Name  of Course  Unit  No of Credits  Core/optional  \\nCSC 4112  Research  Seminar  2 Core  \\nCSC 4122  Research  Methodology  2 Core  \\nCSC 4133  Neural  networks  3 Core  \\nCSC 4046  Individual  Research  project  6 Core  \\nCSC 4152  Enterprise  Modeling  2 Core  \\nCSC 4162  Data  mining  for Business  Intelligence  2 Core  \\nCSC 4172  High  Performance  Computing  2 Core  \\nCSC 4182  Bioinformatics  2 Core  \\nTotal  Credits  for Semester  I 21  \\nSemester  II \\n \\nCode  Name  of Course  Unit  No of Credits  Core/optional  \\nCSC 4212  Compiler  Design  2 Core  \\nCSC 4222  Service  Oriented  Computing  2 Core  \\nCSC 4232  Formal  Methods  and Software  Verification  2 Optional  \\nCSC 4242  Articial  Intelligence  2 Core  \\nCSC 4262  Selected  Topics  2 Optional  \\nTotal  Credits  for Semester  II 10  \\n \\nBachelor  of Computer  Science  (Honours)  Degree  - Semester  I \\nCSC 4112:  Research Seminar  Research Seminar introduces the process of academic \\nresearch and allows the students to open their mind to problem -solving strategies based \\nupon formal inquiry and the detailed research of others.  It will also include participating in \\ndiscussions and giving presentations.  \\nEvaluation  Method:  Continuous  Assessment', 'research and allows the students to open their mind to problem -solving strategies based \\nupon formal inquiry and the detailed research of others.  It will also include participating in \\ndiscussions and giving presentations.  \\nEvaluation  Method:  Continuous  Assessment  \\n \\nCSC 4122:  Research Methodology  This course will provide an opportunity for stu - \\ndents  to advance  their  understanding  of research  through  critical  exploration  of research \\nlanguage, ethics, and approaches.  \\nIntroduction, Scientific Research, Reading and recording, Critiquing research papers,  \\nMind mapping and Con - cept Mapping, Planning and conducting research, The research \\nprocess, Typ es of computing research , Computing research methods, Ethics and plagiarism, \\nResearch ethics, Minnesota ethics guidelines , Plagiarism , Data collec - tion and analysis, \\nCommunicating research findings, Simple Latex for Academic Writing , Citation styles, \\nCitation  style  guides,  Planning  and delivering  oral presentations,  Presentation  Tips.  \\nEvaluation  Method:  Continuous  Assessment  18  CSC 4133: Neural Networks (30 Lecture hours)  Introduction to Artificial Neural \\nNetworks, Multi -Layer Perceptrons, Back -Propagation Algorithm, ANNs using Tools, Pre -', 'Evaluation  Method:  Continuous  Assessment  18  CSC 4133: Neural Networks (30 Lecture hours)  Introduction to Artificial Neural \\nNetworks, Multi -Layer Perceptrons, Back -Propagation Algorithm, ANNs using Tools, Pre - \\nProcessing Techniques, Feature Extraction & Selection algorithms, Nave Bayes Learning \\nand Bayesian Belief Learning Models, Unsupervised Learning Methods, Learning Vector \\nQuantization Methods, Self -Organizing and Neural Gas Algorithms, Hierarchical Learning \\nModels, Combining Multiple Classifier Models, Measuring Classifier Performance.  \\nEvaluation  Method:  Continuous  Assessment  and/or  End  Sem ester  Examination  \\n \\nCSC 4152:  Enterprise Modelling (30 lecture hours)  Different Perspectives of En - \\nterprise  Modeling:  Goal  Modeling, Business  Rules  Modeling, Process  Modeling, Business \\nModeling. Developing  Goal  Models,  Business  Rule  Models  and Business  Models. Business \\nwork  flow  Modeling  with  Event  Driven  Process  Chains  (EPC),  Work  flow  analysis  with  Petri \\nnets.  State of the art developments in Enterprise Modeling, Latest Research Trends, and \\nModeling Approaches.  \\nEvaluation  Method:  End  Semester  Examination  \\n \\nCSC 4162 - Data Mining for Business Intelligence (30 lecture hours)  Prerequi -', 'nets.  State of the art developments in Enterprise Modeling, Latest Research Trends, and \\nModeling Approaches.  \\nEvaluation  Method:  End  Semester  Examination  \\n \\nCSC 4162 - Data Mining for Business Intelligence (30 lecture hours)  Prerequi - \\nsite:CSC3132:  Data  Warehousing  and Data  Mining  \\nIntroduction,  Introduction  to data  mining,  Introduction  to Business  Intelligence,  The need \\nof Business Intelligence, Business Intelligence Solutions, Data, Quality of Data, Unsuper - \\nvised and supervised learning, Dimension Reduction , PCA Analysis, Association Rules, \\nNaive Bayes Theorem , K - Nearest Neighbor Algorithm, Regression Analysis, Hierarchical \\nClustering, Evaluating Classification and Predictive Performance.  \\nEvaluation Method: Continuous Assessment 30% and End Semester Examina - \\ntion 70%  \\n \\nCSC  4172:   High  Performance  Computing  (30 Lecture  hours)   Introduction  to \\nHigh  Performance  Computing,  Performance  Analysis,  Serial  performance  optimization,  Par- \\nallel Algorithm design methodologies, Parallel Programming Models, Programming with \\nDistributed Memory, MPI, Programming with Shared Memory, OpenMP, Load balancing \\nand Data Partitioning, Grids and Clouds, GPU computing.  \\nEvaluation  Method:  End  Semester  Examination', 'allel Algorithm design methodologies, Parallel Programming Models, Programming with \\nDistributed Memory, MPI, Programming with Shared Memory, OpenMP, Load balancing \\nand Data Partitioning, Grids and Clouds, GPU computing.  \\nEvaluation  Method:  End  Semester  Examination  \\n \\nCSC  4182:  Bioinformatics  (30 Lecture  hours)  Introduction  to Bioinformatics,  Archives \\nand Information  Retrieval,  Pairwise  sequence  Alignments:  Dot Plots,  Simple  Alignments. \\nThe Needleman  and Wunsch  Algorithm,  BLAST  algorithm,  FASTA  algorithm,  Multiple \\nsequence alignments:  Introduction to multiple sequence alignments, Greedy approach, Star \\nalignment approach and ClustalW algorithm, Hidden Markov models, Phyl ogenetic Trees: \\nIntroducing  distance  measures  and distance  based  phylogenetic  tree  building  algorithms \\nUPGMA, NJ, introducing character -based measures and character based phylogenetic tree \\nbuilding  algorithms:  maximum  parsimony  and maximum  likelihood.  Protein  and RNA \\nStructure  Prediction:  Secondary  Structure,  Tertiary  and Quaternary  Structure,  Tools  for \\nModeling  Protein  Folding,  Introduction  to drug  discovery  and ligand  docking  algorithms, \\nmicro array data analysis.  \\nEvaluation Method :  Continuous Assessment :  30% and End Semester Exami -', 'Structure  Prediction:  Secondary  Structure,  Tertiary  and Quaternary  Structure,  Tools  for \\nModeling  Protein  Folding,  Introduction  to drug  discovery  and ligand  docking  algorithms, \\nmicro array data analysis.  \\nEvaluation Method :  Continuous Assessment :  30% and End Semester Exami - \\nnation 70%  \\n \\nCSC  4046:  Individual  Research  project   This  course  provides  an opportunity  for the \\nstudents  to work  as an individual  to produce  a system.  The students  will carry  out an 19  individual project and submit a dissertation.  The students will also make a presentation of  \\nthe project and face for a viva.  \\nEvaluation Method:  Defend the Project Proposal 10%, Interim progress report \\n15%, Publication 15%, Final report/presentation 60%  \\n \\nBachelor  of Computer  Science  (Honours)  Degree  - Semester  II \\nCSC 4212:  Compiler  Design  (30 Lecture  hours)  Compiler  Design  Introduction, \\nPhases  of compiler, Lexical  Analysis - Deterministic  Finite  Automata, Regular  expressions, \\nLex & Flex (Lexical analyzer generator),  Context Free Grammar - Derivative,  Parse trees, \\nAmbiguous  grammar,  EBNF,  Top-Down  Parsing  - LL(1)  parse  table,  Recursive  decent \\nparser, Bottom -up parsing - LR parsing, Yacc, Abstract syntax trees, Semantic Analyser.', 'Lex & Flex (Lexical analyzer generator),  Context Free Grammar - Derivative,  Parse trees, \\nAmbiguous  grammar,  EBNF,  Top-Down  Parsing  - LL(1)  parse  table,  Recursive  decent \\nparser, Bottom -up parsing - LR parsing, Yacc, Abstract syntax trees, Semantic Analyser. \\nEvaluation  Method:  End  Semester  Examination  \\n \\nCSC  4222:  Service  Oriented  Computing  (30 Lecture  hours)   The focus  of this \\ncourse is to understand service orientation of technology.The course will provide a deep un - \\nderstanding  of Service  Oriented  Architecture  (SOA)fundamentals  from  Application  as well \\nas Infrastructure perspective.  The web Service architectures and standards will be dis - \\ncussed  in this course  unit.  Introduction  to Service  Oriented  Computing,  Standards  Bodies \\nof SOC, Service Oriented Architecture, Traditional Vs Service Oriented Architecture , Ser - \\nvice Classification,  Enterprise  service  Bus,  Web  Services,  Web  service  stack,  Introduction  to \\nSOAP, WSDL, Introduction to BPEL4WS, Service management and gove rnance, Introduc - \\ntion to Cloud Computing.  \\nEvaluation  Method:  End  Semester  Examination  \\n \\nCSC 4232:  Formal  Methods  and Software  Verification  (30 Lecture  hours)   Re-', 'SOAP, WSDL, Introduction to BPEL4WS, Service management and gove rnance, Introduc - \\ntion to Cloud Computing.  \\nEvaluation  Method:  End  Semester  Examination  \\n \\nCSC 4232:  Formal  Methods  and Software  Verification  (30 Lecture  hours)   Re- \\nview  of Sets,  Relations,  Functions  and Related  Matters,  Review  of Propositional  Logic,  and \\nLogical  Arguments,  Introduction  to Predicate  Calculus,  Concepts  of programming  language \\nand Proof  of Correctness,  Hoare  Logic,  Formal  Methods,  Use of Z-Notation  for various  as- \\npects  of Program constructs and Verification.  \\nEvaluation  Method:  End  Semester  Examination  \\n \\nCSC 4242:  Artificial Intelligence (30 Lecture hours) (Core)  Introduction to AI \\nTechniques, State and State Space, Agents, Search algorithms, Hill Climbing and Genetic \\nalgorithms, Heuristic Search Techniques, Resolution and Theorem Proving, First Order logic, \\nPropositional logic, Game playing, Minimax Theorem and Alpha -Beta Pruning, Natural \\nLanguage Processing, Deep learning and computer vision.  \\nEvaluation  Method:  Continuou s Assessment  and/or  End  Semester  Examination  \\n \\nCSC 4262: Selected Topics (30 Lecture hours)  This course provides students with a', 'Language Processing, Deep learning and computer vision.  \\nEvaluation  Method:  Continuou s Assessment  and/or  End  Semester  Examination  \\n \\nCSC 4262: Selected Topics (30 Lecture hours)  This course provides students with a \\nunderstanding of different new concepts related to Computer Science.  The detailed contents  \\nmay be changed from year to year depending on the current trends and available expertise. \\nEvaluation  Method:   Continuous  Assessment  and/or  End Semester  Examination  \\n \\n1.9 Examinations  - BCS  Degree  Programmes  \\nBachelor  of Computer  Science  (General)  Degree  \\nThe Bachelor of Computer Science (General) Degree will include six semesters during which \\nstudents  will have  to follow  Compulsory  Course  Units  (CCU)  offered  by respective  depart - 20  ments and elective or optional Course Units (OCU). The Bachelor  of Computer Science \\n(General) Degree Examination will consist of end of semester examinations for theory and \\npractical Course Units.  \\n \\nBachelor  of Computer  Science  (Honours)  Degree  \\nThe duration  of the Honours  degree  programme  is four  academic  years  (eight  semesters) \\ninclusive of Level I, II and III of the BCS (General) degree.  \\nDuring  the four  academic  years  of the degree  programme,  a student  shall  complete  course', 'The duration  of the Honours  degree  programme  is four  academic  years  (eight  semesters) \\ninclusive of Level I, II and III of the BCS (General) degree.  \\nDuring  the four  academic  years  of the degree  programme,  a student  shall  complete  course \\nunits aggregating to 120  credits with  at least  30 credits from the fourth  academic year  of \\nthe Bachelor of Computer Science (Honours) Degree courses.  \\nThe Honours degree consists of examinations at the end of each semester or at the end \\nof course unit for research project.  \\n \\n1.9.1  Attendance  \\nTo be eligible to sit for an examination of a theory or pra ctical course unit, there should \\nminimum attendance of 80%.  If a student fails to meet this requirement for a particular \\ncourse  unit, he  or she will be considered  to have  failed  in that  course  unit (see  section  14.3.1 \\nfor further details).  \\n \\n1.9.2  Examination Criteria \\nEvaluation Methods  \\n• Theory  examination  (written/oral)  \\n• Practical  examination  \\n• Continuous  assessment  \\n• Assignment  \\n• Report  \\n• Presentation  \\n \\nGrading  System  \\nAwarding of grades for course units will be done according to the grading system given in  \\nthe Table in section 14.2  \\n \\nPass  in a Course  Unit', '• Practical  examination  \\n• Continuous  assessment  \\n• Assignment  \\n• Report  \\n• Presentation  \\n \\nGrading  System  \\nAwarding of grades for course units will be done according to the grading system given in  \\nthe Table in section 14.2  \\n \\nPass  in a Course  Unit  \\n• A candidate  who obtains grade  C or  better  for a Course  Unit  will be considered  to \\nhave passed in that Course Unit.  \\n• If a student fails to complete a Course Unit, grade of E will be given unless an accept - \\nable reason is produced.  In the event of given reason is accepted by the Senate on the \\nrecommendation of the Faculty Board, he/she will be considered as sitting for the first \\ntime in a subsequent attempt for that course unit.  21  \\n \\n \\n • A student  who  obtains  a C- or lower  grade  in a particular  Course  Unit,  may  re-sit \\nthe examination in respect of that Course Unit for the purpose of improving its grade \\nwithin  the stipulated  period.  The highest  grade  a student  can obtain  is C, which  is \\nin this instance equivalent to GPA 2.0.  In the event a student obtains a lower grade, \\nhe/she will be entitled to the previous grade.  Repeat candidates are not entitled to \\nattend  the lectures/practical  classes  of the Course  Unit  in which  he/she  has failed.  \\n \\nVerification  of Marks', 'in this instance equivalent to GPA 2.0.  In the event a student obtains a lower grade, \\nhe/she will be entitled to the previous grade.  Repeat candidates are not entitled to \\nattend  the lectures/practical  classes  of the Course  Unit  in which  he/she  has failed.  \\n \\nVerification  of Marks  \\nSee section  14.2.5  for details.  \\n \\n1.9.3  Bachelor  of Computer  Science  (General)  Degree  Requirements  \\nA candidate  shall  be eligible  for the conferment  of the Bachelor  of Computer  Science  (Gen - \\neral)  Degree  after  the successful  completion  of all requirements  within  a maximum  period  of \\nfive academic  years  from  the date  of entry  to the University  of Ruhuna  as specified  below.  \\nA student  shall  be deemed  to have  passed  the Bachelor  of Computer  Science  (General)  \\nDegree  Examination  if he/she  has obtained  \\n(a) a minimum  of 90 credits  \\n(b) grades  of C or better  aggregating  to a minimum  of 60%  credits  of Computer  Science \\nCCUs  \\n(c) grades  of C or better  aggregating  to a minimum  of 60%  credits  of Mathematics  CCUs  \\n(d) grades  of C or better  aggregating  to a minimum  of 60%  credits  of OCUs  \\n(e) a grade  C or better  for Industry  Based  Project/Industry  Placement  course  unit  \\n(f) Grade Point Average (GPA) of 2.00 or more.', '(d) grades  of C or better  aggregating  to a minimum  of 60%  credits  of OCUs  \\n(e) a grade  C or better  for Industry  Based  Project/Industry  Placement  course  unit  \\n(f) Grade Point Average (GPA) of 2.00 or more. \\nGPA will be calculated as follows:  \\n \\n \\n \\nAward  of Honours  \\nA student who has satisfied conditions given above is eligible for an award of an Honours  \\ndegree if he/she completes the requirements indicated below within three academic years \\nfrom the date of first registered securing grades of C or better aggregating to a minimum of \\n75 credits.  \\n(1) First  Class:  \\nFirst  Class  Honours  will be awarded  if he/she  obtains  \\n(i) a minimum  Overall  Average  of 3.70  and \\n(ii) grades  of A in Course  Units  aggregating  to a minimum  of 40 credits  \\n(2) Second  Class  (Upper  Division):  \\nSecond  Class  (Upper  Division)  Honours  will be awarded  if he/she  obtains  \\n(i) a minimum  Overall  Average  of 3.30  and 22  (ii) grades  B or better  in Course  Units  aggregating  to a minimum  of 40 credits.  \\n(3) Second  Class  (Lower  Division):  \\nSecond  Class  (Lower  Division)  Honours  will be awarded  if he/she  obtains  \\n(i) a minimum  Overall  Average  of 3.00  and \\n(ii) grades  of B or better  in Course  Units  aggregating  to a minimum  of 40 credits.', '(3) Second  Class  (Lower  Division):  \\nSecond  Class  (Lower  Division)  Honours  will be awarded  if he/she  obtains  \\n(i) a minimum  Overall  Average  of 3.00  and \\n(ii) grades  of B or better  in Course  Units  aggregating  to a minimum  of 40 credits.  \\n \\nOther  Requirements  \\nIn addition to the examination criteria stated above, the candidate have to pass in English \\nproficiency LevelI and Level II examinations in order to release the final results of the \\nBachelor of Computer Science degree.  \\n \\n1.9.4  Minimum Requirement for the Completi on of the Bachelor of Computer \\nScience (Honours) Degree  \\nA student shall be deemed to have passed the Bachelor of Computer Science (Honours) \\nDegree Examination if he/she has obtained following:  \\n(a) A minimum  of 120 credits  with  at least  30 credits  from  the four th academic  year  of \\nBachelor of Computer Science (Honours) degree course units,  \\n(b) An overall  minimum  Grade  Point  Average  (GPA)  of 2.5 for all course  units  followed \\nthroughout the four academic years of the degree programme and  \\n(c) A grade  not inferior  to C  for the fourth year  Individual  Research  Project.  \\n(d) Grade  of C or better  to a minimum  of 70%  credits  from  the fourth  year  course  units  \\n \\nAward  of Honours', 'throughout the four academic years of the degree programme and  \\n(c) A grade  not inferior  to C  for the fourth year  Individual  Research  Project.  \\n(d) Grade  of C or better  to a minimum  of 70%  credits  from  the fourth  year  course  units  \\n \\nAward  of Honours  \\nA student who has fulfilled all the conditions given above shall be awarded Honours, if he/she \\nfulfills the following additional requirements within four academic years from the date of first \\nregistration  (it shall  be within  the power  of the Senate  to declare for some  specified  reason \\nthat  a student  is eligible  for the award  of the Honours  at a subsequent  occasion)  securing \\ngrades  of C or better  aggregating  to a minimum  of 25 credits  from  Bachelor  of Computer \\nScience (Honours) Degree Course Units.  \\n(i) First  Class  Honours  \\n(a) A minimum  GPA  of 3.70  for Honours  Degree  Course  Units,  \\n(b) A minimum  GPA  of 3.70  for all course  units,  and \\n(c) Grades  of A or better  for Honours  Degree  Course  Units  aggregating  to a minimum \\nof 15 credits  \\n(ii) Second Class  (Upper  Division)  \\n(a) A minimum  GPA  of 3.30  for Honours  Degree  Course  Units,  \\n(b) A minimum  GPA  of 3.30  for all course  units,  and', '(c) Grades  of A or better  for Honours  Degree  Course  Units  aggregating  to a minimum \\nof 15 credits  \\n(ii) Second Class  (Upper  Division)  \\n(a) A minimum  GPA  of 3.30  for Honours  Degree  Course  Units,  \\n(b) A minimum  GPA  of 3.30  for all course  units,  and \\n(c) Grades  of A- or better  for Honours  Degree  Course  Units  aggregating  to a mini - \\nmum of 12 credits  23  (iii) Second  Class  (Lower  Division)  \\n(a) A minimum  GPA  of 3.00  for Honours  Degree  Course  Units,  and \\n(b) A minimum  GPA  of 3.00  for all course  units']\n"
     ]
    }
   ],
   "source": [
    "print(chunks)"
   ]
  },
  {
   "cell_type": "markdown",
   "metadata": {},
   "source": [
    "## Convert chunks into vectors(Text Embeddings)"
   ]
  },
  {
   "cell_type": "code",
   "execution_count": 17,
   "metadata": {},
   "outputs": [
    {
     "name": "stderr",
     "output_type": "stream",
     "text": [
      "c:\\Users\\acer\\OneDrive\\Desktop\\QA\\AI_QA\\venv\\Lib\\site-packages\\langchain_core\\_api\\deprecation.py:139: LangChainDeprecationWarning: The class `OpenAIEmbeddings` was deprecated in LangChain 0.0.9 and will be removed in 0.3.0. An updated version of the class exists in the langchain-openai package and should be used instead. To use it run `pip install -U langchain-openai` and import as `from langchain_openai import OpenAIEmbeddings`.\n",
      "  warn_deprecated(\n"
     ]
    }
   ],
   "source": [
    "import os\n",
    "#Import 'OpenAIEmbeddings class'\n",
    "from langchain.embeddings import OpenAIEmbeddings\n",
    "\n",
    "from langchain_community.vectorstores import FAISS\n",
    "#initialize the connection of my db\n",
    "\n",
    "# Load environment variables from the .env file\n",
    "from dotenv import load_dotenv,find_dotenv\n",
    "load_dotenv(find_dotenv()) \n",
    "\n",
    "# Retrieve the OpenAI API key from the environment variables\n",
    "OPENAI_API_KEY = os.environ.get(\"OPENAI_API_KEY\")\n",
    "\n",
    "# Ensure the API key is available\n",
    "if OPENAI_API_KEY is None:\n",
    "    raise ValueError(\"OpenAI API key not found. Please set it in the .env file.\")\n",
    "\n",
    "# Initialize OpenAIEmbeddings with your API key\n",
    "embedding = OpenAIEmbeddings(openai_api_key = OPENAI_API_KEY)\n",
    "\n"
   ]
  },
  {
   "cell_type": "code",
   "execution_count": 18,
   "metadata": {},
   "outputs": [],
   "source": [
    "#store in the vector db \n",
    "db = FAISS.from_texts(texts = chunks,embedding = embedding)"
   ]
  },
  {
   "cell_type": "code",
   "execution_count": 19,
   "metadata": {},
   "outputs": [],
   "source": [
    "if os.path.exists(\"vectorstore/index.pkl\"):\n",
    "    # Load the existing vector store\n",
    "    db = FAISS.load_local(\"vectorstore\", embedding,allow_dangerous_deserialization=True)\n",
    "else:\n",
    "    # Create a new vector store from the text chunks\n",
    "    db = FAISS.from_texts(texts=chunks, embedding=embedding)\n",
    "    # Save the newly created vector store locally\n",
    "    db.save_local(\"vectorstore\")"
   ]
  },
  {
   "cell_type": "markdown",
   "metadata": {},
   "source": [
    "### Similarity Check"
   ]
  },
  {
   "cell_type": "code",
   "execution_count": 20,
   "metadata": {},
   "outputs": [],
   "source": [
    "#query = \"what are the Minimum Requirement for the Completion of the Bachelor of Computer Science Honours Degree ?\"\n",
    "query = \"who are the lecturers in computer science department with their designation and their qualifications\"\n",
    "docs = db.similarity_search(query)"
   ]
  },
  {
   "cell_type": "code",
   "execution_count": 21,
   "metadata": {},
   "outputs": [
    {
     "data": {
      "text/plain": [
       "4"
      ]
     },
     "execution_count": 21,
     "metadata": {},
     "output_type": "execute_result"
    }
   ],
   "source": [
    "len(docs)"
   ]
  },
  {
   "cell_type": "code",
   "execution_count": 22,
   "metadata": {},
   "outputs": [
    {
     "name": "stdout",
     "output_type": "stream",
     "text": [
      "page_content='Lecturer  \n",
      " \n",
      " \n",
      " \n",
      " \n",
      " \n",
      " \n",
      " \n",
      "Probationary \n",
      "Lecturer  Dr. W. A. Mohotti  \n",
      "B.Sc.  IT (Moratuwa, SL) \n",
      "M.Sc.  in IT (Moratuwa,  SL) \n",
      "Ph.D.  (QUT,  Australia)  Data  Mining  and Machine  Learning,  \n",
      "Text Clustering, Outlier Detection, and \n",
      "Cluster Evolution, Social Media Analytics  \n",
      "Dr. D. W. C. P. Kumari  \n",
      "B. Sc.  in Comp.  Sci. (UCSC, SL) \n",
      "M.Phil.  (UCSC, SL)  \n",
      "PhD (QUT, Australia) \n",
      "(On Leave)  \n",
      "Mr. K. D. C. G. Kapugama \n",
      "BCS (Ruhuna, SL)  \n",
      "Reading  for PhD  (Monash,  Australia)  \n",
      "(On Leave)  Information  Security,  Process  \n",
      "Analytics, Mathematical \n",
      "Modelling,  Event  log analysis \n",
      "Data Structure & Algorithms \n",
      "Evolutionary Algorithms  \n",
      "Data Mining, Text Mining  \n",
      "Mr. P. D. T. Chathuranga  \n",
      "BCS (Ruhuna,  SL) Natural  Language  Processing,  \n",
      "Sentiment  Analysis,  Text  Mining,  \n",
      "Machine  Learning  \n",
      "Mr. L.L. Gihan  Chathuranga  \n",
      "B.Sc  (Sabaragamuwa,  S.L) Machine  Learning,  Artificial  Neural  \n",
      "Networks,  Artificial  Intelligence,  \n",
      "Data  mining  \n",
      "Ms. H.D.  Supuni  Shashikala  \n",
      "B.Sc.  (UWU,  S.L.),  \n",
      "Reading  for M.Sc.  (Peradeniya,  S.L.)  Machine  Learning,  Feature  Extraction,  \n",
      "Deep  Learning  \n",
      "1.4 Members  of the Academic  Support  Staff  \n",
      " \n",
      "Academic  Supportive  Staff  Members  \n",
      "Designation  Name  \n",
      "Programmer  Cum  Systems  Analyst  Mr. H. G. U. Harankahadeniya'\n"
     ]
    }
   ],
   "source": [
    "print(docs[0])"
   ]
  },
  {
   "cell_type": "code",
   "execution_count": 23,
   "metadata": {},
   "outputs": [],
   "source": [
    "docs = db.similarity_search_with_score(query)"
   ]
  },
  {
   "cell_type": "code",
   "execution_count": 24,
   "metadata": {},
   "outputs": [
    {
     "data": {
      "text/plain": [
       "(Document(page_content='Lecturer  \\n \\n \\n \\n \\n \\n \\n \\nProbationary \\nLecturer  Dr. W. A. Mohotti  \\nB.Sc.  IT (Moratuwa, SL) \\nM.Sc.  in IT (Moratuwa,  SL) \\nPh.D.  (QUT,  Australia)  Data  Mining  and Machine  Learning,  \\nText Clustering, Outlier Detection, and \\nCluster Evolution, Social Media Analytics  \\nDr. D. W. C. P. Kumari  \\nB. Sc.  in Comp.  Sci. (UCSC, SL) \\nM.Phil.  (UCSC, SL)  \\nPhD (QUT, Australia) \\n(On Leave)  \\nMr. K. D. C. G. Kapugama \\nBCS (Ruhuna, SL)  \\nReading  for PhD  (Monash,  Australia)  \\n(On Leave)  Information  Security,  Process  \\nAnalytics, Mathematical \\nModelling,  Event  log analysis \\nData Structure & Algorithms \\nEvolutionary Algorithms  \\nData Mining, Text Mining  \\nMr. P. D. T. Chathuranga  \\nBCS (Ruhuna,  SL) Natural  Language  Processing,  \\nSentiment  Analysis,  Text  Mining,  \\nMachine  Learning  \\nMr. L.L. Gihan  Chathuranga  \\nB.Sc  (Sabaragamuwa,  S.L) Machine  Learning,  Artificial  Neural  \\nNetworks,  Artificial  Intelligence,  \\nData  mining  \\nMs. H.D.  Supuni  Shashikala  \\nB.Sc.  (UWU,  S.L.),  \\nReading  for M.Sc.  (Peradeniya,  S.L.)  Machine  Learning,  Feature  Extraction,  \\nDeep  Learning  \\n1.4 Members  of the Academic  Support  Staff  \\n \\nAcademic  Supportive  Staff  Members  \\nDesignation  Name  \\nProgrammer  Cum  Systems  Analyst  Mr. H. G. U. Harankahadeniya'),\n",
       " 0.31285822)"
      ]
     },
     "execution_count": 24,
     "metadata": {},
     "output_type": "execute_result"
    }
   ],
   "source": [
    "docs[0]"
   ]
  },
  {
   "cell_type": "code",
   "execution_count": 25,
   "metadata": {},
   "outputs": [
    {
     "data": {
      "text/plain": [
       "(Document(page_content='B.Sc.  (UWU,  S.L.),  \\nReading  for M.Sc.  (Peradeniya,  S.L.)  Machine  Learning,  Feature  Extraction,  \\nDeep  Learning  \\n1.4 Members  of the Academic  Support  Staff  \\n \\nAcademic  Supportive  Staff  Members  \\nDesignation  Name  \\nProgrammer  Cum  Systems  Analyst  Mr. H. G. U. Harankahadeniya  \\nMr. B. H. Saranapala  \\nMr. A. P. Luwishewa  \\nInstructor  in Computer  Technology  Ms. P. B. N. K. De Silva  \\nMr. U. V. Malawara  Arachchi \\nMs. W.P. Priyanthi  \\nMr. R. Wickramaratne \\nMr. C.L. Wimalaratne \\nMs. G.K. Mabula  \\nMr. L.W.  Wellakkage \\nMr. G.M.T. Ranjana \\nMrs.  W. K. Shajith  \\nMiss.  H. G. S. Priyangani  \\n \\n \\n1.5 Course  Units  in Computer  Science  for B.Sc.  (General)  Degree  \\nLevel  I - Semester  I \\nCOM1111:   Basic  Concepts  of Information  Technology  (15 lecture  hrs.)    Overview  \\nof Computer System, Function of Computer System, Input/Output Peripherals, Computer \\nStorages, Systems Software, Data type and Data representation, Computer Arithmetic, Ap - \\nplication software, Computer and Communication, The Internet, Computer security and \\nMaintenances, Ethical use of computer  \\nEvaluation  Method  : End  Semester  Examination  6  COM112 β: Programming Techniques (30 lecture hrs.  & 22.5 practical hrs.)  In-'),\n",
       " 0.40364957)"
      ]
     },
     "execution_count": 25,
     "metadata": {},
     "output_type": "execute_result"
    }
   ],
   "source": [
    "docs[1]"
   ]
  },
  {
   "cell_type": "code",
   "execution_count": 26,
   "metadata": {},
   "outputs": [
    {
     "data": {
      "text/plain": [
       "(Document(page_content='Rule Modeling  \\n• Network  Monitoring  and Acquiring  and Managing  Information  \\n• E-commerce information systems development, Model -drivers design, Goal, Business  \\n& service Modelling  \\n• Computational Geometry, Computer Graphics programming, Design and Analysis of \\nAlgorithms, Graph Theory  \\n• Computational Systems Biology, Bioinformatics, Modelling and Simulation, Neural \\nComputing, stochastic modelling  \\n• Embedded  Systems,  reconfigurable  computing,  Bioinformatics  \\n• Knowledge Representation, Ontology, Semantic Web, Ontology Engineering, Mobile \\nApplications  4  1.2 Head  of the Department  \\nDr. W.A.  Indika  \\nB.Sc.  (Kelaniya,  S.L.),  M.Sc.  (Kelaniya,  S.L.),  PhD  (UCSC,  S.L.)  \\n \\n1.3 Members  of Academic  Staff  \\n \\n \\nDesignation  Name  Specialization  \\nSenior  \\nLecturer  Mr. S. A. S. Lorensuhewa  \\nB.Sc.  (Colombo, SL) \\nM.Sc.  (Zhejiang,  China)  Computer  Applications,  Text  Mining  and \\nText Classification Data Mining, \\nRule Extraction and  \\nKnowledge  Representation,  \\nApplications  of Machine  Learning  Techniques  \\nDr. W. A. Indika  \\nB.Sc.  (Kelaniya,  S.L.)  \\nM.Sc.  (Kelaniya,  S.L.)  \\nPhD  (UCSC,  S.L)  Knowledge  Representation,  \\nOntology, Semantic Web, \\nOntology Engineering, Mobile  \\nApplications  \\nDr. J. A. Jeewanie  \\nB.Sc.  (Kelaniya,  SL)'),\n",
       " 0.41559887)"
      ]
     },
     "execution_count": 26,
     "metadata": {},
     "output_type": "execute_result"
    }
   ],
   "source": [
    "docs[2]"
   ]
  },
  {
   "cell_type": "code",
   "execution_count": 27,
   "metadata": {},
   "outputs": [
    {
     "data": {
      "text/plain": [
       "(Document(page_content='get experience  on issues  related  to industry.  At the end of the training,  the students  should \\nmake a presentation of their findings and submit a report.  \\nEvaluation  Method:  Dairy,  Report,  Presentation  \\n \\n1.8 Bachelor  of Computer  Science  (Honours)  Degree  \\nA limited number of students are selected to follow the Bachelor of Computer Science (Hon - \\nours) degree programme after completion of three academic years of Bachelor of computer \\nscience (General Degree Programme).  The selection of  students is done according to their \\nacademic performance during Level I, Level II and Level III of the BCS (General) degree \\nprogramme.  \\n \\n1.8.1  Criteria  for Selection  to the BCS  (Honours)  Degree  Programme  \\n1. The Department  of Computer  Science  shall  determine  the number  of students  to be \\nadmitted each year.  \\n2. A student shall be eligible to apply if he/she has fulfilled the following requirements at \\nthe completion of the Level III of the Bachelor of Computer Science (General) Degree:  \\n(a) A minimum of  90 cred its, \\n(b) grades  of B- or better  for 80%  of Computer  Science  course  units,  \\n(c) grades of C or better from theory aggregating to a minimum of 60% credits from \\nMathematics course units,'),\n",
       " 0.4282171)"
      ]
     },
     "execution_count": 27,
     "metadata": {},
     "output_type": "execute_result"
    }
   ],
   "source": [
    "docs[3]"
   ]
  },
  {
   "cell_type": "code",
   "execution_count": 28,
   "metadata": {},
   "outputs": [],
   "source": [
    "#docs[4]"
   ]
  },
  {
   "cell_type": "markdown",
   "metadata": {},
   "source": [
    "### Similarity Check by Vector"
   ]
  },
  {
   "cell_type": "code",
   "execution_count": 29,
   "metadata": {},
   "outputs": [
    {
     "name": "stdout",
     "output_type": "stream",
     "text": [
      "Lecturer  \n",
      " \n",
      " \n",
      " \n",
      " \n",
      " \n",
      " \n",
      " \n",
      "Probationary \n",
      "Lecturer  Dr. W. A. Mohotti  \n",
      "B.Sc.  IT (Moratuwa, SL) \n",
      "M.Sc.  in IT (Moratuwa,  SL) \n",
      "Ph.D.  (QUT,  Australia)  Data  Mining  and Machine  Learning,  \n",
      "Text Clustering, Outlier Detection, and \n",
      "Cluster Evolution, Social Media Analytics  \n",
      "Dr. D. W. C. P. Kumari  \n",
      "B. Sc.  in Comp.  Sci. (UCSC, SL) \n",
      "M.Phil.  (UCSC, SL)  \n",
      "PhD (QUT, Australia) \n",
      "(On Leave)  \n",
      "Mr. K. D. C. G. Kapugama \n",
      "BCS (Ruhuna, SL)  \n",
      "Reading  for PhD  (Monash,  Australia)  \n",
      "(On Leave)  Information  Security,  Process  \n",
      "Analytics, Mathematical \n",
      "Modelling,  Event  log analysis \n",
      "Data Structure & Algorithms \n",
      "Evolutionary Algorithms  \n",
      "Data Mining, Text Mining  \n",
      "Mr. P. D. T. Chathuranga  \n",
      "BCS (Ruhuna,  SL) Natural  Language  Processing,  \n",
      "Sentiment  Analysis,  Text  Mining,  \n",
      "Machine  Learning  \n",
      "Mr. L.L. Gihan  Chathuranga  \n",
      "B.Sc  (Sabaragamuwa,  S.L) Machine  Learning,  Artificial  Neural  \n",
      "Networks,  Artificial  Intelligence,  \n",
      "Data  mining  \n",
      "Ms. H.D.  Supuni  Shashikala  \n",
      "B.Sc.  (UWU,  S.L.),  \n",
      "Reading  for M.Sc.  (Peradeniya,  S.L.)  Machine  Learning,  Feature  Extraction,  \n",
      "Deep  Learning  \n",
      "1.4 Members  of the Academic  Support  Staff  \n",
      " \n",
      "Academic  Supportive  Staff  Members  \n",
      "Designation  Name  \n",
      "Programmer  Cum  Systems  Analyst  Mr. H. G. U. Harankahadeniya\n"
     ]
    }
   ],
   "source": [
    "embedding_vector= embedding.embed_query(query)\n",
    "docs = db.similarity_search_by_vector(embedding_vector)\n",
    "print(docs[0].page_content)"
   ]
  },
  {
   "cell_type": "code",
   "execution_count": 30,
   "metadata": {},
   "outputs": [
    {
     "name": "stdout",
     "output_type": "stream",
     "text": [
      "page_content='Rule Modeling  \n",
      "• Network  Monitoring  and Acquiring  and Managing  Information  \n",
      "• E-commerce information systems development, Model -drivers design, Goal, Business  \n",
      "& service Modelling  \n",
      "• Computational Geometry, Computer Graphics programming, Design and Analysis of \n",
      "Algorithms, Graph Theory  \n",
      "• Computational Systems Biology, Bioinformatics, Modelling and Simulation, Neural \n",
      "Computing, stochastic modelling  \n",
      "• Embedded  Systems,  reconfigurable  computing,  Bioinformatics  \n",
      "• Knowledge Representation, Ontology, Semantic Web, Ontology Engineering, Mobile \n",
      "Applications  4  1.2 Head  of the Department  \n",
      "Dr. W.A.  Indika  \n",
      "B.Sc.  (Kelaniya,  S.L.),  M.Sc.  (Kelaniya,  S.L.),  PhD  (UCSC,  S.L.)  \n",
      " \n",
      "1.3 Members  of Academic  Staff  \n",
      " \n",
      " \n",
      "Designation  Name  Specialization  \n",
      "Senior  \n",
      "Lecturer  Mr. S. A. S. Lorensuhewa  \n",
      "B.Sc.  (Colombo, SL) \n",
      "M.Sc.  (Zhejiang,  China)  Computer  Applications,  Text  Mining  and \n",
      "Text Classification Data Mining, \n",
      "Rule Extraction and  \n",
      "Knowledge  Representation,  \n",
      "Applications  of Machine  Learning  Techniques  \n",
      "Dr. W. A. Indika  \n",
      "B.Sc.  (Kelaniya,  S.L.)  \n",
      "M.Sc.  (Kelaniya,  S.L.)  \n",
      "PhD  (UCSC,  S.L)  Knowledge  Representation,  \n",
      "Ontology, Semantic Web, \n",
      "Ontology Engineering, Mobile  \n",
      "Applications  \n",
      "Dr. J. A. Jeewanie  \n",
      "B.Sc.  (Kelaniya,  SL)'\n"
     ]
    }
   ],
   "source": [
    "print(docs[2])"
   ]
  },
  {
   "cell_type": "code",
   "execution_count": 31,
   "metadata": {},
   "outputs": [
    {
     "name": "stdout",
     "output_type": "stream",
     "text": [
      "page_content='get experience  on issues  related  to industry.  At the end of the training,  the students  should \n",
      "make a presentation of their findings and submit a report.  \n",
      "Evaluation  Method:  Dairy,  Report,  Presentation  \n",
      " \n",
      "1.8 Bachelor  of Computer  Science  (Honours)  Degree  \n",
      "A limited number of students are selected to follow the Bachelor of Computer Science (Hon - \n",
      "ours) degree programme after completion of three academic years of Bachelor of computer \n",
      "science (General Degree Programme).  The selection of  students is done according to their \n",
      "academic performance during Level I, Level II and Level III of the BCS (General) degree \n",
      "programme.  \n",
      " \n",
      "1.8.1  Criteria  for Selection  to the BCS  (Honours)  Degree  Programme  \n",
      "1. The Department  of Computer  Science  shall  determine  the number  of students  to be \n",
      "admitted each year.  \n",
      "2. A student shall be eligible to apply if he/she has fulfilled the following requirements at \n",
      "the completion of the Level III of the Bachelor of Computer Science (General) Degree:  \n",
      "(a) A minimum of  90 cred its, \n",
      "(b) grades  of B- or better  for 80%  of Computer  Science  course  units,  \n",
      "(c) grades of C or better from theory aggregating to a minimum of 60% credits from \n",
      "Mathematics course units,'\n"
     ]
    }
   ],
   "source": [
    "print(docs[3])"
   ]
  },
  {
   "cell_type": "code",
   "execution_count": 32,
   "metadata": {},
   "outputs": [],
   "source": [
    "#print(docs[4])"
   ]
  },
  {
   "cell_type": "code",
   "execution_count": 33,
   "metadata": {},
   "outputs": [],
   "source": [
    "most_similar_doc = docs[0]"
   ]
  },
  {
   "cell_type": "markdown",
   "metadata": {},
   "source": [
    "### Generate the Answer"
   ]
  },
  {
   "cell_type": "code",
   "execution_count": 34,
   "metadata": {},
   "outputs": [
    {
     "name": "stderr",
     "output_type": "stream",
     "text": [
      "c:\\Users\\acer\\OneDrive\\Desktop\\QA\\AI_QA\\venv\\Lib\\site-packages\\langchain_core\\_api\\deprecation.py:139: LangChainDeprecationWarning: The class `OpenAI` was deprecated in LangChain 0.0.10 and will be removed in 0.3.0. An updated version of the class exists in the langchain-openai package and should be used instead. To use it run `pip install -U langchain-openai` and import as `from langchain_openai import OpenAI`.\n",
      "  warn_deprecated(\n"
     ]
    }
   ],
   "source": [
    "from langchain.llms import OpenAI\n",
    "llm = OpenAI(api_key = OPENAI_API_KEY)"
   ]
  },
  {
   "cell_type": "code",
   "execution_count": 35,
   "metadata": {},
   "outputs": [],
   "source": [
    "from langchain.chains.question_answering import load_qa_chain\n",
    "chain = load_qa_chain(llm = llm , chain_type = 'stuff')"
   ]
  },
  {
   "cell_type": "code",
   "execution_count": 36,
   "metadata": {},
   "outputs": [
    {
     "name": "stderr",
     "output_type": "stream",
     "text": [
      "c:\\Users\\acer\\OneDrive\\Desktop\\QA\\AI_QA\\venv\\Lib\\site-packages\\langchain_core\\_api\\deprecation.py:139: LangChainDeprecationWarning: The method `Chain.run` was deprecated in langchain 0.1.0 and will be removed in 0.3.0. Use invoke instead.\n",
      "  warn_deprecated(\n"
     ]
    }
   ],
   "source": [
    "response = chain.run(input_documents = docs , question = query)"
   ]
  },
  {
   "cell_type": "code",
   "execution_count": 37,
   "metadata": {},
   "outputs": [
    {
     "data": {
      "text/plain": [
       "' \\n\\n1. Dr. W. A. Mohotti - Probationary Lecturer, B.Sc. IT (Moratuwa, SL), M.Sc. in IT (Moratuwa, SL), Ph.D. (QUT, Australia) in Data Mining and Machine Learning, Text Clustering, Outlier Detection, and Cluster Evolution, Social Media Analytics\\n2. Dr. D. W. C. P. Kumari - (On Leave), B.Sc. in Comp. Sci. (UCSC, SL), M.Phil. (UCSC, SL), Ph.D. (QUT, Australia)\\n3. Mr. K. D. C. G. Kapugama - (On Leave), BCS (Ruhuna, SL), Reading for PhD (Monash, Australia) in Information Security, Process Analytics, Mathematical Modelling, Event log analysis, Data Structure & Algorithms, Evolutionary Algorithms, Data Mining, Text Mining\\n4. Mr. P. D. T. Chathuranga - BCS (Ruhuna, SL) in Natural Language Processing, Sentiment Analysis, Text Mining, Machine Learning\\n5. Mr. L.L. Gihan Chathuranga - B.Sc. (Sabaragamuwa'"
      ]
     },
     "execution_count": 37,
     "metadata": {},
     "output_type": "execute_result"
    }
   ],
   "source": [
    "response"
   ]
  },
  {
   "cell_type": "code",
   "execution_count": 38,
   "metadata": {},
   "outputs": [
    {
     "name": "stdout",
     "output_type": "stream",
     "text": [
      " \n",
      "\n",
      "1. Dr. W. A. Mohotti - Probationary Lecturer, B.Sc. IT (Moratuwa, SL), M.Sc. in IT (Moratuwa, SL), Ph.D. (QUT, Australia) in Data Mining and Machine Learning, Text Clustering, Outlier Detection, and Cluster Evolution, Social Media Analytics\n",
      "2. Dr. D. W. C. P. Kumari - (On Leave), B.Sc. in Comp. Sci. (UCSC, SL), M.Phil. (UCSC, SL), Ph.D. (QUT, Australia)\n",
      "3. Mr. K. D. C. G. Kapugama - (On Leave), BCS (Ruhuna, SL), Reading for PhD (Monash, Australia) in Information Security, Process Analytics, Mathematical Modelling, Event log analysis, Data Structure & Algorithms, Evolutionary Algorithms, Data Mining, Text Mining\n",
      "4. Mr. P. D. T. Chathuranga - BCS (Ruhuna, SL) in Natural Language Processing, Sentiment Analysis, Text Mining, Machine Learning\n",
      "5. Mr. L.L. Gihan Chathuranga - B.Sc. (Sabaragamuwa\n"
     ]
    }
   ],
   "source": [
    "print(response)"
   ]
  },
  {
   "cell_type": "code",
   "execution_count": null,
   "metadata": {},
   "outputs": [],
   "source": []
  }
 ],
 "metadata": {
  "kernelspec": {
   "display_name": "Python 3",
   "language": "python",
   "name": "python3"
  },
  "language_info": {
   "codemirror_mode": {
    "name": "ipython",
    "version": 3
   },
   "file_extension": ".py",
   "mimetype": "text/x-python",
   "name": "python",
   "nbconvert_exporter": "python",
   "pygments_lexer": "ipython3",
   "version": "3.11.0"
  }
 },
 "nbformat": 4,
 "nbformat_minor": 2
}
