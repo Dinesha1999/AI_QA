{
 "cells": [
  {
   "cell_type": "markdown",
   "metadata": {},
   "source": [
    "## Import Libraries"
   ]
  },
  {
   "cell_type": "code",
   "execution_count": 56,
   "metadata": {},
   "outputs": [],
   "source": [
    "import os\n",
    "import sys"
   ]
  },
  {
   "cell_type": "markdown",
   "metadata": {},
   "source": [
    "## Read text from PDF\n",
    "##### Provide the path of PDF file before initialized everything"
   ]
  },
  {
   "cell_type": "code",
   "execution_count": 57,
   "metadata": {},
   "outputs": [],
   "source": [
    "data='data.pdf'"
   ]
  },
  {
   "cell_type": "code",
   "execution_count": 58,
   "metadata": {},
   "outputs": [
    {
     "data": {
      "text/plain": [
       "'data.pdf'"
      ]
     },
     "execution_count": 58,
     "metadata": {},
     "output_type": "execute_result"
    }
   ],
   "source": [
    "data"
   ]
  },
  {
   "cell_type": "markdown",
   "metadata": {},
   "source": [
    "## Extract data by reading"
   ]
  },
  {
   "cell_type": "code",
   "execution_count": 59,
   "metadata": {},
   "outputs": [],
   "source": [
    "import PyPDF2\n",
    "from docx import Document"
   ]
  },
  {
   "cell_type": "code",
   "execution_count": 60,
   "metadata": {},
   "outputs": [],
   "source": [
    "def extract_text_pdf(pdf):\n",
    "    text = \"\"\n",
    "    reader = PyPDF2.PdfReader(pdf)\n",
    "    for page in reader.pages:\n",
    "        text += page.extract_text() or \"\"\n",
    "    return text"
   ]
  },
  {
   "cell_type": "code",
   "execution_count": 61,
   "metadata": {},
   "outputs": [],
   "source": [
    "def extract_text_docx(docx):\n",
    "    doc = Document(docx)\n",
    "    text = \"\"\n",
    "    for paragraph in doc.paragraphs:\n",
    "        text += paragraph.text + \"\\n\"\n",
    "    return text"
   ]
  },
  {
   "cell_type": "code",
   "execution_count": 62,
   "metadata": {},
   "outputs": [
    {
     "data": {
      "text/plain": [
       "'The file can be any pdf or any docs. read the pdf/docs and go through each and every pages and extract the text'"
      ]
     },
     "execution_count": 62,
     "metadata": {},
     "output_type": "execute_result"
    }
   ],
   "source": [
    "'''def get_pdf_text(pdf_docs):\n",
    "    text =\"\"\n",
    "    for pdf in pdf_docs:\n",
    "        pdf_reader =PyPDF2.PdfReader(pdf_docs) \n",
    "        for page in pdf_reader.pages:\n",
    "            text += page.extract_text()\n",
    "    return text'''\n",
    "\n",
    "\n",
    "\n",
    "'''The file can be any pdf or any docs. read the pdf/docs and go through each and every pages and extract the text'''\n"
   ]
  },
  {
   "cell_type": "code",
   "execution_count": 63,
   "metadata": {},
   "outputs": [],
   "source": [
    "def extract(doc):\n",
    "    _, file_extension = doc.split('.')\n",
    "    print(file_extension)\n",
    "    if file_extension == 'pdf':\n",
    "        return extract_text_pdf(doc)\n",
    "    elif file_extension == 'docx':\n",
    "        return extract_text_docx(doc)\n",
    "    else:\n",
    "        raise ValueError(\"Unsupported file format\")"
   ]
  },
  {
   "cell_type": "code",
   "execution_count": 64,
   "metadata": {},
   "outputs": [
    {
     "name": "stdout",
     "output_type": "stream",
     "text": [
      "pdf\n"
     ]
    }
   ],
   "source": [
    "text_data=extract(data)\n"
   ]
  },
  {
   "cell_type": "code",
   "execution_count": 65,
   "metadata": {},
   "outputs": [],
   "source": [
    "#print(text_data)"
   ]
  },
  {
   "cell_type": "markdown",
   "metadata": {},
   "source": [
    "### Convert each text into chunks\n",
    "##### need to split the text using CharacterTextSplitter (which is basically present in Langchain.text_splitter) such that it should not increase token size\n"
   ]
  },
  {
   "cell_type": "code",
   "execution_count": 66,
   "metadata": {},
   "outputs": [],
   "source": [
    "from langchain.text_splitter import CharacterTextSplitter"
   ]
  },
  {
   "cell_type": "code",
   "execution_count": 67,
   "metadata": {},
   "outputs": [],
   "source": [
    "text_splitter = CharacterTextSplitter(\n",
    "    separator=\"\\n\",\n",
    "    chunk_size =1300,\n",
    "    chunk_overlap =300,\n",
    "    length_function =len,\n",
    "\n",
    "    )"
   ]
  },
  {
   "cell_type": "code",
   "execution_count": 68,
   "metadata": {},
   "outputs": [],
   "source": [
    "chunks = text_splitter.split_text(text_data)\n",
    "\n",
    "#taking the particular text & splitting based on information"
   ]
  },
  {
   "cell_type": "code",
   "execution_count": 69,
   "metadata": {},
   "outputs": [
    {
     "data": {
      "text/plain": [
       "61"
      ]
     },
     "execution_count": 69,
     "metadata": {},
     "output_type": "execute_result"
    }
   ],
   "source": [
    "len(chunks)"
   ]
  },
  {
   "cell_type": "code",
   "execution_count": 70,
   "metadata": {},
   "outputs": [
    {
     "name": "stdout",
     "output_type": "stream",
     "text": [
      "cal hrs.)  Introduction  to System  Development  environment,  The Object  paradigm,  Objec - \n",
      "tory  S/W  development  process,  Object  Oriented  Modelling  using  UML,  Use case  diagrams, \n",
      "Class  diagram,  Interaction  diagram, Class  declaration, Method  implementation, Informa - \n",
      "tion hiding and Access modifiers, Class Hierarchy (inheritance), Polymorphism, Packages \n",
      "and Data  abstraction.  Practical  using  Rational  Rose  and OO Programming  using  Java/C++ \n",
      "Evaluatio n Method:  Practical  Examination  30%  and End Semester  Examina - \n",
      "tion 70% (Student must obtain at least 35% from the theory paper and the 30% \n",
      "from the practical paper)  7  COM213 α: Operating  Systems  (15 lecture  hrs. & 22.5  practical  hrs.)   Introduc - \n",
      "tion, Process Management, CPU Scheduling, Deadlocks, Memory Management, File -System \n",
      "Implementation, I/O Systems.  Practical oriented  \n",
      "Evaluation Method:  Practical Examination 30% and End  Semester Examina - \n",
      "tion 70% (Student must obtain at least 35% from the theory paper and 30% \n",
      "from the practical paper)  \n",
      " \n",
      "COM2141: Computer Architecture (15 lecture hrs.)  Number Systems, Boolean \n",
      "Algebra & K’maps, Logic Gates, Circuits Design, Memory Architect ure, CPU Architecture, \n",
      "Instruction Cycle, Instruction set.\n"
     ]
    }
   ],
   "source": [
    "print(chunks[12])"
   ]
  },
  {
   "cell_type": "code",
   "execution_count": 71,
   "metadata": {},
   "outputs": [],
   "source": [
    "#print(chunks)"
   ]
  },
  {
   "cell_type": "markdown",
   "metadata": {},
   "source": [
    "## Convert chunks into vectors(Text Embeddings)"
   ]
  },
  {
   "cell_type": "code",
   "execution_count": 72,
   "metadata": {},
   "outputs": [],
   "source": [
    "import os\n",
    "#Import 'OpenAIEmbeddings class'\n",
    "from langchain.embeddings import OpenAIEmbeddings\n",
    "\n",
    "from langchain_community.vectorstores import FAISS\n",
    "#initialize the connection of my db\n",
    "\n",
    "# Load environment variables from the .env file\n",
    "from dotenv import load_dotenv,find_dotenv\n",
    "load_dotenv(find_dotenv()) \n",
    "\n",
    "# Retrieve the OpenAI API key from the environment variables\n",
    "OPENAI_API_KEY = os.environ.get(\"OPENAI_API_KEY\")\n",
    "\n",
    "# Ensure the API key is available\n",
    "if OPENAI_API_KEY is None:\n",
    "    raise ValueError(\"OpenAI API key not found. Please set it in the .env file.\")\n",
    "\n",
    "# Initialize OpenAIEmbeddings with your API key\n",
    "embedding = OpenAIEmbeddings(openai_api_key = OPENAI_API_KEY)\n",
    "\n"
   ]
  },
  {
   "cell_type": "code",
   "execution_count": 73,
   "metadata": {},
   "outputs": [],
   "source": [
    "#store in the vector db \n",
    "db = FAISS.from_texts(texts = chunks,embedding = embedding)"
   ]
  },
  {
   "cell_type": "code",
   "execution_count": 74,
   "metadata": {},
   "outputs": [],
   "source": [
    "if os.path.exists(\"vectorstore/index.pkl\"):\n",
    "    # Load the existing vector store\n",
    "    db = FAISS.load_local(\"vectorstore\", embedding,allow_dangerous_deserialization=True)\n",
    "else:\n",
    "    # Create a new vector store from the text chunks\n",
    "    db = FAISS.from_texts(texts=chunks, embedding=embedding)\n",
    "    # Save the newly created vector store locally\n",
    "    db.save_local(\"vectorstore\")"
   ]
  },
  {
   "cell_type": "markdown",
   "metadata": {},
   "source": [
    "### Similarity Check"
   ]
  },
  {
   "cell_type": "code",
   "execution_count": 75,
   "metadata": {},
   "outputs": [],
   "source": [
    "#query = \"what are the Minimum Requirement for the Completion of the Bachelor of Computer Science Honours Degree ?\"\n",
    "query = \"who are the lecturers in computer science department with their designation and their qualifications\"\n",
    "docs = db.similarity_search(query)"
   ]
  },
  {
   "cell_type": "code",
   "execution_count": 76,
   "metadata": {},
   "outputs": [
    {
     "data": {
      "text/plain": [
       "4"
      ]
     },
     "execution_count": 76,
     "metadata": {},
     "output_type": "execute_result"
    }
   ],
   "source": [
    "len(docs)"
   ]
  },
  {
   "cell_type": "code",
   "execution_count": 77,
   "metadata": {},
   "outputs": [
    {
     "name": "stdout",
     "output_type": "stream",
     "text": [
      "page_content='Lecturer  \n",
      " \n",
      " \n",
      " \n",
      " \n",
      " \n",
      " \n",
      " \n",
      "Probationary \n",
      "Lecturer  Dr. W. A. Mohotti  \n",
      "B.Sc.  IT (Mo ratuwa, SL) \n",
      "M.Sc.  in IT (Moratuwa,  SL) \n",
      "Ph.D.  (QUT,  Australia)  Data  Mining  and Machine  Learning,  \n",
      "Text Clustering, Outlier Detection, and \n",
      "Cluster Evolution, Social Media Analytics  \n",
      "Dr. D. W. C. P. Kumari  \n",
      "B. Sc.  in Comp.  Sci. (UCSC, SL) \n",
      "M.Phil.  (UCSC, SL)  \n",
      "PhD (QUT, Australia) \n",
      "(On Leave)  \n",
      "Mr. K. D. C. G. Kapugama \n",
      "BCS (Ruhuna, SL)  \n",
      "Reading  for PhD  (Monash,  Australia)  \n",
      "(On Leave)  Information  Security,  Process  \n",
      "Analytics, Mathematical \n",
      "Modelling,  Event  log analysis \n",
      "Data Structure & Algorithms \n",
      "Evolutionary Algorithms  \n",
      "Data Mining, Text Mining  \n",
      "Mr. P. D. T. Chathuranga  \n",
      "BCS (Ruhuna,  SL) Natural  Language  Processing,  \n",
      "Sentiment  Analysis,  Text  Mining,  \n",
      "Machine  Learning  \n",
      "Mr. L.L. Gihan  Chathuranga  \n",
      "B.Sc  (Sabaragamuwa,  S.L) Machine  Learning,  Artificial  Neural  \n",
      "Networks,  Artificia l Intelligence,  \n",
      "Data  mining  \n",
      "Ms. H.D.  Supuni  Shashikala  \n",
      "B.Sc.  (UWU,  S.L.),  \n",
      "Reading  for M.Sc.  (Peradeniya,  S.L.)  Machine  Learning,  Feature  Extraction,  \n",
      "Deep  Learning  \n",
      "1.4 Members  of the Academic  Support  Staff  \n",
      " \n",
      "Academic  Supportive  Staff  Members  \n",
      "Designation  Name  \n",
      "Programmer  Cum  Systems  Analyst  Mr. H. G. U. Harankahadeniya'\n"
     ]
    }
   ],
   "source": [
    "print(docs[0])"
   ]
  },
  {
   "cell_type": "code",
   "execution_count": 78,
   "metadata": {},
   "outputs": [],
   "source": [
    "docs = db.similarity_search_with_score(query)"
   ]
  },
  {
   "cell_type": "code",
   "execution_count": 79,
   "metadata": {},
   "outputs": [
    {
     "data": {
      "text/plain": [
       "(Document(page_content='Lecturer  \\n \\n \\n \\n \\n \\n \\n \\nProbationary \\nLecturer  Dr. W. A. Mohotti  \\nB.Sc.  IT (Mo ratuwa, SL) \\nM.Sc.  in IT (Moratuwa,  SL) \\nPh.D.  (QUT,  Australia)  Data  Mining  and Machine  Learning,  \\nText Clustering, Outlier Detection, and \\nCluster Evolution, Social Media Analytics  \\nDr. D. W. C. P. Kumari  \\nB. Sc.  in Comp.  Sci. (UCSC, SL) \\nM.Phil.  (UCSC, SL)  \\nPhD (QUT, Australia) \\n(On Leave)  \\nMr. K. D. C. G. Kapugama \\nBCS (Ruhuna, SL)  \\nReading  for PhD  (Monash,  Australia)  \\n(On Leave)  Information  Security,  Process  \\nAnalytics, Mathematical \\nModelling,  Event  log analysis \\nData Structure & Algorithms \\nEvolutionary Algorithms  \\nData Mining, Text Mining  \\nMr. P. D. T. Chathuranga  \\nBCS (Ruhuna,  SL) Natural  Language  Processing,  \\nSentiment  Analysis,  Text  Mining,  \\nMachine  Learning  \\nMr. L.L. Gihan  Chathuranga  \\nB.Sc  (Sabaragamuwa,  S.L) Machine  Learning,  Artificial  Neural  \\nNetworks,  Artificia l Intelligence,  \\nData  mining  \\nMs. H.D.  Supuni  Shashikala  \\nB.Sc.  (UWU,  S.L.),  \\nReading  for M.Sc.  (Peradeniya,  S.L.)  Machine  Learning,  Feature  Extraction,  \\nDeep  Learning  \\n1.4 Members  of the Academic  Support  Staff  \\n \\nAcademic  Supportive  Staff  Members  \\nDesignation  Name  \\nProgrammer  Cum  Systems  Analyst  Mr. H. G. U. Harankahadeniya'),\n",
       " 0.31865883)"
      ]
     },
     "execution_count": 79,
     "metadata": {},
     "output_type": "execute_result"
    }
   ],
   "source": [
    "docs[0]"
   ]
  },
  {
   "cell_type": "code",
   "execution_count": 80,
   "metadata": {},
   "outputs": [
    {
     "data": {
      "text/plain": [
       "(Document(page_content='B.Sc.  (UWU,  S.L.),  \\nReading  for M.Sc.  (Peradeniya,  S.L.)  Machine  Learning,  Feature  Extraction,  \\nDeep  Learning  \\n1.4 Members  of the Academic  Support  Staff  \\n \\nAcademic  Supportive  Staff  Members  \\nDesignation  Name  \\nProgrammer  Cum  Systems  Analyst  Mr. H. G. U. Harankahadeniya  \\nMr. B. H. Saranapala  \\nMr. A. P. Luwishewa  \\nInstructor  in Computer  Technology  Ms. P. B. N. K. De Silva  \\nMr. U. V. Malawara  Arachchi \\nMs. W.P. Priyanthi  \\nMr. R. Wickramaratne \\nMr. C.L. Wimalaratne \\nMs. G.K. Mabula  \\nMr. L.W.  Wellakkage \\nMr. G.M.T. Ranjana \\nMrs.  W. K. Shajith  \\nMiss.  H. G. S. Priyangani  \\n \\n \\n1.5 Course  Units  in Computer  Science  for B.Sc.  (General)  Degree  \\nLevel  I - Semester  I \\nCOM1111:   Basic  Concepts  of Information  Technology  (15 lecture  hrs.)    Overv iew \\nof Computer System, Function of Computer System, Input/Output Peripherals, Computer \\nStorages, Systems Software, Data type and Data representation, Computer Arithmetic, Ap - \\nplication software, Computer and Communication, The Internet, Computer security and \\nMaintenances, Ethical use of computer  \\nEvaluation  Method  : End  Semester  Examination  6  COM112 β: Programming Techniques (30 lecture hrs.  & 22.5 practical hrs.)  In-'),\n",
       " 0.40499333)"
      ]
     },
     "execution_count": 80,
     "metadata": {},
     "output_type": "execute_result"
    }
   ],
   "source": [
    "docs[1]"
   ]
  },
  {
   "cell_type": "code",
   "execution_count": 81,
   "metadata": {},
   "outputs": [
    {
     "data": {
      "text/plain": [
       "(Document(page_content='Rule Modeling  \\n• Network  Monitor ing and Acquiring  and Managing  Information  \\n• E-commerce information systems development, Model -drivers design, Goal, Business  \\n& service Modelling  \\n• Computational Geometry, Computer Graphics programming, Design and Analysis of \\nAlgorithms, Graph Theory  \\n• Computati onal Systems Biology, Bioinformatics, Modelling and Simulation, Neural \\nComputing, stochastic modelling  \\n• Embedded  Systems,  reconfigurable  computing,  Bioinformatics  \\n• Knowledge Representation, Ontology, Semantic Web, Ontology Engineering, Mobile \\nApplications  4  1.2 Head of the Department  \\nDr. W.A.  Indika  \\nB.Sc.  (Kelaniya,  S.L.),  M.Sc.  (Kelaniya,  S.L.),  PhD  (UCSC,  S.L.)  \\n \\n1.3 Members  of Academic  Staff  \\n \\n \\nDesignation  Name  Specialization  \\nSenior  \\nLecturer  Mr. S. A. S. Lorensuhewa  \\nB.Sc.  (Colombo, SL) \\nM.Sc.  (Zhejiang,  China)  Comput er Applications,  Text  Mining  and \\nText Classification Data Mining, \\nRule Extraction and  \\nKnowledge  Representation,  \\nApplications  of Machine  Learning  Techniques  \\nDr. W. A. Indika  \\nB.Sc.  (Kelaniya,  S.L.)  \\nM.Sc.  (Kelaniya,  S.L.)  \\nPhD  (UCSC,  S.L)  Knowledge  Represent ation,  \\nOntology, Semantic Web, \\nOntology Engineering, Mobile  \\nApplications  \\nDr. J. A. Jeewanie  \\nB.Sc.  (Kelaniya,  SL)'),\n",
       " 0.41346657)"
      ]
     },
     "execution_count": 81,
     "metadata": {},
     "output_type": "execute_result"
    }
   ],
   "source": [
    "docs[2]"
   ]
  },
  {
   "cell_type": "code",
   "execution_count": 82,
   "metadata": {},
   "outputs": [
    {
     "data": {
      "text/plain": [
       "(Document(page_content='the Bachelor of Computer Science (Honours) Degree courses.  \\nThe Honours degree consists of examinations at the end of each semester or at the end  \\nof course unit for research project.  \\n \\n1.9.1  Attendance  \\nTo be eligible to sit for an examination of a theory or practical course unit, there should \\nminimum attendance of 80%.  If a student fails to meet this requirement for a particular \\ncourse  unit, he  or she will be considered  to have  failed  in that  course  unit (see  section  14.3.1 \\nfor further details).  \\n \\n1.9.2  Examination Criteria \\nEvaluation Methods  \\n• Theory  examination  (written/oral)  \\n• Practical  examination  \\n• Continuous  assessment  \\n• Assignment  \\n• Report  \\n• Presentation  \\n \\nGrading  Syst em \\nAwarding of grades for course units will be done according to the grading system given in  \\nthe Table in section 14.2  \\n \\nPass  in a Course  Unit  \\n• A candidate  who obtains grade  C or  better  for a Course  Unit  will be considered  to \\nhave passed in that Course Unit.  \\n• If a student fails to complete a Course Unit, grade of E will be given unless an accept - \\nable reason is produced.  In the event of given reason is accepted by the Senate on the \\nrecommendation of the Faculty Board, he/she will be considered as sitting for t he first'),\n",
       " 0.42045832)"
      ]
     },
     "execution_count": 82,
     "metadata": {},
     "output_type": "execute_result"
    }
   ],
   "source": [
    "docs[3]"
   ]
  },
  {
   "cell_type": "code",
   "execution_count": 83,
   "metadata": {},
   "outputs": [],
   "source": [
    "#docs[4]"
   ]
  },
  {
   "cell_type": "markdown",
   "metadata": {},
   "source": [
    "### Similarity Check by Vector"
   ]
  },
  {
   "cell_type": "code",
   "execution_count": 84,
   "metadata": {},
   "outputs": [
    {
     "name": "stdout",
     "output_type": "stream",
     "text": [
      "Lecturer  \n",
      " \n",
      " \n",
      " \n",
      " \n",
      " \n",
      " \n",
      " \n",
      "Probationary \n",
      "Lecturer  Dr. W. A. Mohotti  \n",
      "B.Sc.  IT (Mo ratuwa, SL) \n",
      "M.Sc.  in IT (Moratuwa,  SL) \n",
      "Ph.D.  (QUT,  Australia)  Data  Mining  and Machine  Learning,  \n",
      "Text Clustering, Outlier Detection, and \n",
      "Cluster Evolution, Social Media Analytics  \n",
      "Dr. D. W. C. P. Kumari  \n",
      "B. Sc.  in Comp.  Sci. (UCSC, SL) \n",
      "M.Phil.  (UCSC, SL)  \n",
      "PhD (QUT, Australia) \n",
      "(On Leave)  \n",
      "Mr. K. D. C. G. Kapugama \n",
      "BCS (Ruhuna, SL)  \n",
      "Reading  for PhD  (Monash,  Australia)  \n",
      "(On Leave)  Information  Security,  Process  \n",
      "Analytics, Mathematical \n",
      "Modelling,  Event  log analysis \n",
      "Data Structure & Algorithms \n",
      "Evolutionary Algorithms  \n",
      "Data Mining, Text Mining  \n",
      "Mr. P. D. T. Chathuranga  \n",
      "BCS (Ruhuna,  SL) Natural  Language  Processing,  \n",
      "Sentiment  Analysis,  Text  Mining,  \n",
      "Machine  Learning  \n",
      "Mr. L.L. Gihan  Chathuranga  \n",
      "B.Sc  (Sabaragamuwa,  S.L) Machine  Learning,  Artificial  Neural  \n",
      "Networks,  Artificia l Intelligence,  \n",
      "Data  mining  \n",
      "Ms. H.D.  Supuni  Shashikala  \n",
      "B.Sc.  (UWU,  S.L.),  \n",
      "Reading  for M.Sc.  (Peradeniya,  S.L.)  Machine  Learning,  Feature  Extraction,  \n",
      "Deep  Learning  \n",
      "1.4 Members  of the Academic  Support  Staff  \n",
      " \n",
      "Academic  Supportive  Staff  Members  \n",
      "Designation  Name  \n",
      "Programmer  Cum  Systems  Analyst  Mr. H. G. U. Harankahadeniya\n"
     ]
    }
   ],
   "source": [
    "embedding_vector= embedding.embed_query(query)\n",
    "docs = db.similarity_search_by_vector(embedding_vector)\n",
    "print(docs[0].page_content)"
   ]
  },
  {
   "cell_type": "code",
   "execution_count": 85,
   "metadata": {},
   "outputs": [
    {
     "name": "stdout",
     "output_type": "stream",
     "text": [
      "page_content='Rule Modeling  \n",
      "• Network  Monitor ing and Acquiring  and Managing  Information  \n",
      "• E-commerce information systems development, Model -drivers design, Goal, Business  \n",
      "& service Modelling  \n",
      "• Computational Geometry, Computer Graphics programming, Design and Analysis of \n",
      "Algorithms, Graph Theory  \n",
      "• Computati onal Systems Biology, Bioinformatics, Modelling and Simulation, Neural \n",
      "Computing, stochastic modelling  \n",
      "• Embedded  Systems,  reconfigurable  computing,  Bioinformatics  \n",
      "• Knowledge Representation, Ontology, Semantic Web, Ontology Engineering, Mobile \n",
      "Applications  4  1.2 Head of the Department  \n",
      "Dr. W.A.  Indika  \n",
      "B.Sc.  (Kelaniya,  S.L.),  M.Sc.  (Kelaniya,  S.L.),  PhD  (UCSC,  S.L.)  \n",
      " \n",
      "1.3 Members  of Academic  Staff  \n",
      " \n",
      " \n",
      "Designation  Name  Specialization  \n",
      "Senior  \n",
      "Lecturer  Mr. S. A. S. Lorensuhewa  \n",
      "B.Sc.  (Colombo, SL) \n",
      "M.Sc.  (Zhejiang,  China)  Comput er Applications,  Text  Mining  and \n",
      "Text Classification Data Mining, \n",
      "Rule Extraction and  \n",
      "Knowledge  Representation,  \n",
      "Applications  of Machine  Learning  Techniques  \n",
      "Dr. W. A. Indika  \n",
      "B.Sc.  (Kelaniya,  S.L.)  \n",
      "M.Sc.  (Kelaniya,  S.L.)  \n",
      "PhD  (UCSC,  S.L)  Knowledge  Represent ation,  \n",
      "Ontology, Semantic Web, \n",
      "Ontology Engineering, Mobile  \n",
      "Applications  \n",
      "Dr. J. A. Jeewanie  \n",
      "B.Sc.  (Kelaniya,  SL)'\n"
     ]
    }
   ],
   "source": [
    "print(docs[2])"
   ]
  },
  {
   "cell_type": "code",
   "execution_count": 86,
   "metadata": {},
   "outputs": [
    {
     "name": "stdout",
     "output_type": "stream",
     "text": [
      "page_content='the Bachelor of Computer Science (Honours) Degree courses.  \n",
      "The Honours degree consists of examinations at the end of each semester or at the end  \n",
      "of course unit for research project.  \n",
      " \n",
      "1.9.1  Attendance  \n",
      "To be eligible to sit for an examination of a theory or practical course unit, there should \n",
      "minimum attendance of 80%.  If a student fails to meet this requirement for a particular \n",
      "course  unit, he  or she will be considered  to have  failed  in that  course  unit (see  section  14.3.1 \n",
      "for further details).  \n",
      " \n",
      "1.9.2  Examination Criteria \n",
      "Evaluation Methods  \n",
      "• Theory  examination  (written/oral)  \n",
      "• Practical  examination  \n",
      "• Continuous  assessment  \n",
      "• Assignment  \n",
      "• Report  \n",
      "• Presentation  \n",
      " \n",
      "Grading  Syst em \n",
      "Awarding of grades for course units will be done according to the grading system given in  \n",
      "the Table in section 14.2  \n",
      " \n",
      "Pass  in a Course  Unit  \n",
      "• A candidate  who obtains grade  C or  better  for a Course  Unit  will be considered  to \n",
      "have passed in that Course Unit.  \n",
      "• If a student fails to complete a Course Unit, grade of E will be given unless an accept - \n",
      "able reason is produced.  In the event of given reason is accepted by the Senate on the \n",
      "recommendation of the Faculty Board, he/she will be considered as sitting for t he first'\n"
     ]
    }
   ],
   "source": [
    "print(docs[3])"
   ]
  },
  {
   "cell_type": "code",
   "execution_count": 87,
   "metadata": {},
   "outputs": [],
   "source": [
    "#print(docs[4])"
   ]
  },
  {
   "cell_type": "code",
   "execution_count": 88,
   "metadata": {},
   "outputs": [],
   "source": [
    "most_similar_doc = docs[0]"
   ]
  },
  {
   "cell_type": "markdown",
   "metadata": {},
   "source": [
    "### Generate the Answer"
   ]
  },
  {
   "cell_type": "code",
   "execution_count": 89,
   "metadata": {},
   "outputs": [],
   "source": [
    "from langchain.llms import OpenAI\n",
    "llm = OpenAI(api_key = OPENAI_API_KEY)"
   ]
  },
  {
   "cell_type": "code",
   "execution_count": 90,
   "metadata": {},
   "outputs": [],
   "source": [
    "from langchain.chains.question_answering import load_qa_chain\n",
    "chain = load_qa_chain(llm = llm , chain_type = 'stuff')"
   ]
  },
  {
   "cell_type": "code",
   "execution_count": 91,
   "metadata": {},
   "outputs": [],
   "source": [
    "response = chain.run(input_documents = docs , question = query)"
   ]
  },
  {
   "cell_type": "code",
   "execution_count": 92,
   "metadata": {},
   "outputs": [
    {
     "data": {
      "text/plain": [
       "'\\nThe lecturers in the computer science department are listed below with their designation and qualifications:\\n\\n1. Lecturer - Dr. W.A. Indika (Head of the Department)\\nB.Sc. (Kelaniya, S.L.), M.Sc. (Kelaniya, S.L.), PhD (UCSC, S.L.)\\n\\n2. Senior Lecturer - Mr. S.A.S. Lorensuhewa\\nB.Sc. (Colombo, SL), M.Sc. (Zhejiang, China)\\n\\n3. Probationary Lecturer - Dr. W.A. Mohotti\\nB.Sc. IT (Moratuwa, SL), M.Sc. in IT (Moratuwa, SL), PhD (QUT, Australia)\\n\\n4. Probationary Lecturer - Dr. D.W.C.P. Kumari\\nB.Sc. in Comp. Sci. (UCSC, SL), M.Phil. (UCSC, SL), PhD (QUT, Australia)\\n\\n5. Probationary Lecturer - Mr. K.D.C.G. Kapugama\\nBCS (Ruhuna, SL), Reading for PhD (Monash, Australia)\\n\\n6. Probationary Lecturer - Mr. P.D.T. Chathuranga\\nBCS'"
      ]
     },
     "execution_count": 92,
     "metadata": {},
     "output_type": "execute_result"
    }
   ],
   "source": [
    "response"
   ]
  },
  {
   "cell_type": "code",
   "execution_count": 93,
   "metadata": {},
   "outputs": [
    {
     "name": "stdout",
     "output_type": "stream",
     "text": [
      "\n",
      "The lecturers in the computer science department are listed below with their designation and qualifications:\n",
      "\n",
      "1. Lecturer - Dr. W.A. Indika (Head of the Department)\n",
      "B.Sc. (Kelaniya, S.L.), M.Sc. (Kelaniya, S.L.), PhD (UCSC, S.L.)\n",
      "\n",
      "2. Senior Lecturer - Mr. S.A.S. Lorensuhewa\n",
      "B.Sc. (Colombo, SL), M.Sc. (Zhejiang, China)\n",
      "\n",
      "3. Probationary Lecturer - Dr. W.A. Mohotti\n",
      "B.Sc. IT (Moratuwa, SL), M.Sc. in IT (Moratuwa, SL), PhD (QUT, Australia)\n",
      "\n",
      "4. Probationary Lecturer - Dr. D.W.C.P. Kumari\n",
      "B.Sc. in Comp. Sci. (UCSC, SL), M.Phil. (UCSC, SL), PhD (QUT, Australia)\n",
      "\n",
      "5. Probationary Lecturer - Mr. K.D.C.G. Kapugama\n",
      "BCS (Ruhuna, SL), Reading for PhD (Monash, Australia)\n",
      "\n",
      "6. Probationary Lecturer - Mr. P.D.T. Chathuranga\n",
      "BCS\n"
     ]
    }
   ],
   "source": [
    "print(response)"
   ]
  },
  {
   "cell_type": "code",
   "execution_count": null,
   "metadata": {},
   "outputs": [],
   "source": []
  }
 ],
 "metadata": {
  "kernelspec": {
   "display_name": "Python 3",
   "language": "python",
   "name": "python3"
  },
  "language_info": {
   "codemirror_mode": {
    "name": "ipython",
    "version": 3
   },
   "file_extension": ".py",
   "mimetype": "text/x-python",
   "name": "python",
   "nbconvert_exporter": "python",
   "pygments_lexer": "ipython3",
   "version": "3.11.0"
  }
 },
 "nbformat": 4,
 "nbformat_minor": 2
}
