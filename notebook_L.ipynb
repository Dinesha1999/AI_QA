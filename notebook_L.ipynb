{
 "cells": [
  {
   "cell_type": "markdown",
   "metadata": {},
   "source": [
    "## Import Libraries"
   ]
  },
  {
   "cell_type": "code",
   "execution_count": 167,
   "metadata": {},
   "outputs": [],
   "source": [
    "import os\n",
    "import sys\n"
   ]
  },
  {
   "cell_type": "markdown",
   "metadata": {},
   "source": [
    "## Read The PDF"
   ]
  },
  {
   "cell_type": "code",
   "execution_count": 168,
   "metadata": {},
   "outputs": [],
   "source": [
    "\n",
    "data='data.pdf'\n"
   ]
  },
  {
   "cell_type": "code",
   "execution_count": 169,
   "metadata": {},
   "outputs": [
    {
     "data": {
      "text/plain": [
       "'data.pdf'"
      ]
     },
     "execution_count": 169,
     "metadata": {},
     "output_type": "execute_result"
    }
   ],
   "source": [
    "data"
   ]
  },
  {
   "cell_type": "markdown",
   "metadata": {},
   "source": [
    "## Extract PDF data"
   ]
  },
  {
   "cell_type": "code",
   "execution_count": 170,
   "metadata": {},
   "outputs": [],
   "source": [
    "import PyPDF2\n",
    "from docx import Document"
   ]
  },
  {
   "cell_type": "code",
   "execution_count": 171,
   "metadata": {},
   "outputs": [],
   "source": [
    "def extract_text_pdf(pdf):\n",
    "    text = \"\"\n",
    "    reader = PyPDF2.PdfReader(pdf)\n",
    "    for page in reader.pages:\n",
    "        text += page.extract_text() or \"\"\n",
    "    return text\n"
   ]
  },
  {
   "cell_type": "code",
   "execution_count": 172,
   "metadata": {},
   "outputs": [],
   "source": [
    "def extract_text_docx(docx):\n",
    "    doc = Document(docx)\n",
    "    text = \"\"\n",
    "    for paragraph in doc.paragraphs:\n",
    "        text += paragraph.text + \"\\n\"\n",
    "    return text"
   ]
  },
  {
   "cell_type": "code",
   "execution_count": 173,
   "metadata": {},
   "outputs": [],
   "source": [
    "def extract(doc):\n",
    "    _, file_extension = doc.split('.')\n",
    "    print(file_extension)\n",
    "    if file_extension == 'pdf':\n",
    "        return extract_text_pdf(doc)\n",
    "    elif file_extension == 'docx':\n",
    "        return extract_text_docx(doc)\n",
    "    else:\n",
    "        raise ValueError(\"Unsupported file format\")"
   ]
  },
  {
   "cell_type": "code",
   "execution_count": 174,
   "metadata": {},
   "outputs": [
    {
     "name": "stdout",
     "output_type": "stream",
     "text": [
      "pdf\n"
     ]
    }
   ],
   "source": [
    "text_data=extract(data)"
   ]
  },
  {
   "cell_type": "code",
   "execution_count": 175,
   "metadata": {},
   "outputs": [],
   "source": [
    "#print(text_data)   un comment and run this to view pdf in text fromat"
   ]
  },
  {
   "cell_type": "markdown",
   "metadata": {},
   "source": [
    "## Divide text data into Chunks"
   ]
  },
  {
   "cell_type": "code",
   "execution_count": 176,
   "metadata": {},
   "outputs": [],
   "source": [
    "# Code here\n",
    "from langchain.text_splitter import CharacterTextSplitter"
   ]
  },
  {
   "cell_type": "code",
   "execution_count": 177,
   "metadata": {},
   "outputs": [
    {
     "data": {
      "text/plain": [
       "' important, GPT-3.5 has a maximum token limit of 4096 tokens per input sequence. This means that any \\n input longer than 4096 tokens would need to be split into multiple segments for processing. '"
      ]
     },
     "execution_count": 177,
     "metadata": {},
     "output_type": "execute_result"
    }
   ],
   "source": [
    "text_splitter=CharacterTextSplitter(\n",
    "    separator=\"\\n\",\n",
    "    chunk_size=1300,\n",
    "    chunk_overlap=300,\n",
    "    length_function=len,\n",
    ")\n",
    "\n",
    "''' important, GPT-3.5 has a maximum token limit of 4096 tokens per input sequence. This means that any \n",
    " input longer than 4096 tokens would need to be split into multiple segments for processing. '''"
   ]
  },
  {
   "cell_type": "code",
   "execution_count": 178,
   "metadata": {},
   "outputs": [],
   "source": [
    "chunks=text_splitter.split_text(text_data)"
   ]
  },
  {
   "cell_type": "code",
   "execution_count": 179,
   "metadata": {},
   "outputs": [
    {
     "data": {
      "text/plain": [
       "61"
      ]
     },
     "execution_count": 179,
     "metadata": {},
     "output_type": "execute_result"
    }
   ],
   "source": [
    "len(chunks)"
   ]
  },
  {
   "cell_type": "code",
   "execution_count": 180,
   "metadata": {},
   "outputs": [
    {
     "name": "stdout",
     "output_type": "stream",
     "text": [
      "(a) A minimum  GPA  of 3.30  for Honours  Degree  Course  Units,  \n",
      "(b) A minimum  GPA  of 3.30  for all course  units,  and \n",
      "(c) Grades  of A- or better  for Honours  Degree  Course  Units  aggregating  to a mini - \n",
      "mum of 12 credits  23  (iii) Second  Class  (Lower  Division)  \n",
      "(a) A minimum  GPA  of 3.00  for Honours  Degree  Course  Units,  and \n",
      "(b) A minimum  GPA  of 3.00  for all course  units\n"
     ]
    }
   ],
   "source": [
    "print(chunks[60])"
   ]
  },
  {
   "cell_type": "markdown",
   "metadata": {},
   "source": [
    "## Text Embedding"
   ]
  },
  {
   "cell_type": "code",
   "execution_count": 181,
   "metadata": {},
   "outputs": [],
   "source": [
    "import os\n",
    "from langchain_community.vectorstores import FAISS\n",
    "from dotenv import load_dotenv,find_dotenv\n",
    "load_dotenv(find_dotenv())\n",
    "api_key=os.environ.get(\"OPEN_API_KEY\")\n",
    "embedding=OpenAIEmbeddings(openai_api_key=api_key)"
   ]
  },
  {
   "cell_type": "code",
   "execution_count": 182,
   "metadata": {},
   "outputs": [],
   "source": [
    "#db=FAISS.from_texts(texts=chunks,embedding=embedding)"
   ]
  },
  {
   "cell_type": "code",
   "execution_count": 183,
   "metadata": {},
   "outputs": [],
   "source": [
    "if os.path.exists(\"vectorstore/index.pkl\"):\n",
    "    # Load the existing vector store\n",
    "    db = FAISS.load_local(\"vectorstore\", embedding,allow_dangerous_deserialization=True)\n",
    "else:\n",
    "    # Create a new vector store from the text chunks\n",
    "    db = FAISS.from_texts(texts=chunks, embedding=embedding)\n",
    "    # Save the newly created vector store locally\n",
    "    db.save_local(\"vectorstore\")"
   ]
  },
  {
   "cell_type": "markdown",
   "metadata": {},
   "source": [
    "## Similarity Check"
   ]
  },
  {
   "cell_type": "code",
   "execution_count": 184,
   "metadata": {},
   "outputs": [],
   "source": [
    "#query = \"what are the Minimum Requirement for the Completion of the Bachelor of Computer Science Honours Degree ?\"\n",
    "query = \"who is the prime minister of srilanka\"\n",
    "docs = db.similarity_search(query)"
   ]
  },
  {
   "cell_type": "code",
   "execution_count": 185,
   "metadata": {},
   "outputs": [
    {
     "data": {
      "text/plain": [
       "4"
      ]
     },
     "execution_count": 185,
     "metadata": {},
     "output_type": "execute_result"
    }
   ],
   "source": [
    "len(docs)"
   ]
  },
  {
   "cell_type": "code",
   "execution_count": 186,
   "metadata": {},
   "outputs": [
    {
     "name": "stdout",
     "output_type": "stream",
     "text": [
      "page_content='for a career in Computer Science and Information Technology, which is one of the major \n",
      "driving forces of the economic development of Sri Lanka . This degree programme will cover \n",
      "all aspects of Computer Science including modern computer languages and systems.  \n",
      " \n",
      "1.1 Research  Areas  \n",
      "• Text Mining and Text Classification Data Mining, Rule Extraction and Knowledge \n",
      "Representation Applications of Machine Learni ng Techniques  \n",
      "• Parallel computing:  developing dynamic load balancing algorithms on homogeneous \n",
      "and heterogeneous clusters of workstations  \n",
      "• Intelligent  Information  Retrieval:  Pattern  Recognition,  Fuzzy  clustering,  Data  Min- \n",
      "ing/ Web Mining, Conceptual Indexin g and Similarity Search in text data, Context  \n",
      "Based Clustering  \n",
      "• Conceptual  Modelling,  Process  Modelling  and Process  Patterns,  Formal  Specifica - \n",
      "tion of Processes, e -Commerce Standardization, Service Oriented Computing, Business \n",
      "Rule Modeling  \n",
      "• Network  Monitor ing and Acquiring  and Managing  Information  \n",
      "• E-commerce information systems development, Model -drivers design, Goal, Business  \n",
      "& service Modelling  \n",
      "• Computational Geometry, Computer Graphics programming, Design and Analysis of \n",
      "Algorithms, Graph Theory'\n"
     ]
    }
   ],
   "source": [
    "print(docs[0])"
   ]
  },
  {
   "cell_type": "code",
   "execution_count": 187,
   "metadata": {},
   "outputs": [],
   "source": [
    "docs = db.similarity_search_with_score(query)"
   ]
  },
  {
   "cell_type": "code",
   "execution_count": 188,
   "metadata": {},
   "outputs": [
    {
     "data": {
      "text/plain": [
       "(Document(page_content='for a career in Computer Science and Information Technology, which is one of the major \\ndriving forces of the economic development of Sri Lanka . This degree programme will cover \\nall aspects of Computer Science including modern computer languages and systems.  \\n \\n1.1 Research  Areas  \\n• Text Mining and Text Classification Data Mining, Rule Extraction and Knowledge \\nRepresentation Applications of Machine Learni ng Techniques  \\n• Parallel computing:  developing dynamic load balancing algorithms on homogeneous \\nand heterogeneous clusters of workstations  \\n• Intelligent  Information  Retrieval:  Pattern  Recognition,  Fuzzy  clustering,  Data  Min- \\ning/ Web Mining, Conceptual Indexin g and Similarity Search in text data, Context  \\nBased Clustering  \\n• Conceptual  Modelling,  Process  Modelling  and Process  Patterns,  Formal  Specifica - \\ntion of Processes, e -Commerce Standardization, Service Oriented Computing, Business \\nRule Modeling  \\n• Network  Monitor ing and Acquiring  and Managing  Information  \\n• E-commerce information systems development, Model -drivers design, Goal, Business  \\n& service Modelling  \\n• Computational Geometry, Computer Graphics programming, Design and Analysis of \\nAlgorithms, Graph Theory'),\n",
       " 0.5692891)"
      ]
     },
     "execution_count": 188,
     "metadata": {},
     "output_type": "execute_result"
    }
   ],
   "source": [
    "docs[0]"
   ]
  },
  {
   "cell_type": "code",
   "execution_count": 189,
   "metadata": {},
   "outputs": [
    {
     "data": {
      "text/plain": [
       "(Document(page_content='Lecturer  \\n \\n \\n \\n \\n \\n \\n \\nProbationary \\nLecturer  Dr. W. A. Mohotti  \\nB.Sc.  IT (Mo ratuwa, SL) \\nM.Sc.  in IT (Moratuwa,  SL) \\nPh.D.  (QUT,  Australia)  Data  Mining  and Machine  Learning,  \\nText Clustering, Outlier Detection, and \\nCluster Evolution, Social Media Analytics  \\nDr. D. W. C. P. Kumari  \\nB. Sc.  in Comp.  Sci. (UCSC, SL) \\nM.Phil.  (UCSC, SL)  \\nPhD (QUT, Australia) \\n(On Leave)  \\nMr. K. D. C. G. Kapugama \\nBCS (Ruhuna, SL)  \\nReading  for PhD  (Monash,  Australia)  \\n(On Leave)  Information  Security,  Process  \\nAnalytics, Mathematical \\nModelling,  Event  log analysis \\nData Structure & Algorithms \\nEvolutionary Algorithms  \\nData Mining, Text Mining  \\nMr. P. D. T. Chathuranga  \\nBCS (Ruhuna,  SL) Natural  Language  Processing,  \\nSentiment  Analysis,  Text  Mining,  \\nMachine  Learning  \\nMr. L.L. Gihan  Chathuranga  \\nB.Sc  (Sabaragamuwa,  S.L) Machine  Learning,  Artificial  Neural  \\nNetworks,  Artificia l Intelligence,  \\nData  mining  \\nMs. H.D.  Supuni  Shashikala  \\nB.Sc.  (UWU,  S.L.),  \\nReading  for M.Sc.  (Peradeniya,  S.L.)  Machine  Learning,  Feature  Extraction,  \\nDeep  Learning  \\n1.4 Members  of the Academic  Support  Staff  \\n \\nAcademic  Supportive  Staff  Members  \\nDesignation  Name  \\nProgrammer  Cum  Systems  Analyst  Mr. H. G. U. Harankahadeniya'),\n",
       " 0.56995386)"
      ]
     },
     "execution_count": 189,
     "metadata": {},
     "output_type": "execute_result"
    }
   ],
   "source": [
    "docs[1]"
   ]
  },
  {
   "cell_type": "code",
   "execution_count": 190,
   "metadata": {},
   "outputs": [
    {
     "data": {
      "text/plain": [
       "(Document(page_content='Rule Modeling  \\n• Network  Monitor ing and Acquiring  and Managing  Information  \\n• E-commerce information systems development, Model -drivers design, Goal, Business  \\n& service Modelling  \\n• Computational Geometry, Computer Graphics programming, Design and Analysis of \\nAlgorithms, Graph Theory  \\n• Computati onal Systems Biology, Bioinformatics, Modelling and Simulation, Neural \\nComputing, stochastic modelling  \\n• Embedded  Systems,  reconfigurable  computing,  Bioinformatics  \\n• Knowledge Representation, Ontology, Semantic Web, Ontology Engineering, Mobile \\nApplications  4  1.2 Head of the Department  \\nDr. W.A.  Indika  \\nB.Sc.  (Kelaniya,  S.L.),  M.Sc.  (Kelaniya,  S.L.),  PhD  (UCSC,  S.L.)  \\n \\n1.3 Members  of Academic  Staff  \\n \\n \\nDesignation  Name  Specialization  \\nSenior  \\nLecturer  Mr. S. A. S. Lorensuhewa  \\nB.Sc.  (Colombo, SL) \\nM.Sc.  (Zhejiang,  China)  Comput er Applications,  Text  Mining  and \\nText Classification Data Mining, \\nRule Extraction and  \\nKnowledge  Representation,  \\nApplications  of Machine  Learning  Techniques  \\nDr. W. A. Indika  \\nB.Sc.  (Kelaniya,  S.L.)  \\nM.Sc.  (Kelaniya,  S.L.)  \\nPhD  (UCSC,  S.L)  Knowledge  Represent ation,  \\nOntology, Semantic Web, \\nOntology Engineering, Mobile  \\nApplications  \\nDr. J. A. Jeewanie  \\nB.Sc.  (Kelaniya,  SL)'),\n",
       " 0.58993536)"
      ]
     },
     "execution_count": 190,
     "metadata": {},
     "output_type": "execute_result"
    }
   ],
   "source": [
    "docs[2]"
   ]
  },
  {
   "cell_type": "code",
   "execution_count": 191,
   "metadata": {},
   "outputs": [
    {
     "data": {
      "text/plain": [
       "(Document(page_content='Business Process Modeling and \\nOntology Business Rule Modeling with  \\nApplication  to Problems  in Healthcare  Domain  \\nDr. S. M. Vidanagamachchi  \\nB.Sc.  in Comp.  Sci. (UCSC,  SL) \\nPh.D. in Comp.  Eng.  (P’deniya, S.L.)  Embedded  Systems,  \\nReconfigurable  Computing,  \\nMachine  Learning,  Bioinformatics  \\nDr. P.N.  Hameed  \\nB.Sc.  (Hons)  in Comp.  Sci. \\n(P’deniya, S.L.)  \\nPh.D. (Melbourne,  Australia)  Bioinformatics,  \\nData mining and Machine Learninig, \\nBiomedical Informatics,  \\nImage  processing,  Computer  Vision  \\nDr. M. K. S. Madushika  \\nB.Sc.  in Engineering \\n(Peradeniya, S.L.)  \\nPh.D.  (QUT,  Australia)  Artificial  Intelligence,  Deep  \\nLearning, Computer Vision, \\nNeural Networks,  \\nImage  Processing  \\nMr. K.R. Wijeweera  \\nB.Sc.  (P’deniya,  SL) \\nM.Phil.  (P’deniya,  SL) Computational  Geometry  \\nLecturer  Ms. M. A. L. Kalyani  \\nB.Sc.  (Colombo,  SL) \\nPh.L.  (Uppsala,  Sweden)  Static  and dynamic  Load  \\nBalancing  algorithms  \\nMPI implementations, Grid Computing  5  Designation  Name  Specialization  \\nLecturer  \\n \\n \\n \\n \\n \\n \\n \\nProbationary \\nLecturer  Dr. W. A. Mohotti  \\nB.Sc.  IT (Mo ratuwa, SL) \\nM.Sc.  in IT (Moratuwa,  SL) \\nPh.D.  (QUT,  Australia)  Data  Mining  and Machine  Learning,  \\nText Clustering, Outlier Detection, and'),\n",
       " 0.61002195)"
      ]
     },
     "execution_count": 191,
     "metadata": {},
     "output_type": "execute_result"
    }
   ],
   "source": [
    "docs[3]"
   ]
  },
  {
   "cell_type": "markdown",
   "metadata": {},
   "source": [
    "## Similarity Check by vector\n"
   ]
  },
  {
   "cell_type": "code",
   "execution_count": 192,
   "metadata": {},
   "outputs": [
    {
     "name": "stdout",
     "output_type": "stream",
     "text": [
      "for a career in Computer Science and Information Technology, which is one of the major \n",
      "driving forces of the economic development of Sri Lanka . This degree programme will cover \n",
      "all aspects of Computer Science including modern computer languages and systems.  \n",
      " \n",
      "1.1 Research  Areas  \n",
      "• Text Mining and Text Classification Data Mining, Rule Extraction and Knowledge \n",
      "Representation Applications of Machine Learni ng Techniques  \n",
      "• Parallel computing:  developing dynamic load balancing algorithms on homogeneous \n",
      "and heterogeneous clusters of workstations  \n",
      "• Intelligent  Information  Retrieval:  Pattern  Recognition,  Fuzzy  clustering,  Data  Min- \n",
      "ing/ Web Mining, Conceptual Indexin g and Similarity Search in text data, Context  \n",
      "Based Clustering  \n",
      "• Conceptual  Modelling,  Process  Modelling  and Process  Patterns,  Formal  Specifica - \n",
      "tion of Processes, e -Commerce Standardization, Service Oriented Computing, Business \n",
      "Rule Modeling  \n",
      "• Network  Monitor ing and Acquiring  and Managing  Information  \n",
      "• E-commerce information systems development, Model -drivers design, Goal, Business  \n",
      "& service Modelling  \n",
      "• Computational Geometry, Computer Graphics programming, Design and Analysis of \n",
      "Algorithms, Graph Theory\n"
     ]
    }
   ],
   "source": [
    "embedding_vector = embedding.embed_query(query)\n",
    "docs = db.similarity_search_by_vector(embedding_vector)\n",
    "print(docs[0].page_content)"
   ]
  },
  {
   "cell_type": "code",
   "execution_count": null,
   "metadata": {},
   "outputs": [],
   "source": []
  },
  {
   "cell_type": "code",
   "execution_count": null,
   "metadata": {},
   "outputs": [],
   "source": []
  },
  {
   "cell_type": "code",
   "execution_count": null,
   "metadata": {},
   "outputs": [],
   "source": []
  },
  {
   "cell_type": "code",
   "execution_count": null,
   "metadata": {},
   "outputs": [],
   "source": []
  },
  {
   "cell_type": "code",
   "execution_count": 193,
   "metadata": {},
   "outputs": [],
   "source": [
    "most_similar_doc = docs[0]\n"
   ]
  },
  {
   "cell_type": "code",
   "execution_count": null,
   "metadata": {},
   "outputs": [],
   "source": [
    "\n"
   ]
  },
  {
   "cell_type": "code",
   "execution_count": null,
   "metadata": {},
   "outputs": [],
   "source": []
  },
  {
   "cell_type": "markdown",
   "metadata": {},
   "source": [
    "## generate the answer"
   ]
  },
  {
   "cell_type": "code",
   "execution_count": 194,
   "metadata": {},
   "outputs": [],
   "source": [
    "from langchain.llms import OpenAI\n",
    "llm = OpenAI(api_key=api_key)"
   ]
  },
  {
   "cell_type": "code",
   "execution_count": 195,
   "metadata": {},
   "outputs": [],
   "source": [
    "from langchain.chains.question_answering import load_qa_chain\n",
    "chain=load_qa_chain(llm=llm,chain_type='stuff')"
   ]
  },
  {
   "cell_type": "code",
   "execution_count": 196,
   "metadata": {},
   "outputs": [],
   "source": [
    "response= chain.run(input_documents=docs,question=query)"
   ]
  },
  {
   "cell_type": "code",
   "execution_count": 197,
   "metadata": {},
   "outputs": [
    {
     "data": {
      "text/plain": [
       "\" I'm sorry, I don't know the answer to that question. This context is about a Computer Science and Information Technology degree program and its faculty members. It does not mention anything about the prime minister of Sri Lanka. \""
      ]
     },
     "execution_count": 197,
     "metadata": {},
     "output_type": "execute_result"
    }
   ],
   "source": [
    "response"
   ]
  },
  {
   "cell_type": "code",
   "execution_count": 198,
   "metadata": {},
   "outputs": [
    {
     "name": "stdout",
     "output_type": "stream",
     "text": [
      " I'm sorry, I don't know the answer to that question. This context is about a Computer Science and Information Technology degree program and its faculty members. It does not mention anything about the prime minister of Sri Lanka. \n"
     ]
    }
   ],
   "source": [
    "print(response)"
   ]
  },
  {
   "cell_type": "code",
   "execution_count": null,
   "metadata": {},
   "outputs": [],
   "source": []
  }
 ],
 "metadata": {
  "kernelspec": {
   "display_name": "Python 3",
   "language": "python",
   "name": "python3"
  },
  "language_info": {
   "codemirror_mode": {
    "name": "ipython",
    "version": 3
   },
   "file_extension": ".py",
   "mimetype": "text/x-python",
   "name": "python",
   "nbconvert_exporter": "python",
   "pygments_lexer": "ipython3",
   "version": "3.11.0"
  }
 },
 "nbformat": 4,
 "nbformat_minor": 2
}
