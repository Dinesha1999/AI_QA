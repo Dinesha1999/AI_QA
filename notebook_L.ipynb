{
 "cells": [
  {
   "cell_type": "markdown",
   "metadata": {},
   "source": [
    "## Import Libraries"
   ]
  },
  {
   "cell_type": "code",
   "execution_count": 231,
   "metadata": {},
   "outputs": [],
   "source": [
    "import os\n",
    "import sys\n"
   ]
  },
  {
   "cell_type": "markdown",
   "metadata": {},
   "source": [
    "## Read The PDF"
   ]
  },
  {
   "cell_type": "code",
   "execution_count": 232,
   "metadata": {},
   "outputs": [],
   "source": [
    "\n",
    "data='data.pdf'\n"
   ]
  },
  {
   "cell_type": "code",
   "execution_count": 233,
   "metadata": {},
   "outputs": [
    {
     "data": {
      "text/plain": [
       "'data.pdf'"
      ]
     },
     "execution_count": 233,
     "metadata": {},
     "output_type": "execute_result"
    }
   ],
   "source": [
    "data"
   ]
  },
  {
   "cell_type": "markdown",
   "metadata": {},
   "source": [
    "## Extract PDF data"
   ]
  },
  {
   "cell_type": "code",
   "execution_count": 234,
   "metadata": {},
   "outputs": [],
   "source": [
    "import PyPDF2\n",
    "from docx import Document"
   ]
  },
  {
   "cell_type": "code",
   "execution_count": 235,
   "metadata": {},
   "outputs": [],
   "source": [
    "def extract_text_pdf(pdf):\n",
    "    text = \"\"\n",
    "    reader = PyPDF2.PdfReader(pdf)\n",
    "    for page in reader.pages:\n",
    "        text += page.extract_text() or \"\"\n",
    "    return text\n"
   ]
  },
  {
   "cell_type": "code",
   "execution_count": 236,
   "metadata": {},
   "outputs": [],
   "source": [
    "def extract_text_docx(docx):\n",
    "    doc = Document(docx)\n",
    "    text = \"\"\n",
    "    for paragraph in doc.paragraphs:\n",
    "        text += paragraph.text + \"\\n\"\n",
    "    return text"
   ]
  },
  {
   "cell_type": "code",
   "execution_count": 237,
   "metadata": {},
   "outputs": [],
   "source": [
    "def extract(doc):\n",
    "    _, file_extension = doc.split('.')\n",
    "    print(file_extension)\n",
    "    if file_extension == 'pdf':\n",
    "        return extract_text_pdf(doc)\n",
    "    elif file_extension == 'docx':\n",
    "        return extract_text_docx(doc)\n",
    "    else:\n",
    "        raise ValueError(\"Unsupported file format\")"
   ]
  },
  {
   "cell_type": "code",
   "execution_count": 238,
   "metadata": {},
   "outputs": [
    {
     "name": "stdout",
     "output_type": "stream",
     "text": [
      "pdf\n"
     ]
    }
   ],
   "source": [
    "text_data=extract(data)"
   ]
  },
  {
   "cell_type": "code",
   "execution_count": 239,
   "metadata": {},
   "outputs": [],
   "source": [
    "#print(text_data)   un comment and run this to view pdf in text fromat"
   ]
  },
  {
   "cell_type": "markdown",
   "metadata": {},
   "source": [
    "## Divide text data into Chunks"
   ]
  },
  {
   "cell_type": "code",
   "execution_count": 240,
   "metadata": {},
   "outputs": [],
   "source": [
    "# Code here\n",
    "from langchain.text_splitter import CharacterTextSplitter"
   ]
  },
  {
   "cell_type": "code",
   "execution_count": 241,
   "metadata": {},
   "outputs": [
    {
     "data": {
      "text/plain": [
       "' important, GPT-3.5 has a maximum token limit of 4096 tokens per input sequence. This means that any \\n input longer than 4096 tokens would need to be split into multiple segments for processing. '"
      ]
     },
     "execution_count": 241,
     "metadata": {},
     "output_type": "execute_result"
    }
   ],
   "source": [
    "text_splitter=CharacterTextSplitter(\n",
    "    separator=\"\\n\",\n",
    "    chunk_size=1300,\n",
    "    chunk_overlap=300,\n",
    "    length_function=len,\n",
    ")\n",
    "\n",
    "''' important, GPT-3.5 has a maximum token limit of 4096 tokens per input sequence. This means that any \n",
    " input longer than 4096 tokens would need to be split into multiple segments for processing. '''"
   ]
  },
  {
   "cell_type": "code",
   "execution_count": 242,
   "metadata": {},
   "outputs": [],
   "source": [
    "chunks=text_splitter.split_text(text_data)"
   ]
  },
  {
   "cell_type": "code",
   "execution_count": 243,
   "metadata": {},
   "outputs": [
    {
     "data": {
      "text/plain": [
       "61"
      ]
     },
     "execution_count": 243,
     "metadata": {},
     "output_type": "execute_result"
    }
   ],
   "source": [
    "len(chunks)"
   ]
  },
  {
   "cell_type": "code",
   "execution_count": 244,
   "metadata": {},
   "outputs": [
    {
     "name": "stdout",
     "output_type": "stream",
     "text": [
      "(a) A minimum  GPA  of 3.30  for Honours  Degree  Course  Units,  \n",
      "(b) A minimum  GPA  of 3.30  for all course  units,  and \n",
      "(c) Grades  of A- or better  for Honours  Degree  Course  Units  aggregating  to a mini - \n",
      "mum of 12 credits  23  (iii) Second  Class  (Lower  Division)  \n",
      "(a) A minimum  GPA  of 3.00  for Honours  Degree  Course  Units,  and \n",
      "(b) A minimum  GPA  of 3.00  for all course  units\n"
     ]
    }
   ],
   "source": [
    "print(chunks[60])"
   ]
  },
  {
   "cell_type": "markdown",
   "metadata": {},
   "source": [
    "## Text Embedding"
   ]
  },
  {
   "cell_type": "code",
   "execution_count": 245,
   "metadata": {},
   "outputs": [],
   "source": [
    "import os\n",
    "from langchain_community.vectorstores import FAISS\n",
    "from dotenv import load_dotenv,find_dotenv\n",
    "load_dotenv(find_dotenv())\n",
    "api_key=os.environ.get(\"OPEN_API_KEY\")\n",
    "embedding=OpenAIEmbeddings(openai_api_key=api_key)"
   ]
  },
  {
   "cell_type": "code",
   "execution_count": 246,
   "metadata": {},
   "outputs": [],
   "source": [
    "db=FAISS.from_texts(texts=chunks,embedding=embedding)"
   ]
  },
  {
   "cell_type": "code",
   "execution_count": 247,
   "metadata": {},
   "outputs": [],
   "source": [
    "if os.path.exists(\"vectorstore/index.pkl\"):\n",
    "    # Load the existing vector store\n",
    "    db = FAISS.load_local(\"vectorstore\", embedding,allow_dangerous_deserialization=True)\n",
    "else:\n",
    "    # Create a new vector store from the text chunks\n",
    "    db = FAISS.from_texts(texts=chunks, embedding=embedding)\n",
    "    # Save the newly created vector store locally\n",
    "    db.save_local(\"vectorstore\")"
   ]
  },
  {
   "cell_type": "markdown",
   "metadata": {},
   "source": [
    "## Similarity Check"
   ]
  },
  {
   "cell_type": "code",
   "execution_count": 409,
   "metadata": {},
   "outputs": [],
   "source": [
    "#query = \"what are the Minimum Requirement for the Completion of the Bachelor of Computer Science Honours Degree ?\"\n",
    "query = \"who are the lecturers in computer science department with their designation and their qualifications\"\n",
    "docs = db.similarity_search(query)"
   ]
  },
  {
   "cell_type": "code",
   "execution_count": 410,
   "metadata": {},
   "outputs": [
    {
     "data": {
      "text/plain": [
       "4"
      ]
     },
     "execution_count": 410,
     "metadata": {},
     "output_type": "execute_result"
    }
   ],
   "source": [
    "len(docs)"
   ]
  },
  {
   "cell_type": "code",
   "execution_count": 411,
   "metadata": {},
   "outputs": [
    {
     "name": "stdout",
     "output_type": "stream",
     "text": [
      "page_content='Lecturer  \n",
      " \n",
      " \n",
      " \n",
      " \n",
      " \n",
      " \n",
      " \n",
      "Probationary \n",
      "Lecturer  Dr. W. A. Mohotti  \n",
      "B.Sc.  IT (Mo ratuwa, SL) \n",
      "M.Sc.  in IT (Moratuwa,  SL) \n",
      "Ph.D.  (QUT,  Australia)  Data  Mining  and Machine  Learning,  \n",
      "Text Clustering, Outlier Detection, and \n",
      "Cluster Evolution, Social Media Analytics  \n",
      "Dr. D. W. C. P. Kumari  \n",
      "B. Sc.  in Comp.  Sci. (UCSC, SL) \n",
      "M.Phil.  (UCSC, SL)  \n",
      "PhD (QUT, Australia) \n",
      "(On Leave)  \n",
      "Mr. K. D. C. G. Kapugama \n",
      "BCS (Ruhuna, SL)  \n",
      "Reading  for PhD  (Monash,  Australia)  \n",
      "(On Leave)  Information  Security,  Process  \n",
      "Analytics, Mathematical \n",
      "Modelling,  Event  log analysis \n",
      "Data Structure & Algorithms \n",
      "Evolutionary Algorithms  \n",
      "Data Mining, Text Mining  \n",
      "Mr. P. D. T. Chathuranga  \n",
      "BCS (Ruhuna,  SL) Natural  Language  Processing,  \n",
      "Sentiment  Analysis,  Text  Mining,  \n",
      "Machine  Learning  \n",
      "Mr. L.L. Gihan  Chathuranga  \n",
      "B.Sc  (Sabaragamuwa,  S.L) Machine  Learning,  Artificial  Neural  \n",
      "Networks,  Artificia l Intelligence,  \n",
      "Data  mining  \n",
      "Ms. H.D.  Supuni  Shashikala  \n",
      "B.Sc.  (UWU,  S.L.),  \n",
      "Reading  for M.Sc.  (Peradeniya,  S.L.)  Machine  Learning,  Feature  Extraction,  \n",
      "Deep  Learning  \n",
      "1.4 Members  of the Academic  Support  Staff  \n",
      " \n",
      "Academic  Supportive  Staff  Members  \n",
      "Designation  Name  \n",
      "Programmer  Cum  Systems  Analyst  Mr. H. G. U. Harankahadeniya'\n"
     ]
    }
   ],
   "source": [
    "print(docs[0])"
   ]
  },
  {
   "cell_type": "code",
   "execution_count": 412,
   "metadata": {},
   "outputs": [],
   "source": [
    "docs = db.similarity_search_with_score(query)"
   ]
  },
  {
   "cell_type": "code",
   "execution_count": 413,
   "metadata": {},
   "outputs": [
    {
     "data": {
      "text/plain": [
       "(Document(page_content='Lecturer  \\n \\n \\n \\n \\n \\n \\n \\nProbationary \\nLecturer  Dr. W. A. Mohotti  \\nB.Sc.  IT (Mo ratuwa, SL) \\nM.Sc.  in IT (Moratuwa,  SL) \\nPh.D.  (QUT,  Australia)  Data  Mining  and Machine  Learning,  \\nText Clustering, Outlier Detection, and \\nCluster Evolution, Social Media Analytics  \\nDr. D. W. C. P. Kumari  \\nB. Sc.  in Comp.  Sci. (UCSC, SL) \\nM.Phil.  (UCSC, SL)  \\nPhD (QUT, Australia) \\n(On Leave)  \\nMr. K. D. C. G. Kapugama \\nBCS (Ruhuna, SL)  \\nReading  for PhD  (Monash,  Australia)  \\n(On Leave)  Information  Security,  Process  \\nAnalytics, Mathematical \\nModelling,  Event  log analysis \\nData Structure & Algorithms \\nEvolutionary Algorithms  \\nData Mining, Text Mining  \\nMr. P. D. T. Chathuranga  \\nBCS (Ruhuna,  SL) Natural  Language  Processing,  \\nSentiment  Analysis,  Text  Mining,  \\nMachine  Learning  \\nMr. L.L. Gihan  Chathuranga  \\nB.Sc  (Sabaragamuwa,  S.L) Machine  Learning,  Artificial  Neural  \\nNetworks,  Artificia l Intelligence,  \\nData  mining  \\nMs. H.D.  Supuni  Shashikala  \\nB.Sc.  (UWU,  S.L.),  \\nReading  for M.Sc.  (Peradeniya,  S.L.)  Machine  Learning,  Feature  Extraction,  \\nDeep  Learning  \\n1.4 Members  of the Academic  Support  Staff  \\n \\nAcademic  Supportive  Staff  Members  \\nDesignation  Name  \\nProgrammer  Cum  Systems  Analyst  Mr. H. G. U. Harankahadeniya'),\n",
       " 0.31865883)"
      ]
     },
     "execution_count": 413,
     "metadata": {},
     "output_type": "execute_result"
    }
   ],
   "source": [
    "docs[0]"
   ]
  },
  {
   "cell_type": "code",
   "execution_count": 414,
   "metadata": {},
   "outputs": [
    {
     "data": {
      "text/plain": [
       "(Document(page_content='B.Sc.  (UWU,  S.L.),  \\nReading  for M.Sc.  (Peradeniya,  S.L.)  Machine  Learning,  Feature  Extraction,  \\nDeep  Learning  \\n1.4 Members  of the Academic  Support  Staff  \\n \\nAcademic  Supportive  Staff  Members  \\nDesignation  Name  \\nProgrammer  Cum  Systems  Analyst  Mr. H. G. U. Harankahadeniya  \\nMr. B. H. Saranapala  \\nMr. A. P. Luwishewa  \\nInstructor  in Computer  Technology  Ms. P. B. N. K. De Silva  \\nMr. U. V. Malawara  Arachchi \\nMs. W.P. Priyanthi  \\nMr. R. Wickramaratne \\nMr. C.L. Wimalaratne \\nMs. G.K. Mabula  \\nMr. L.W.  Wellakkage \\nMr. G.M.T. Ranjana \\nMrs.  W. K. Shajith  \\nMiss.  H. G. S. Priyangani  \\n \\n \\n1.5 Course  Units  in Computer  Science  for B.Sc.  (General)  Degree  \\nLevel  I - Semester  I \\nCOM1111:   Basic  Concepts  of Information  Technology  (15 lecture  hrs.)    Overv iew \\nof Computer System, Function of Computer System, Input/Output Peripherals, Computer \\nStorages, Systems Software, Data type and Data representation, Computer Arithmetic, Ap - \\nplication software, Computer and Communication, The Internet, Computer security and \\nMaintenances, Ethical use of computer  \\nEvaluation  Method  : End  Semester  Examination  6  COM112 β: Programming Techniques (30 lecture hrs.  & 22.5 practical hrs.)  In-'),\n",
       " 0.40499333)"
      ]
     },
     "execution_count": 414,
     "metadata": {},
     "output_type": "execute_result"
    }
   ],
   "source": [
    "docs[1]"
   ]
  },
  {
   "cell_type": "code",
   "execution_count": 415,
   "metadata": {},
   "outputs": [
    {
     "data": {
      "text/plain": [
       "(Document(page_content='Rule Modeling  \\n• Network  Monitor ing and Acquiring  and Managing  Information  \\n• E-commerce information systems development, Model -drivers design, Goal, Business  \\n& service Modelling  \\n• Computational Geometry, Computer Graphics programming, Design and Analysis of \\nAlgorithms, Graph Theory  \\n• Computati onal Systems Biology, Bioinformatics, Modelling and Simulation, Neural \\nComputing, stochastic modelling  \\n• Embedded  Systems,  reconfigurable  computing,  Bioinformatics  \\n• Knowledge Representation, Ontology, Semantic Web, Ontology Engineering, Mobile \\nApplications  4  1.2 Head of the Department  \\nDr. W.A.  Indika  \\nB.Sc.  (Kelaniya,  S.L.),  M.Sc.  (Kelaniya,  S.L.),  PhD  (UCSC,  S.L.)  \\n \\n1.3 Members  of Academic  Staff  \\n \\n \\nDesignation  Name  Specialization  \\nSenior  \\nLecturer  Mr. S. A. S. Lorensuhewa  \\nB.Sc.  (Colombo, SL) \\nM.Sc.  (Zhejiang,  China)  Comput er Applications,  Text  Mining  and \\nText Classification Data Mining, \\nRule Extraction and  \\nKnowledge  Representation,  \\nApplications  of Machine  Learning  Techniques  \\nDr. W. A. Indika  \\nB.Sc.  (Kelaniya,  S.L.)  \\nM.Sc.  (Kelaniya,  S.L.)  \\nPhD  (UCSC,  S.L)  Knowledge  Represent ation,  \\nOntology, Semantic Web, \\nOntology Engineering, Mobile  \\nApplications  \\nDr. J. A. Jeewanie  \\nB.Sc.  (Kelaniya,  SL)'),\n",
       " 0.41346657)"
      ]
     },
     "execution_count": 415,
     "metadata": {},
     "output_type": "execute_result"
    }
   ],
   "source": [
    "docs[2]"
   ]
  },
  {
   "cell_type": "code",
   "execution_count": 416,
   "metadata": {},
   "outputs": [
    {
     "data": {
      "text/plain": [
       "(Document(page_content='the Bachelor of Computer Science (Honours) Degree courses.  \\nThe Honours degree consists of examinations at the end of each semester or at the end  \\nof course unit for research project.  \\n \\n1.9.1  Attendance  \\nTo be eligible to sit for an examination of a theory or practical course unit, there should \\nminimum attendance of 80%.  If a student fails to meet this requirement for a particular \\ncourse  unit, he  or she will be considered  to have  failed  in that  course  unit (see  section  14.3.1 \\nfor further details).  \\n \\n1.9.2  Examination Criteria \\nEvaluation Methods  \\n• Theory  examination  (written/oral)  \\n• Practical  examination  \\n• Continuous  assessment  \\n• Assignment  \\n• Report  \\n• Presentation  \\n \\nGrading  Syst em \\nAwarding of grades for course units will be done according to the grading system given in  \\nthe Table in section 14.2  \\n \\nPass  in a Course  Unit  \\n• A candidate  who obtains grade  C or  better  for a Course  Unit  will be considered  to \\nhave passed in that Course Unit.  \\n• If a student fails to complete a Course Unit, grade of E will be given unless an accept - \\nable reason is produced.  In the event of given reason is accepted by the Senate on the \\nrecommendation of the Faculty Board, he/she will be considered as sitting for t he first'),\n",
       " 0.42045832)"
      ]
     },
     "execution_count": 416,
     "metadata": {},
     "output_type": "execute_result"
    }
   ],
   "source": [
    "docs[3]"
   ]
  },
  {
   "cell_type": "markdown",
   "metadata": {},
   "source": [
    "## Similarity Check by vector\n"
   ]
  },
  {
   "cell_type": "code",
   "execution_count": 417,
   "metadata": {},
   "outputs": [
    {
     "name": "stdout",
     "output_type": "stream",
     "text": [
      "Lecturer  \n",
      " \n",
      " \n",
      " \n",
      " \n",
      " \n",
      " \n",
      " \n",
      "Probationary \n",
      "Lecturer  Dr. W. A. Mohotti  \n",
      "B.Sc.  IT (Mo ratuwa, SL) \n",
      "M.Sc.  in IT (Moratuwa,  SL) \n",
      "Ph.D.  (QUT,  Australia)  Data  Mining  and Machine  Learning,  \n",
      "Text Clustering, Outlier Detection, and \n",
      "Cluster Evolution, Social Media Analytics  \n",
      "Dr. D. W. C. P. Kumari  \n",
      "B. Sc.  in Comp.  Sci. (UCSC, SL) \n",
      "M.Phil.  (UCSC, SL)  \n",
      "PhD (QUT, Australia) \n",
      "(On Leave)  \n",
      "Mr. K. D. C. G. Kapugama \n",
      "BCS (Ruhuna, SL)  \n",
      "Reading  for PhD  (Monash,  Australia)  \n",
      "(On Leave)  Information  Security,  Process  \n",
      "Analytics, Mathematical \n",
      "Modelling,  Event  log analysis \n",
      "Data Structure & Algorithms \n",
      "Evolutionary Algorithms  \n",
      "Data Mining, Text Mining  \n",
      "Mr. P. D. T. Chathuranga  \n",
      "BCS (Ruhuna,  SL) Natural  Language  Processing,  \n",
      "Sentiment  Analysis,  Text  Mining,  \n",
      "Machine  Learning  \n",
      "Mr. L.L. Gihan  Chathuranga  \n",
      "B.Sc  (Sabaragamuwa,  S.L) Machine  Learning,  Artificial  Neural  \n",
      "Networks,  Artificia l Intelligence,  \n",
      "Data  mining  \n",
      "Ms. H.D.  Supuni  Shashikala  \n",
      "B.Sc.  (UWU,  S.L.),  \n",
      "Reading  for M.Sc.  (Peradeniya,  S.L.)  Machine  Learning,  Feature  Extraction,  \n",
      "Deep  Learning  \n",
      "1.4 Members  of the Academic  Support  Staff  \n",
      " \n",
      "Academic  Supportive  Staff  Members  \n",
      "Designation  Name  \n",
      "Programmer  Cum  Systems  Analyst  Mr. H. G. U. Harankahadeniya\n"
     ]
    }
   ],
   "source": [
    "embedding_vector = embedding.embed_query(query)\n",
    "docs = db.similarity_search_by_vector(embedding_vector)\n",
    "print(docs[0].page_content)"
   ]
  },
  {
   "cell_type": "code",
   "execution_count": 418,
   "metadata": {},
   "outputs": [
    {
     "name": "stdout",
     "output_type": "stream",
     "text": [
      "page_content='B.Sc.  (UWU,  S.L.),  \n",
      "Reading  for M.Sc.  (Peradeniya,  S.L.)  Machine  Learning,  Feature  Extraction,  \n",
      "Deep  Learning  \n",
      "1.4 Members  of the Academic  Support  Staff  \n",
      " \n",
      "Academic  Supportive  Staff  Members  \n",
      "Designation  Name  \n",
      "Programmer  Cum  Systems  Analyst  Mr. H. G. U. Harankahadeniya  \n",
      "Mr. B. H. Saranapala  \n",
      "Mr. A. P. Luwishewa  \n",
      "Instructor  in Computer  Technology  Ms. P. B. N. K. De Silva  \n",
      "Mr. U. V. Malawara  Arachchi \n",
      "Ms. W.P. Priyanthi  \n",
      "Mr. R. Wickramaratne \n",
      "Mr. C.L. Wimalaratne \n",
      "Ms. G.K. Mabula  \n",
      "Mr. L.W.  Wellakkage \n",
      "Mr. G.M.T. Ranjana \n",
      "Mrs.  W. K. Shajith  \n",
      "Miss.  H. G. S. Priyangani  \n",
      " \n",
      " \n",
      "1.5 Course  Units  in Computer  Science  for B.Sc.  (General)  Degree  \n",
      "Level  I - Semester  I \n",
      "COM1111:   Basic  Concepts  of Information  Technology  (15 lecture  hrs.)    Overv iew \n",
      "of Computer System, Function of Computer System, Input/Output Peripherals, Computer \n",
      "Storages, Systems Software, Data type and Data representation, Computer Arithmetic, Ap - \n",
      "plication software, Computer and Communication, The Internet, Computer security and \n",
      "Maintenances, Ethical use of computer  \n",
      "Evaluation  Method  : End  Semester  Examination  6  COM112 β: Programming Techniques (30 lecture hrs.  & 22.5 practical hrs.)  In-'\n"
     ]
    }
   ],
   "source": [
    "print(docs[1])"
   ]
  },
  {
   "cell_type": "code",
   "execution_count": 419,
   "metadata": {},
   "outputs": [
    {
     "name": "stdout",
     "output_type": "stream",
     "text": [
      "page_content='Rule Modeling  \n",
      "• Network  Monitor ing and Acquiring  and Managing  Information  \n",
      "• E-commerce information systems development, Model -drivers design, Goal, Business  \n",
      "& service Modelling  \n",
      "• Computational Geometry, Computer Graphics programming, Design and Analysis of \n",
      "Algorithms, Graph Theory  \n",
      "• Computati onal Systems Biology, Bioinformatics, Modelling and Simulation, Neural \n",
      "Computing, stochastic modelling  \n",
      "• Embedded  Systems,  reconfigurable  computing,  Bioinformatics  \n",
      "• Knowledge Representation, Ontology, Semantic Web, Ontology Engineering, Mobile \n",
      "Applications  4  1.2 Head of the Department  \n",
      "Dr. W.A.  Indika  \n",
      "B.Sc.  (Kelaniya,  S.L.),  M.Sc.  (Kelaniya,  S.L.),  PhD  (UCSC,  S.L.)  \n",
      " \n",
      "1.3 Members  of Academic  Staff  \n",
      " \n",
      " \n",
      "Designation  Name  Specialization  \n",
      "Senior  \n",
      "Lecturer  Mr. S. A. S. Lorensuhewa  \n",
      "B.Sc.  (Colombo, SL) \n",
      "M.Sc.  (Zhejiang,  China)  Comput er Applications,  Text  Mining  and \n",
      "Text Classification Data Mining, \n",
      "Rule Extraction and  \n",
      "Knowledge  Representation,  \n",
      "Applications  of Machine  Learning  Techniques  \n",
      "Dr. W. A. Indika  \n",
      "B.Sc.  (Kelaniya,  S.L.)  \n",
      "M.Sc.  (Kelaniya,  S.L.)  \n",
      "PhD  (UCSC,  S.L)  Knowledge  Represent ation,  \n",
      "Ontology, Semantic Web, \n",
      "Ontology Engineering, Mobile  \n",
      "Applications  \n",
      "Dr. J. A. Jeewanie  \n",
      "B.Sc.  (Kelaniya,  SL)'\n"
     ]
    }
   ],
   "source": [
    "print(docs[2])"
   ]
  },
  {
   "cell_type": "code",
   "execution_count": 420,
   "metadata": {},
   "outputs": [
    {
     "name": "stdout",
     "output_type": "stream",
     "text": [
      "page_content='the Bachelor of Computer Science (Honours) Degree courses.  \n",
      "The Honours degree consists of examinations at the end of each semester or at the end  \n",
      "of course unit for research project.  \n",
      " \n",
      "1.9.1  Attendance  \n",
      "To be eligible to sit for an examination of a theory or practical course unit, there should \n",
      "minimum attendance of 80%.  If a student fails to meet this requirement for a particular \n",
      "course  unit, he  or she will be considered  to have  failed  in that  course  unit (see  section  14.3.1 \n",
      "for further details).  \n",
      " \n",
      "1.9.2  Examination Criteria \n",
      "Evaluation Methods  \n",
      "• Theory  examination  (written/oral)  \n",
      "• Practical  examination  \n",
      "• Continuous  assessment  \n",
      "• Assignment  \n",
      "• Report  \n",
      "• Presentation  \n",
      " \n",
      "Grading  Syst em \n",
      "Awarding of grades for course units will be done according to the grading system given in  \n",
      "the Table in section 14.2  \n",
      " \n",
      "Pass  in a Course  Unit  \n",
      "• A candidate  who obtains grade  C or  better  for a Course  Unit  will be considered  to \n",
      "have passed in that Course Unit.  \n",
      "• If a student fails to complete a Course Unit, grade of E will be given unless an accept - \n",
      "able reason is produced.  In the event of given reason is accepted by the Senate on the \n",
      "recommendation of the Faculty Board, he/she will be considered as sitting for t he first'\n"
     ]
    }
   ],
   "source": [
    "print(docs[3])"
   ]
  },
  {
   "cell_type": "code",
   "execution_count": null,
   "metadata": {},
   "outputs": [],
   "source": []
  },
  {
   "cell_type": "code",
   "execution_count": 421,
   "metadata": {},
   "outputs": [],
   "source": [
    "most_similar_doc = docs[0]\n"
   ]
  },
  {
   "cell_type": "code",
   "execution_count": null,
   "metadata": {},
   "outputs": [],
   "source": [
    "\n"
   ]
  },
  {
   "cell_type": "code",
   "execution_count": null,
   "metadata": {},
   "outputs": [],
   "source": []
  },
  {
   "cell_type": "markdown",
   "metadata": {},
   "source": [
    "## generate the answer"
   ]
  },
  {
   "cell_type": "code",
   "execution_count": 422,
   "metadata": {},
   "outputs": [],
   "source": [
    "from langchain.llms import OpenAI\n",
    "llm = OpenAI(api_key=api_key)"
   ]
  },
  {
   "cell_type": "code",
   "execution_count": 423,
   "metadata": {},
   "outputs": [],
   "source": [
    "from langchain.chains.question_answering import load_qa_chain\n",
    "chain=load_qa_chain(llm=llm,chain_type='stuff')"
   ]
  },
  {
   "cell_type": "code",
   "execution_count": 424,
   "metadata": {},
   "outputs": [],
   "source": [
    "response= chain.run(input_documents=docs,question=query)"
   ]
  },
  {
   "cell_type": "code",
   "execution_count": 425,
   "metadata": {},
   "outputs": [
    {
     "data": {
      "text/plain": [
       "' \\n1. Dr. W. A. Mohotti - Probationary Lecturer \\nB.Sc. IT (Moratuwa, SL) \\nM.Sc. in IT (Moratuwa, SL) \\nPh.D. (QUT, Australia) \\nSpecializations: Data Mining and Machine Learning, Text Clustering, Outlier Detection, Cluster Evolution, Social Media Analytics \\n\\n2. Dr. D. W. C. P. Kumari - Lecturer \\nB.Sc. in Comp. Sci. (UCSC, SL) \\nM.Phil. (UCSC, SL) \\nPhD (QUT, Australia) \\nOn Leave \\nSpecializations: Information Security, Process Analytics, Mathematical Modelling, Event log analysis, Data Structure & Algorithms, Evolutionary Algorithms, Data Mining, Text Mining \\n\\n3. Mr. K. D. C. G. Kapugama - Lecturer \\nBCS (Ruhuna, SL) \\nReading for PhD (Monash, Australia) \\nOn Leave \\nSpecializations: Information Security, Process Analytics, Mathematical Modelling, Event log analysis, Data Structure & Algorithms, Evolutionary Algorithms, Data Mining, Text Mining \\n\\n4. Mr. P. D. T. Chathuranga - Lecturer'"
      ]
     },
     "execution_count": 425,
     "metadata": {},
     "output_type": "execute_result"
    }
   ],
   "source": [
    "response"
   ]
  },
  {
   "cell_type": "code",
   "execution_count": 426,
   "metadata": {},
   "outputs": [
    {
     "name": "stdout",
     "output_type": "stream",
     "text": [
      " \n",
      "1. Dr. W. A. Mohotti - Probationary Lecturer \n",
      "B.Sc. IT (Moratuwa, SL) \n",
      "M.Sc. in IT (Moratuwa, SL) \n",
      "Ph.D. (QUT, Australia) \n",
      "Specializations: Data Mining and Machine Learning, Text Clustering, Outlier Detection, Cluster Evolution, Social Media Analytics \n",
      "\n",
      "2. Dr. D. W. C. P. Kumari - Lecturer \n",
      "B.Sc. in Comp. Sci. (UCSC, SL) \n",
      "M.Phil. (UCSC, SL) \n",
      "PhD (QUT, Australia) \n",
      "On Leave \n",
      "Specializations: Information Security, Process Analytics, Mathematical Modelling, Event log analysis, Data Structure & Algorithms, Evolutionary Algorithms, Data Mining, Text Mining \n",
      "\n",
      "3. Mr. K. D. C. G. Kapugama - Lecturer \n",
      "BCS (Ruhuna, SL) \n",
      "Reading for PhD (Monash, Australia) \n",
      "On Leave \n",
      "Specializations: Information Security, Process Analytics, Mathematical Modelling, Event log analysis, Data Structure & Algorithms, Evolutionary Algorithms, Data Mining, Text Mining \n",
      "\n",
      "4. Mr. P. D. T. Chathuranga - Lecturer\n"
     ]
    }
   ],
   "source": [
    "print(response)"
   ]
  },
  {
   "cell_type": "code",
   "execution_count": null,
   "metadata": {},
   "outputs": [],
   "source": []
  }
 ],
 "metadata": {
  "kernelspec": {
   "display_name": "Python 3",
   "language": "python",
   "name": "python3"
  },
  "language_info": {
   "codemirror_mode": {
    "name": "ipython",
    "version": 3
   },
   "file_extension": ".py",
   "mimetype": "text/x-python",
   "name": "python",
   "nbconvert_exporter": "python",
   "pygments_lexer": "ipython3",
   "version": "3.11.0"
  }
 },
 "nbformat": 4,
 "nbformat_minor": 2
}
