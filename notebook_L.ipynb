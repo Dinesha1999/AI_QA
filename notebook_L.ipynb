{
 "cells": [
  {
   "cell_type": "markdown",
   "metadata": {},
   "source": [
    "## Import Libraries"
   ]
  },
  {
   "cell_type": "code",
   "execution_count": 87,
   "metadata": {},
   "outputs": [],
   "source": [
    "import os\n",
    "import sys\n"
   ]
  },
  {
   "cell_type": "markdown",
   "metadata": {},
   "source": [
    "## Read The PDF"
   ]
  },
  {
   "cell_type": "code",
   "execution_count": 88,
   "metadata": {},
   "outputs": [],
   "source": [
    "\n",
    "data='data.pdf'\n"
   ]
  },
  {
   "cell_type": "code",
   "execution_count": 89,
   "metadata": {},
   "outputs": [
    {
     "data": {
      "text/plain": [
       "'data.pdf'"
      ]
     },
     "execution_count": 89,
     "metadata": {},
     "output_type": "execute_result"
    }
   ],
   "source": [
    "data"
   ]
  },
  {
   "cell_type": "markdown",
   "metadata": {},
   "source": [
    "## Extract PDF data"
   ]
  },
  {
   "cell_type": "code",
   "execution_count": 90,
   "metadata": {},
   "outputs": [],
   "source": [
    "import PyPDF2\n",
    "from docx import Document"
   ]
  },
  {
   "cell_type": "code",
   "execution_count": 91,
   "metadata": {},
   "outputs": [],
   "source": [
    "def extract_text_pdf(pdf):\n",
    "    text = \"\"\n",
    "    reader = PyPDF2.PdfReader(pdf)\n",
    "    for page in reader.pages:\n",
    "        text += page.extract_text() or \"\"\n",
    "    return text\n"
   ]
  },
  {
   "cell_type": "code",
   "execution_count": 92,
   "metadata": {},
   "outputs": [],
   "source": [
    "def extract_text_docx(docx):\n",
    "    doc = Document(docx)\n",
    "    text = \"\"\n",
    "    for paragraph in doc.paragraphs:\n",
    "        text += paragraph.text + \"\\n\"\n",
    "    return text"
   ]
  },
  {
   "cell_type": "code",
   "execution_count": 93,
   "metadata": {},
   "outputs": [],
   "source": [
    "def extract(doc):\n",
    "    _, file_extension = doc.split('.')\n",
    "    print(file_extension)\n",
    "    if file_extension == 'pdf':\n",
    "        return extract_text_pdf(doc)\n",
    "    elif file_extension == 'docx':\n",
    "        return extract_text_docx(doc)\n",
    "    else:\n",
    "        raise ValueError(\"Unsupported file format\")"
   ]
  },
  {
   "cell_type": "code",
   "execution_count": 94,
   "metadata": {},
   "outputs": [
    {
     "name": "stdout",
     "output_type": "stream",
     "text": [
      "pdf\n"
     ]
    }
   ],
   "source": [
    "text_data=extract(data)"
   ]
  },
  {
   "cell_type": "code",
   "execution_count": 95,
   "metadata": {},
   "outputs": [],
   "source": [
    "#print(text_data)   un comment and run this to view pdf in text fromat"
   ]
  },
  {
   "cell_type": "markdown",
   "metadata": {},
   "source": [
    "## Divide text data into Chunks"
   ]
  },
  {
   "cell_type": "code",
   "execution_count": 96,
   "metadata": {},
   "outputs": [],
   "source": [
    "# Code here\n",
    "from langchain.text_splitter import CharacterTextSplitter"
   ]
  },
  {
   "cell_type": "code",
   "execution_count": 97,
   "metadata": {},
   "outputs": [
    {
     "data": {
      "text/plain": [
       "' important, GPT-3.5 has a maximum token limit of 4096 tokens per input sequence. This means that any \\n input longer than 4096 tokens would need to be split into multiple segments for processing. '"
      ]
     },
     "execution_count": 97,
     "metadata": {},
     "output_type": "execute_result"
    }
   ],
   "source": [
    "text_splitter=CharacterTextSplitter(\n",
    "    separator=\"\\n\",\n",
    "    chunk_size=1300,\n",
    "    chunk_overlap=300,\n",
    "    length_function=len,\n",
    ")\n",
    "\n",
    "''' important, GPT-3.5 has a maximum token limit of 4096 tokens per input sequence. This means that any \n",
    " input longer than 4096 tokens would need to be split into multiple segments for processing. '''"
   ]
  },
  {
   "cell_type": "code",
   "execution_count": 98,
   "metadata": {},
   "outputs": [],
   "source": [
    "chunks=text_splitter.split_text(text_data)"
   ]
  },
  {
   "cell_type": "code",
   "execution_count": 99,
   "metadata": {},
   "outputs": [
    {
     "data": {
      "text/plain": [
       "61"
      ]
     },
     "execution_count": 99,
     "metadata": {},
     "output_type": "execute_result"
    }
   ],
   "source": [
    "len(chunks)"
   ]
  },
  {
   "cell_type": "code",
   "execution_count": 100,
   "metadata": {},
   "outputs": [
    {
     "name": "stdout",
     "output_type": "stream",
     "text": [
      "(a) A minimum  GPA  of 3.30  for Honours  Degree  Course  Units,  \n",
      "(b) A minimum  GPA  of 3.30  for all course  units,  and \n",
      "(c) Grades  of A- or better  for Honours  Degree  Course  Units  aggregating  to a mini - \n",
      "mum of 12 credits  23  (iii) Second  Class  (Lower  Division)  \n",
      "(a) A minimum  GPA  of 3.00  for Honours  Degree  Course  Units,  and \n",
      "(b) A minimum  GPA  of 3.00  for all course  units\n"
     ]
    }
   ],
   "source": [
    "print(chunks[60])"
   ]
  },
  {
   "cell_type": "markdown",
   "metadata": {},
   "source": [
    "## Text Embedding"
   ]
  },
  {
   "cell_type": "code",
   "execution_count": 111,
   "metadata": {},
   "outputs": [],
   "source": [
    "import os\n",
    "from langchain_community.vectorstores import FAISS\n",
    "from dotenv import load_dotenv,find_dotenv\n",
    "load_dotenv(find_dotenv())\n",
    "api_key=os.environ.get(\"OPEN_AI_KEY\")\n",
    "embedding=OpenAIEmbeddings(openai_api_key=api_key)"
   ]
  },
  {
   "cell_type": "code",
   "execution_count": 108,
   "metadata": {},
   "outputs": [],
   "source": [
    "db=FAISS.from_texts(texts=chunks,embedding=embedding)"
   ]
  },
  {
   "cell_type": "markdown",
   "metadata": {},
   "source": [
    "## Similarity Check"
   ]
  },
  {
   "cell_type": "code",
   "execution_count": 116,
   "metadata": {},
   "outputs": [],
   "source": [
    "query = \"what are the Minimum Requirement for the Completion of the Bachelor of Computer Science Honours Degree ?\"\n",
    "docs = db.similarity_search(query)"
   ]
  },
  {
   "cell_type": "code",
   "execution_count": 121,
   "metadata": {},
   "outputs": [
    {
     "data": {
      "text/plain": [
       "4"
      ]
     },
     "execution_count": 121,
     "metadata": {},
     "output_type": "execute_result"
    }
   ],
   "source": [
    "len(docs)"
   ]
  },
  {
   "cell_type": "code",
   "execution_count": 120,
   "metadata": {},
   "outputs": [
    {
     "name": "stdout",
     "output_type": "stream",
     "text": [
      "page_content='(i) a minimum  Overall  Average  of 3.00  and \n",
      "(ii) grades  of B or better  in Course  Units  aggregating  to a minimum  of 40 credits.  \n",
      " \n",
      "Other  Requirements  \n",
      "In addition to the examination criteria stated above, the candidate have to pass in English \n",
      "proficiency LevelI and Level II examinations in order to release the final results of the \n",
      "Bachelor of Computer Science degree.  \n",
      " \n",
      "1.9.4  Minimum Requirement for the Completion of the Bachelor of Computer \n",
      "Science (Honours) Degree  \n",
      "A student shall be deemed to have passed the Bachelor of Computer Sci ence (Honours) \n",
      "Degree Examination if he/she has obtained following:  \n",
      "(a) A minimum  of 120 credits  with  at least  30 credits  from  the fourth  academic  year  of \n",
      "Bachelor of Computer Science (Honours) degree course units,  \n",
      "(b) An overall  minimum  Grade  Point  Average  (GPA)  of 2.5 for all course  units  followed \n",
      "throughout the four academic years of the degree programme and  \n",
      "(c) A grade  not inferior  to C  for the fourth year  Individual  Research  Project.  \n",
      "(d) Grade  of C or better  to a minimum  of 70%  credits  from  the fourth  year  course  units \n",
      " \n",
      "Award  of Honours  \n",
      "A student who has fulfilled all the conditions given above shall be awarded Honours, if he/she'\n"
     ]
    }
   ],
   "source": [
    "print(docs[0])"
   ]
  },
  {
   "cell_type": "code",
   "execution_count": null,
   "metadata": {},
   "outputs": [],
   "source": []
  },
  {
   "cell_type": "markdown",
   "metadata": {},
   "source": [
    "## Similarity Check by vector\n"
   ]
  },
  {
   "cell_type": "code",
   "execution_count": 122,
   "metadata": {},
   "outputs": [
    {
     "name": "stdout",
     "output_type": "stream",
     "text": [
      "(i) a minimum  Overall  Average  of 3.00  and \n",
      "(ii) grades  of B or better  in Course  Units  aggregating  to a minimum  of 40 credits.  \n",
      " \n",
      "Other  Requirements  \n",
      "In addition to the examination criteria stated above, the candidate have to pass in English \n",
      "proficiency LevelI and Level II examinations in order to release the final results of the \n",
      "Bachelor of Computer Science degree.  \n",
      " \n",
      "1.9.4  Minimum Requirement for the Completion of the Bachelor of Computer \n",
      "Science (Honours) Degree  \n",
      "A student shall be deemed to have passed the Bachelor of Computer Sci ence (Honours) \n",
      "Degree Examination if he/she has obtained following:  \n",
      "(a) A minimum  of 120 credits  with  at least  30 credits  from  the fourth  academic  year  of \n",
      "Bachelor of Computer Science (Honours) degree course units,  \n",
      "(b) An overall  minimum  Grade  Point  Average  (GPA)  of 2.5 for all course  units  followed \n",
      "throughout the four academic years of the degree programme and  \n",
      "(c) A grade  not inferior  to C  for the fourth year  Individual  Research  Project.  \n",
      "(d) Grade  of C or better  to a minimum  of 70%  credits  from  the fourth  year  course  units \n",
      " \n",
      "Award  of Honours  \n",
      "A student who has fulfilled all the conditions given above shall be awarded Honours, if he/she\n"
     ]
    }
   ],
   "source": [
    "embedding_vector = embedding.embed_query(query)\n",
    "docs = db.similarity_search_by_vector(embedding_vector)\n",
    "print(docs[0].page_content)"
   ]
  }
 ],
 "metadata": {
  "kernelspec": {
   "display_name": "Python 3",
   "language": "python",
   "name": "python3"
  },
  "language_info": {
   "codemirror_mode": {
    "name": "ipython",
    "version": 3
   },
   "file_extension": ".py",
   "mimetype": "text/x-python",
   "name": "python",
   "nbconvert_exporter": "python",
   "pygments_lexer": "ipython3",
   "version": "3.11.0"
  }
 },
 "nbformat": 4,
 "nbformat_minor": 2
}
